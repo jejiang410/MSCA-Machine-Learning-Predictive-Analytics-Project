{
 "cells": [
  {
   "cell_type": "code",
   "execution_count": 1,
   "metadata": {
    "executionInfo": {
     "elapsed": 492,
     "status": "ok",
     "timestamp": 1607049412241,
     "user": {
      "displayName": "Yun Huang",
      "photoUrl": "",
      "userId": "12504482687440518580"
     },
     "user_tz": 360
    },
    "id": "Lo52rMdaudNA"
   },
   "outputs": [],
   "source": [
    "import pandas as pd\n",
    "import numpy as np\n",
    "import matplotlib.pyplot as plt\n",
    "from sklearn.model_selection import train_test_split\n",
    "from sklearn.preprocessing import StandardScaler\n",
    "import seaborn as sns\n",
    "from sklearn.metrics import confusion_matrix\n",
    "from sklearn.metrics import classification_report\n",
    "from sklearn.metrics import roc_auc_score\n",
    "from sklearn.metrics import roc_curve\n",
    "from sklearn.model_selection import RandomizedSearchCV\n",
    "from sklearn.svm import LinearSVC, SVC\n",
    "from sklearn import metrics as skm"
   ]
  },
  {
   "cell_type": "code",
   "execution_count": 2,
   "metadata": {
    "executionInfo": {
     "elapsed": 12435,
     "status": "ok",
     "timestamp": 1607049424213,
     "user": {
      "displayName": "Yun Huang",
      "photoUrl": "",
      "userId": "12504482687440518580"
     },
     "user_tz": 360
    },
    "id": "XLoke_3Vu3Ij"
   },
   "outputs": [],
   "source": [
    "# Load the data\n",
    "train= pd.read_csv(\"train.csv\",index_col = 0)\n",
    "validation=pd.read_csv(\"validation.csv\",index_col = 0)"
   ]
  },
  {
   "cell_type": "code",
   "execution_count": 3,
   "metadata": {
    "colab": {
     "base_uri": "https://localhost:8080/"
    },
    "executionInfo": {
     "elapsed": 12430,
     "status": "ok",
     "timestamp": 1607049424214,
     "user": {
      "displayName": "Yun Huang",
      "photoUrl": "",
      "userId": "12504482687440518580"
     },
     "user_tz": 360
    },
    "id": "5WR2TdNFbx4s",
    "outputId": "f312fd65-85f4-48ed-eed0-bddada2d5304"
   },
   "outputs": [
    {
     "name": "stdout",
     "output_type": "stream",
     "text": [
      "Train shape: (243760, 57)\n",
      "Validation shape: (60941, 57)\n"
     ]
    }
   ],
   "source": [
    "# Check the shape of train and validation set\n",
    "print(\"Train shape:\", train.shape)\n",
    "print(\"Validation shape:\", validation.shape)"
   ]
  },
  {
   "cell_type": "markdown",
   "metadata": {
    "id": "A2hWEqcBvpMk"
   },
   "source": [
    "## Impute Missing Values"
   ]
  },
  {
   "cell_type": "markdown",
   "metadata": {
    "id": "BBzqqPK_v6nB"
   },
   "source": [
    "### Input columns: OWN_CAR_AGE, OCCUPATION_TYPE\n",
    "Columns: ONW_CAR_AGE"
   ]
  },
  {
   "cell_type": "code",
   "execution_count": 4,
   "metadata": {
    "colab": {
     "base_uri": "https://localhost:8080/"
    },
    "executionInfo": {
     "elapsed": 12425,
     "status": "ok",
     "timestamp": 1607049424214,
     "user": {
      "displayName": "Yun Huang",
      "photoUrl": "",
      "userId": "12504482687440518580"
     },
     "user_tz": 360
    },
    "id": "6BlKrRRev0Ck",
    "outputId": "cb9c15d4-de17-4a0d-92c6-a647ffe0bc8b"
   },
   "outputs": [
    {
     "name": "stdout",
     "output_type": "stream",
     "text": [
      "Car age for train: 12.099066321305946\n",
      "Car age for validation: 11.959967082970278\n"
     ]
    }
   ],
   "source": [
    "# Calculate the mean value of car age when 'FLAG_OWN_CAR' = Y for train and validation\n",
    "mean_train = train['OWN_CAR_AGE'].mean()\n",
    "mean_validation = validation['OWN_CAR_AGE'].mean()\n",
    "print(\"Car age for train:\", mean_train)\n",
    "print(\"Car age for validation:\", mean_validation)"
   ]
  },
  {
   "cell_type": "code",
   "execution_count": 5,
   "metadata": {
    "executionInfo": {
     "elapsed": 12419,
     "status": "ok",
     "timestamp": 1607049424215,
     "user": {
      "displayName": "Yun Huang",
      "photoUrl": "",
      "userId": "12504482687440518580"
     },
     "user_tz": 360
    },
    "id": "j1o3M856yW5k"
   },
   "outputs": [],
   "source": [
    "validation['OWN_CAR_AGE'] = validation['OWN_CAR_AGE'].fillna(validation['FLAG_OWN_CAR'])\n",
    "validation['OWN_CAR_AGE'].replace({'N':-1, 'Y':12}, inplace = True)"
   ]
  },
  {
   "cell_type": "code",
   "execution_count": 6,
   "metadata": {
    "executionInfo": {
     "elapsed": 12414,
     "status": "ok",
     "timestamp": 1607049424216,
     "user": {
      "displayName": "Yun Huang",
      "photoUrl": "",
      "userId": "12504482687440518580"
     },
     "user_tz": 360
    },
    "id": "NGkGPERxsMpn"
   },
   "outputs": [],
   "source": [
    "train['OWN_CAR_AGE'] = train['OWN_CAR_AGE'].fillna(train['FLAG_OWN_CAR'])\n",
    "train['OWN_CAR_AGE'].replace({'N':-1, 'Y':12}, inplace = True)"
   ]
  },
  {
   "cell_type": "code",
   "execution_count": 7,
   "metadata": {
    "colab": {
     "base_uri": "https://localhost:8080/"
    },
    "executionInfo": {
     "elapsed": 12664,
     "status": "ok",
     "timestamp": 1607049424472,
     "user": {
      "displayName": "Yun Huang",
      "photoUrl": "",
      "userId": "12504482687440518580"
     },
     "user_tz": 360
    },
    "id": "qhRekpSjyO4F",
    "outputId": "d059842f-a0d3-43d5-fabb-fad6fef89fb6"
   },
   "outputs": [
    {
     "name": "stdout",
     "output_type": "stream",
     "text": [
      "Missing values rate for train: 0.0\n",
      "Missing values rate for validation: 0.0\n"
     ]
    }
   ],
   "source": [
    "# Check the missing value rate of column OWN_CAR_AGE\n",
    "print(\"Missing values rate for train:\", train['OWN_CAR_AGE'].isna().sum()/len(train))\n",
    "print(\"Missing values rate for validation:\", validation['OWN_CAR_AGE'].isna().sum()/len(validation))"
   ]
  },
  {
   "cell_type": "markdown",
   "metadata": {
    "id": "oWXZH8HzyiDc"
   },
   "source": [
    "##### Column OCCUPATION_TYPE"
   ]
  },
  {
   "cell_type": "code",
   "execution_count": 8,
   "metadata": {
    "executionInfo": {
     "elapsed": 12660,
     "status": "ok",
     "timestamp": 1607049424473,
     "user": {
      "displayName": "Yun Huang",
      "photoUrl": "",
      "userId": "12504482687440518580"
     },
     "user_tz": 360
    },
    "id": "6ncDeRwLyee9"
   },
   "outputs": [],
   "source": [
    "# If NAME_INCOME_TYPE == Pensioner, fill na in OCCUPATION_TYPE with Retired for train and validation\n",
    "train.loc[train['NAME_INCOME_TYPE'] == 'Pensioner', 'OCCUPATION_TYPE'] = 'Retired'\n",
    "validation.loc[validation['NAME_INCOME_TYPE'] == 'Pensioner', 'OCCUPATION_TYPE'] = 'Retired'"
   ]
  },
  {
   "cell_type": "code",
   "execution_count": 9,
   "metadata": {
    "colab": {
     "base_uri": "https://localhost:8080/"
    },
    "executionInfo": {
     "elapsed": 12654,
     "status": "ok",
     "timestamp": 1607049424473,
     "user": {
      "displayName": "Yun Huang",
      "photoUrl": "",
      "userId": "12504482687440518580"
     },
     "user_tz": 360
    },
    "id": "B69X18D7yt7d",
    "outputId": "3c686fdd-6255-4bf6-cd04-33b29a309e6f"
   },
   "outputs": [
    {
     "name": "stdout",
     "output_type": "stream",
     "text": [
      "Missing values rate for train: 0.13313915326550704\n",
      "Missing values rate for validation: 0.13391641095485798\n"
     ]
    }
   ],
   "source": [
    "# Check the missing values rate in OCCUPATION_TYPE\n",
    "print(\"Missing values rate for train:\", train['OCCUPATION_TYPE'].isna().sum()/len(train))\n",
    "print(\"Missing values rate for validation:\", validation['OCCUPATION_TYPE'].isna().sum()/len(validation))"
   ]
  },
  {
   "cell_type": "code",
   "execution_count": 10,
   "metadata": {
    "colab": {
     "base_uri": "https://localhost:8080/"
    },
    "executionInfo": {
     "elapsed": 12650,
     "status": "ok",
     "timestamp": 1607049424474,
     "user": {
      "displayName": "Yun Huang",
      "photoUrl": "",
      "userId": "12504482687440518580"
     },
     "user_tz": 360
    },
    "id": "Cutpe63aywvx",
    "outputId": "a4074d0a-5e07-44e5-eae1-d73ef9df3b2a"
   },
   "outputs": [
    {
     "name": "stdout",
     "output_type": "stream",
     "text": [
      "Most common occupation type for train: Retired\n",
      "Most common occupation type for validation: Retired\n"
     ]
    }
   ],
   "source": [
    "# Most common occupation type in train and validation\n",
    "print(\"Most common occupation type for train:\", train['OCCUPATION_TYPE'].value_counts().index[0])\n",
    "print(\"Most common occupation type for validation:\", validation['OCCUPATION_TYPE'].value_counts().index[0])"
   ]
  },
  {
   "cell_type": "code",
   "execution_count": 11,
   "metadata": {
    "colab": {
     "base_uri": "https://localhost:8080/"
    },
    "executionInfo": {
     "elapsed": 12644,
     "status": "ok",
     "timestamp": 1607049424474,
     "user": {
      "displayName": "Yun Huang",
      "photoUrl": "",
      "userId": "12504482687440518580"
     },
     "user_tz": 360
    },
    "id": "S8Wj6idnyznT",
    "outputId": "c6e6b228-7327-4135-c825-0284178b4e89"
   },
   "outputs": [
    {
     "name": "stdout",
     "output_type": "stream",
     "text": [
      "Missing values for train: 0\n",
      "Missing values for validation: 0\n"
     ]
    }
   ],
   "source": [
    "# Fill the na in train and validation\n",
    "train['OCCUPATION_TYPE'].fillna('Retired', inplace = True)\n",
    "validation['OCCUPATION_TYPE'].fillna('Retired', inplace = True)\n",
    "\n",
    "# Checking missing values\n",
    "print(\"Missing values for train:\", train['OCCUPATION_TYPE'].isna().sum())\n",
    "print(\"Missing values for validation:\", validation['OCCUPATION_TYPE'].isna().sum())"
   ]
  },
  {
   "cell_type": "markdown",
   "metadata": {
    "id": "DglA9kh5zmJ9"
   },
   "source": [
    "#### Inpute other columns"
   ]
  },
  {
   "cell_type": "code",
   "execution_count": 12,
   "metadata": {
    "colab": {
     "base_uri": "https://localhost:8080/"
    },
    "executionInfo": {
     "elapsed": 12640,
     "status": "ok",
     "timestamp": 1607049424475,
     "user": {
      "displayName": "Yun Huang",
      "photoUrl": "",
      "userId": "12504482687440518580"
     },
     "user_tz": 360
    },
    "id": "ps5S6TUazjEX",
    "outputId": "8552d277-2694-4412-bedf-9b5c9881ab9a"
   },
   "outputs": [
    {
     "name": "stdout",
     "output_type": "stream",
     "text": [
      "                          missing value rate\n",
      "NAME_TYPE_SUITE                           57\n",
      "EXT_SOURCE_2                              42\n",
      "OBS_30_CNT_SOCIAL_CIRCLE                  33\n",
      "DEF_30_CNT_SOCIAL_CIRCLE                  33\n",
      "TARGET                                     0\n",
      "FLAG_DOCUMENT_8                            0\n",
      "LIVE_CITY_NOT_WORK_CITY                    0\n",
      "ORGANIZATION_TYPE                          0\n",
      "DAYS_LAST_PHONE_CHANGE                     0\n",
      "FLAG_DOCUMENT_2                            0\n",
      "FLAG_DOCUMENT_3                            0\n",
      "FLAG_DOCUMENT_4                            0\n",
      "                          missing value rate\n",
      "NAME_TYPE_SUITE                           13\n",
      "EXT_SOURCE_2                              10\n",
      "OBS_30_CNT_SOCIAL_CIRCLE                   3\n",
      "DEF_30_CNT_SOCIAL_CIRCLE                   3\n",
      "TARGET                                     0\n",
      "FLAG_DOCUMENT_8                            0\n",
      "LIVE_CITY_NOT_WORK_CITY                    0\n",
      "ORGANIZATION_TYPE                          0\n",
      "DAYS_LAST_PHONE_CHANGE                     0\n",
      "FLAG_DOCUMENT_2                            0\n"
     ]
    }
   ],
   "source": [
    "missing_train = pd.DataFrame(train.isnull().sum(), columns =['missing value rate'])\n",
    "print(missing_train.sort_values(ascending = False, by = 'missing value rate')[0:12])\n",
    "\n",
    "missing_validation = pd.DataFrame(validation.isnull().sum(), columns =['missing value rate'])\n",
    "print(missing_validation.sort_values(ascending = False, by = 'missing value rate')[0:10])"
   ]
  },
  {
   "cell_type": "code",
   "execution_count": 13,
   "metadata": {
    "executionInfo": {
     "elapsed": 12853,
     "status": "ok",
     "timestamp": 1607049424694,
     "user": {
      "displayName": "Yun Huang",
      "photoUrl": "",
      "userId": "12504482687440518580"
     },
     "user_tz": 360
    },
    "id": "ZDkk7Tu-zcWh"
   },
   "outputs": [],
   "source": [
    "# Define functions to fill missing values in categorical variables and numerical variables\n",
    "def fill_missing(x, categorical = False):\n",
    "    if categorical == True:\n",
    "        val_train = train[x].value_counts().index[0]\n",
    "        val_validation = validation[x].value_counts().index[0]\n",
    "    \n",
    "        print(\"For column {}:\".format(x))\n",
    "        print(\"Most common values for train:\", val_train)\n",
    "        print(\"Most common values for test:\", val_validation)\n",
    "    \n",
    "        # Fill the na in train and validation\n",
    "        train[x].fillna(val_train, inplace = True)\n",
    "        validation[x].fillna(val_validation, inplace = True)\n",
    "    \n",
    "        # Checking missing values\n",
    "        print(\"Missing values left in train:\", train[x].isna().sum())\n",
    "        print(\"Missing values left in validation:\", validation[x].isna().sum())\n",
    "    else:\n",
    "        median_train = train[x].median()\n",
    "        median_validation = validation[x].median()\n",
    "\n",
    "        print(\"For column {}:\".format(x))\n",
    "        print(\"Median value for train:\", median_train)\n",
    "        print(\"Median value for validation:\", median_validation)\n",
    "\n",
    "        # Fill missing value for train and validation\n",
    "        train[x].fillna(median_train, inplace = True)\n",
    "        validation[x].fillna(median_validation, inplace = True)\n",
    "    \n",
    "        # Checking missing values\n",
    "        print(\"Missing values left in train:\", train[x].isna().sum())\n",
    "        print(\"Missing values left in validation:\", validation[x].isna().sum())"
   ]
  },
  {
   "cell_type": "markdown",
   "metadata": {
    "id": "FsrVUCAaz_rT"
   },
   "source": [
    "##### Column: NAME_TYPE_SUITE\n",
    "\n",
    "```\n",
    "# This is formatted as code\n",
    "```\n",
    "\n"
   ]
  },
  {
   "cell_type": "code",
   "execution_count": 14,
   "metadata": {
    "colab": {
     "base_uri": "https://localhost:8080/"
    },
    "executionInfo": {
     "elapsed": 12849,
     "status": "ok",
     "timestamp": 1607049424696,
     "user": {
      "displayName": "Yun Huang",
      "photoUrl": "",
      "userId": "12504482687440518580"
     },
     "user_tz": 360
    },
    "id": "3WHBnakzz9Ta",
    "outputId": "7aece72d-89b5-4b37-aa1c-cd7673f2cc76"
   },
   "outputs": [
    {
     "name": "stdout",
     "output_type": "stream",
     "text": [
      "For column NAME_TYPE_SUITE:\n",
      "Most common values for train: Unaccompanied\n",
      "Most common values for test: Unaccompanied\n",
      "Missing values left in train: 0\n",
      "Missing values left in validation: 0\n"
     ]
    }
   ],
   "source": [
    "# Fill column NAME_TYPE_SUITE\n",
    "fill_missing('NAME_TYPE_SUITE', categorical = True)"
   ]
  },
  {
   "cell_type": "markdown",
   "metadata": {
    "id": "UEBVwKq10H9o"
   },
   "source": [
    "##### Column: EXT_SOURCE_2 "
   ]
  },
  {
   "cell_type": "code",
   "execution_count": 15,
   "metadata": {
    "colab": {
     "base_uri": "https://localhost:8080/"
    },
    "executionInfo": {
     "elapsed": 12843,
     "status": "ok",
     "timestamp": 1607049424696,
     "user": {
      "displayName": "Yun Huang",
      "photoUrl": "",
      "userId": "12504482687440518580"
     },
     "user_tz": 360
    },
    "id": "UOMePOAV0GNi",
    "outputId": "a77b2447-7c3d-443c-acfe-5016b146daa6"
   },
   "outputs": [
    {
     "name": "stdout",
     "output_type": "stream",
     "text": [
      "For column EXT_SOURCE_2:\n",
      "Median value for train: 0.5657357988357584\n",
      "Median value for validation: 0.5660312575232652\n",
      "Missing values left in train: 0\n",
      "Missing values left in validation: 0\n"
     ]
    }
   ],
   "source": [
    "# Fill column EXT_SOURCE_2\n",
    "fill_missing('EXT_SOURCE_2')"
   ]
  },
  {
   "cell_type": "markdown",
   "metadata": {
    "id": "IMS8uZVI0RDT"
   },
   "source": [
    "##### Column: OBS_30_CNT_SOCIAL_CIRCLE"
   ]
  },
  {
   "cell_type": "code",
   "execution_count": 16,
   "metadata": {
    "colab": {
     "base_uri": "https://localhost:8080/"
    },
    "executionInfo": {
     "elapsed": 12837,
     "status": "ok",
     "timestamp": 1607049424696,
     "user": {
      "displayName": "Yun Huang",
      "photoUrl": "",
      "userId": "12504482687440518580"
     },
     "user_tz": 360
    },
    "id": "jhUhgrJW0Tdo",
    "outputId": "e73353f3-c4dd-426d-b6eb-e0e17e956ad2"
   },
   "outputs": [
    {
     "name": "stdout",
     "output_type": "stream",
     "text": [
      "For column OBS_30_CNT_SOCIAL_CIRCLE:\n",
      "Median value for train: 0.0\n",
      "Median value for validation: 0.0\n",
      "Missing values left in train: 0\n",
      "Missing values left in validation: 0\n"
     ]
    }
   ],
   "source": [
    "# Fill column OBS_30_CNT_SOCIAL_CIRCLE\n",
    "fill_missing('OBS_30_CNT_SOCIAL_CIRCLE')"
   ]
  },
  {
   "cell_type": "markdown",
   "metadata": {
    "id": "VbUdYWYV0iyn"
   },
   "source": [
    "##### Column: DEF_30_CNT_SOCIAL_CIRCLE"
   ]
  },
  {
   "cell_type": "code",
   "execution_count": 17,
   "metadata": {
    "colab": {
     "base_uri": "https://localhost:8080/"
    },
    "executionInfo": {
     "elapsed": 12833,
     "status": "ok",
     "timestamp": 1607049424697,
     "user": {
      "displayName": "Yun Huang",
      "photoUrl": "",
      "userId": "12504482687440518580"
     },
     "user_tz": 360
    },
    "id": "uZndtx2H0WVe",
    "outputId": "82ab60c2-4568-494c-93a9-0c371cdc91b4"
   },
   "outputs": [
    {
     "name": "stdout",
     "output_type": "stream",
     "text": [
      "For column DEF_30_CNT_SOCIAL_CIRCLE:\n",
      "Median value for train: 0.0\n",
      "Median value for validation: 0.0\n",
      "Missing values left in train: 0\n",
      "Missing values left in validation: 0\n"
     ]
    }
   ],
   "source": [
    "# Fill column DEF_30_CNT_SOCIAL_CIRCLE\n",
    "fill_missing('DEF_30_CNT_SOCIAL_CIRCLE')"
   ]
  },
  {
   "cell_type": "code",
   "execution_count": 18,
   "metadata": {
    "colab": {
     "base_uri": "https://localhost:8080/"
    },
    "executionInfo": {
     "elapsed": 13136,
     "status": "ok",
     "timestamp": 1607049425006,
     "user": {
      "displayName": "Yun Huang",
      "photoUrl": "",
      "userId": "12504482687440518580"
     },
     "user_tz": 360
    },
    "id": "JnjLMaSw0qan",
    "outputId": "45a5b7a6-b9b6-4b3f-a97a-c28674285e47"
   },
   "outputs": [
    {
     "name": "stdout",
     "output_type": "stream",
     "text": [
      "Check missing values in train: False\n",
      "Check missing values in validation: False\n"
     ]
    }
   ],
   "source": [
    "print(\"Check missing values in train:\", train.isna().values.any())\n",
    "print(\"Check missing values in validation:\", validation.isna().values.any())"
   ]
  },
  {
   "cell_type": "markdown",
   "metadata": {
    "id": "17pvAziS0npk"
   },
   "source": [
    "### Deal with Categorical Variable"
   ]
  },
  {
   "cell_type": "code",
   "execution_count": 19,
   "metadata": {
    "colab": {
     "base_uri": "https://localhost:8080/"
    },
    "executionInfo": {
     "elapsed": 13131,
     "status": "ok",
     "timestamp": 1607049425006,
     "user": {
      "displayName": "Yun Huang",
      "photoUrl": "",
      "userId": "12504482687440518580"
     },
     "user_tz": 360
    },
    "id": "ML3_2AFi0zUs",
    "outputId": "7a7c025e-f8ca-4d93-846d-46bdb94626b4"
   },
   "outputs": [
    {
     "data": {
      "text/plain": [
       "Index(['NAME_CONTRACT_TYPE', 'CODE_GENDER', 'FLAG_OWN_CAR', 'FLAG_OWN_REALTY',\n",
       "       'NAME_TYPE_SUITE', 'NAME_INCOME_TYPE', 'NAME_EDUCATION_TYPE',\n",
       "       'NAME_FAMILY_STATUS', 'NAME_HOUSING_TYPE', 'OCCUPATION_TYPE',\n",
       "       'WEEKDAY_APPR_PROCESS_START', 'ORGANIZATION_TYPE'],\n",
       "      dtype='object')"
      ]
     },
     "execution_count": 19,
     "metadata": {},
     "output_type": "execute_result"
    }
   ],
   "source": [
    "# Columns that are categorical variables\n",
    "cat_train_idx = train.dtypes[train.dtypes == 'object'].index\n",
    "cat_train_idx"
   ]
  },
  {
   "cell_type": "markdown",
   "metadata": {
    "id": "RHSE9MzG0wG1"
   },
   "source": [
    "##### Categorical variable: OCCUPATION_TYPE"
   ]
  },
  {
   "cell_type": "code",
   "execution_count": 20,
   "metadata": {
    "colab": {
     "base_uri": "https://localhost:8080/"
    },
    "executionInfo": {
     "elapsed": 13126,
     "status": "ok",
     "timestamp": 1607049425007,
     "user": {
      "displayName": "Yun Huang",
      "photoUrl": "",
      "userId": "12504482687440518580"
     },
     "user_tz": 360
    },
    "id": "eIiWRDUW05BP",
    "outputId": "7585376d-817f-4756-dcbf-43824ddc29a2"
   },
   "outputs": [
    {
     "data": {
      "text/plain": [
       "Retired                  76312\n",
       "Laborers                 43794\n",
       "Sales staff              25489\n",
       "Core staff               21914\n",
       "Managers                 16895\n",
       "Drivers                  14865\n",
       "High skill tech staff     9016\n",
       "Accountants               7705\n",
       "Medicine staff            6757\n",
       "Security staff            5343\n",
       "Cooking staff             4692\n",
       "Cleaning staff            3693\n",
       "Private service staff     2076\n",
       "Low-skill Laborers        1676\n",
       "Waiters/barmen staff      1068\n",
       "Secretaries               1007\n",
       "Realty agents              584\n",
       "HR staff                   447\n",
       "IT staff                   427\n",
       "Name: OCCUPATION_TYPE, dtype: int64"
      ]
     },
     "execution_count": 20,
     "metadata": {},
     "output_type": "execute_result"
    }
   ],
   "source": [
    "train['OCCUPATION_TYPE'].value_counts()"
   ]
  },
  {
   "cell_type": "code",
   "execution_count": 21,
   "metadata": {
    "executionInfo": {
     "elapsed": 13338,
     "status": "ok",
     "timestamp": 1607049425224,
     "user": {
      "displayName": "Yun Huang",
      "photoUrl": "",
      "userId": "12504482687440518580"
     },
     "user_tz": 360
    },
    "id": "qZa1JScH0-oy"
   },
   "outputs": [],
   "source": [
    "# Deal with the levels in data\n",
    "train.replace({'OCCUPATION_TYPE':{'Sales staff': 'White collar',\n",
    "                                  'Core staff': 'White collar',\n",
    "                                  'Managers': 'White collar',\n",
    "                                  'Drivers': 'Blue collar',\n",
    "                                  'High skill tech staff': 'White collar',\n",
    "                                  'Accountants': 'White collar',\n",
    "                                  'Medicine staff': 'White collar',\n",
    "                                  'Security staff': 'Blue collar',\n",
    "                                  'Cooking staff': 'Blue collar',\n",
    "                                  'Cleaning staff': 'Blue collar',\n",
    "                                  'Private service staff': 'Blue collar',\n",
    "                                  'Low-skill Laborers': 'Blue collar',\n",
    "                                  'Waiters/barmen staff': 'Blue collar',\n",
    "                                  'Secretaries': 'White collar',\n",
    "                                  'Realty agents': 'White collar',\n",
    "                                  'HR staff': 'White collar',\n",
    "                                  'IT staff': 'White collar'}}, inplace = True)"
   ]
  },
  {
   "cell_type": "code",
   "execution_count": 22,
   "metadata": {
    "colab": {
     "base_uri": "https://localhost:8080/"
    },
    "executionInfo": {
     "elapsed": 13331,
     "status": "ok",
     "timestamp": 1607049425224,
     "user": {
      "displayName": "Yun Huang",
      "photoUrl": "",
      "userId": "12504482687440518580"
     },
     "user_tz": 360
    },
    "id": "uKgiAT4a1CI1",
    "outputId": "c92b2385-89ee-42da-f623-cb479b2fe0be"
   },
   "outputs": [
    {
     "data": {
      "text/plain": [
       "White collar    90241\n",
       "Retired         76312\n",
       "Laborers        43794\n",
       "Blue collar     33413\n",
       "Name: OCCUPATION_TYPE, dtype: int64"
      ]
     },
     "execution_count": 22,
     "metadata": {},
     "output_type": "execute_result"
    }
   ],
   "source": [
    "train['OCCUPATION_TYPE'].value_counts()"
   ]
  },
  {
   "cell_type": "code",
   "execution_count": 23,
   "metadata": {
    "executionInfo": {
     "elapsed": 13327,
     "status": "ok",
     "timestamp": 1607049425225,
     "user": {
      "displayName": "Yun Huang",
      "photoUrl": "",
      "userId": "12504482687440518580"
     },
     "user_tz": 360
    },
    "id": "SVfxdagp1D-Y"
   },
   "outputs": [],
   "source": [
    "# Deal with the values in validation\n",
    "validation.replace({'OCCUPATION_TYPE':{'Sales staff': 'White collar',\n",
    "                                  'Core staff': 'White collar',\n",
    "                                  'Managers': 'White collar',\n",
    "                                  'Drivers': 'Blue collar',\n",
    "                                  'High skill tech staff': 'White collar',\n",
    "                                  'Accountants': 'White collar',\n",
    "                                  'Medicine staff': 'White collar',\n",
    "                                  'Security staff': 'Blue collar',\n",
    "                                  'Cooking staff': 'Blue collar',\n",
    "                                  'Cleaning staff': 'Blue collar',\n",
    "                                  'Private service staff': 'Blue collar',\n",
    "                                  'Low-skill Laborers': 'Blue collar',\n",
    "                                  'Waiters/barmen staff': 'Blue collar',\n",
    "                                  'Secretaries': 'White collar',\n",
    "                                  'Realty agents': 'White collar',\n",
    "                                  'HR staff': 'White collar',\n",
    "                                  'IT staff': 'White collar'}}, inplace = True)"
   ]
  },
  {
   "cell_type": "code",
   "execution_count": 24,
   "metadata": {
    "colab": {
     "base_uri": "https://localhost:8080/"
    },
    "executionInfo": {
     "elapsed": 13321,
     "status": "ok",
     "timestamp": 1607049425225,
     "user": {
      "displayName": "Yun Huang",
      "photoUrl": "",
      "userId": "12504482687440518580"
     },
     "user_tz": 360
    },
    "id": "yf6IVTaO1JEa",
    "outputId": "a43ce7ce-382a-426b-e9b8-bb60d5c40fba"
   },
   "outputs": [
    {
     "data": {
      "text/plain": [
       "White collar    22517\n",
       "Retired         19167\n",
       "Laborers        10970\n",
       "Blue collar      8287\n",
       "Name: OCCUPATION_TYPE, dtype: int64"
      ]
     },
     "execution_count": 24,
     "metadata": {},
     "output_type": "execute_result"
    }
   ],
   "source": [
    "validation['OCCUPATION_TYPE'].value_counts()"
   ]
  },
  {
   "cell_type": "markdown",
   "metadata": {
    "id": "qslSFna_1KWV"
   },
   "source": [
    "##### Categorical Variable: NAME_INCOME_TYPE"
   ]
  },
  {
   "cell_type": "code",
   "execution_count": 25,
   "metadata": {
    "colab": {
     "base_uri": "https://localhost:8080/"
    },
    "executionInfo": {
     "elapsed": 13956,
     "status": "ok",
     "timestamp": 1607049425866,
     "user": {
      "displayName": "Yun Huang",
      "photoUrl": "",
      "userId": "12504482687440518580"
     },
     "user_tz": 360
    },
    "id": "2H7xZ4nz1NFx",
    "outputId": "b07fddfb-205a-4680-c9b6-0299b2d83cdd"
   },
   "outputs": [
    {
     "data": {
      "text/plain": [
       "Working                 126047\n",
       "Commercial associate     56592\n",
       "Pensioner                43858\n",
       "State servant            17221\n",
       "Unemployed                  15\n",
       "Student                     14\n",
       "Businessman                  8\n",
       "Maternity leave              5\n",
       "Name: NAME_INCOME_TYPE, dtype: int64"
      ]
     },
     "execution_count": 25,
     "metadata": {},
     "output_type": "execute_result"
    }
   ],
   "source": [
    "train['NAME_INCOME_TYPE'].value_counts()"
   ]
  },
  {
   "cell_type": "markdown",
   "metadata": {
    "id": "CO8BnEZl1RzC"
   },
   "source": [
    "Group unemployed, student, businessman and maternity leave in a small group - other.\n",
    "<br> The reason to group these four levels is that only a few records are in those levels. It always happens that only train set contains some levels. For instance, Maternity leave only has 5 records. When doing train test split, only train set contains this 5 records. After doing one hot encoding, this results in the train and validation set in different shape.  "
   ]
  },
  {
   "cell_type": "code",
   "execution_count": 26,
   "metadata": {
    "executionInfo": {
     "elapsed": 13951,
     "status": "ok",
     "timestamp": 1607049425866,
     "user": {
      "displayName": "Yun Huang",
      "photoUrl": "",
      "userId": "12504482687440518580"
     },
     "user_tz": 360
    },
    "id": "wohltb8U1Pmf"
   },
   "outputs": [],
   "source": [
    "# Deal with train\n",
    "train.replace({'NAME_INCOME_TYPE':{'Unemployed': 'Other',\n",
    "                                   'Student': 'Other',\n",
    "                                   'Businessman': 'Other',\n",
    "                                   'Maternity leave': 'Other'}}, inplace = True)"
   ]
  },
  {
   "cell_type": "code",
   "execution_count": 27,
   "metadata": {
    "colab": {
     "base_uri": "https://localhost:8080/"
    },
    "executionInfo": {
     "elapsed": 13945,
     "status": "ok",
     "timestamp": 1607049425867,
     "user": {
      "displayName": "Yun Huang",
      "photoUrl": "",
      "userId": "12504482687440518580"
     },
     "user_tz": 360
    },
    "id": "XLlAp2r51a02",
    "outputId": "20df0e39-0b14-441f-bf8e-59d533a47586"
   },
   "outputs": [
    {
     "data": {
      "text/plain": [
       "Working                 126047\n",
       "Commercial associate     56592\n",
       "Pensioner                43858\n",
       "State servant            17221\n",
       "Other                       42\n",
       "Name: NAME_INCOME_TYPE, dtype: int64"
      ]
     },
     "execution_count": 27,
     "metadata": {},
     "output_type": "execute_result"
    }
   ],
   "source": [
    "train['NAME_INCOME_TYPE'].value_counts()"
   ]
  },
  {
   "cell_type": "code",
   "execution_count": 28,
   "metadata": {
    "executionInfo": {
     "elapsed": 13939,
     "status": "ok",
     "timestamp": 1607049425867,
     "user": {
      "displayName": "Yun Huang",
      "photoUrl": "",
      "userId": "12504482687440518580"
     },
     "user_tz": 360
    },
    "id": "0juX3cbL1cF-"
   },
   "outputs": [],
   "source": [
    "# Deal with validation\n",
    "validation.replace({'NAME_INCOME_TYPE':{'Unemployed': 'Other',\n",
    "                                        'Student': 'Other',\n",
    "                                        'Businessman': 'Other',\n",
    "                                        'Maternity leave': 'Other'}}, inplace = True)"
   ]
  },
  {
   "cell_type": "code",
   "execution_count": 29,
   "metadata": {
    "colab": {
     "base_uri": "https://localhost:8080/"
    },
    "executionInfo": {
     "elapsed": 13935,
     "status": "ok",
     "timestamp": 1607049425868,
     "user": {
      "displayName": "Yun Huang",
      "photoUrl": "",
      "userId": "12504482687440518580"
     },
     "user_tz": 360
    },
    "id": "fBFBWE4m1eVF",
    "outputId": "7d3ed746-8705-4943-d8f8-ddf8c42c9009"
   },
   "outputs": [
    {
     "data": {
      "text/plain": [
       "Working                 31387\n",
       "Commercial associate    14243\n",
       "Pensioner               11006\n",
       "State servant            4296\n",
       "Other                       9\n",
       "Name: NAME_INCOME_TYPE, dtype: int64"
      ]
     },
     "execution_count": 29,
     "metadata": {},
     "output_type": "execute_result"
    }
   ],
   "source": [
    "validation['NAME_INCOME_TYPE'].value_counts()"
   ]
  },
  {
   "cell_type": "markdown",
   "metadata": {
    "id": "o6B8SQLf1j7D"
   },
   "source": [
    "##### Categorical variable: ORGANIZATION_TYPE"
   ]
  },
  {
   "cell_type": "code",
   "execution_count": 30,
   "metadata": {
    "colab": {
     "base_uri": "https://localhost:8080/"
    },
    "executionInfo": {
     "elapsed": 13929,
     "status": "ok",
     "timestamp": 1607049425868,
     "user": {
      "displayName": "Yun Huang",
      "photoUrl": "",
      "userId": "12504482687440518580"
     },
     "user_tz": 360
    },
    "id": "lWTSjipf1g01",
    "outputId": "2ef86b30-fed8-4ab5-b060-44e70f467975"
   },
   "outputs": [
    {
     "data": {
      "text/plain": [
       "Business Entity Type 3    53886\n",
       "XNA                       43865\n",
       "Self-employed             30488\n",
       "Other                     13161\n",
       "Medicine                   8825\n",
       "Business Entity Type 2     8364\n",
       "Government                 8333\n",
       "School                     7037\n",
       "Trade: type 7              6169\n",
       "Kindergarten               5529\n",
       "Construction               5286\n",
       "Business Entity Type 1     4731\n",
       "Transport: type 4          4316\n",
       "Trade: type 3              2757\n",
       "Industry: type 9           2674\n",
       "Industry: type 3           2638\n",
       "Security                   2596\n",
       "Housing                    2318\n",
       "Industry: type 11          2155\n",
       "Military                   2090\n",
       "Name: ORGANIZATION_TYPE, dtype: int64"
      ]
     },
     "execution_count": 30,
     "metadata": {},
     "output_type": "execute_result"
    }
   ],
   "source": [
    "train['ORGANIZATION_TYPE'].value_counts()[0:20]"
   ]
  },
  {
   "cell_type": "code",
   "execution_count": 31,
   "metadata": {
    "executionInfo": {
     "elapsed": 14159,
     "status": "ok",
     "timestamp": 1607049426104,
     "user": {
      "displayName": "Yun Huang",
      "photoUrl": "",
      "userId": "12504482687440518580"
     },
     "user_tz": 360
    },
    "id": "C0hbRZ2U1nzF"
   },
   "outputs": [],
   "source": [
    "# Drop columns ORGANIZATION_TYPE\n",
    "train = train.drop('ORGANIZATION_TYPE', axis = 1)\n",
    "validation = validation.drop('ORGANIZATION_TYPE', axis = 1)"
   ]
  },
  {
   "cell_type": "markdown",
   "metadata": {
    "id": "sbxWZA8N1u8n"
   },
   "source": [
    "#### One-Hot Encoding"
   ]
  },
  {
   "cell_type": "code",
   "execution_count": 32,
   "metadata": {
    "executionInfo": {
     "elapsed": 14155,
     "status": "ok",
     "timestamp": 1607049426105,
     "user": {
      "displayName": "Yun Huang",
      "photoUrl": "",
      "userId": "12504482687440518580"
     },
     "user_tz": 360
    },
    "id": "zlLoHtUl1tyw"
   },
   "outputs": [],
   "source": [
    "# Conduct one-hot encoding, drop_first should be True to get the dummy variables\n",
    "train = pd.get_dummies(train, drop_first = True)\n",
    "validation = pd.get_dummies(validation, drop_first = True)"
   ]
  },
  {
   "cell_type": "code",
   "execution_count": 33,
   "metadata": {
    "colab": {
     "base_uri": "https://localhost:8080/"
    },
    "executionInfo": {
     "elapsed": 14149,
     "status": "ok",
     "timestamp": 1607049426105,
     "user": {
      "displayName": "Yun Huang",
      "photoUrl": "",
      "userId": "12504482687440518580"
     },
     "user_tz": 360
    },
    "id": "icYimTMd1zFB",
    "outputId": "9f60834b-e64a-4360-e73e-f9fa6fd0bddb"
   },
   "outputs": [
    {
     "name": "stdout",
     "output_type": "stream",
     "text": [
      "Train shape: (243760, 82)\n",
      "validation shape: (60941, 81)\n"
     ]
    }
   ],
   "source": [
    "print(\"Train shape:\", train.shape)\n",
    "print(\"validation shape:\", validation.shape)"
   ]
  },
  {
   "cell_type": "code",
   "execution_count": 34,
   "metadata": {
    "colab": {
     "base_uri": "https://localhost:8080/"
    },
    "executionInfo": {
     "elapsed": 14144,
     "status": "ok",
     "timestamp": 1607049426106,
     "user": {
      "displayName": "Yun Huang",
      "photoUrl": "",
      "userId": "12504482687440518580"
     },
     "user_tz": 360
    },
    "id": "Y2HQMlm32B5B",
    "outputId": "d0402ccb-4f02-4946-b335-0f9916f18e79"
   },
   "outputs": [
    {
     "data": {
      "text/plain": [
       "['CODE_GENDER_XNA']"
      ]
     },
     "execution_count": 34,
     "metadata": {},
     "output_type": "execute_result"
    }
   ],
   "source": [
    "# We have one column missing for validation. Match columns in train and validation\n",
    "def list_diff(list1, list2): \n",
    "    list_difference = []\n",
    "    for item in list1: \n",
    "        if item not in list2:\n",
    "            list_difference.append(item)\n",
    "    return list_difference\n",
    "list_diff(list(train.columns),list(validation.columns))"
   ]
  },
  {
   "cell_type": "markdown",
   "metadata": {
    "id": "GDIwwkmy2jeN"
   },
   "source": [
    "After further exploration, we find that 'CODE_GENDER_XNA' only has four records, we can drop this column as well."
   ]
  },
  {
   "cell_type": "code",
   "execution_count": 35,
   "metadata": {
    "colab": {
     "base_uri": "https://localhost:8080/"
    },
    "executionInfo": {
     "elapsed": 14138,
     "status": "ok",
     "timestamp": 1607049426106,
     "user": {
      "displayName": "Yun Huang",
      "photoUrl": "",
      "userId": "12504482687440518580"
     },
     "user_tz": 360
    },
    "id": "5zw0w_nv2TcG",
    "outputId": "d2e056df-9234-49e1-868f-fa93ae7aed94"
   },
   "outputs": [
    {
     "data": {
      "text/plain": [
       "SK_ID_CURR\n",
       "319880    1\n",
       "144669    1\n",
       "196708    1\n",
       "141289    1\n",
       "166591    0\n",
       "Name: CODE_GENDER_XNA, dtype: uint8"
      ]
     },
     "execution_count": 35,
     "metadata": {},
     "output_type": "execute_result"
    }
   ],
   "source": [
    "train['CODE_GENDER_XNA'].sort_values(ascending = False)[0:5]"
   ]
  },
  {
   "cell_type": "code",
   "execution_count": 36,
   "metadata": {
    "executionInfo": {
     "elapsed": 14134,
     "status": "ok",
     "timestamp": 1607049426107,
     "user": {
      "displayName": "Yun Huang",
      "photoUrl": "",
      "userId": "12504482687440518580"
     },
     "user_tz": 360
    },
    "id": "vguZqwwy2nFJ"
   },
   "outputs": [],
   "source": [
    "# Drop the four rows\n",
    "train.drop([319880, 144669, 196708, 141289], inplace = True)"
   ]
  },
  {
   "cell_type": "code",
   "execution_count": 37,
   "metadata": {
    "executionInfo": {
     "elapsed": 14129,
     "status": "ok",
     "timestamp": 1607049426108,
     "user": {
      "displayName": "Yun Huang",
      "photoUrl": "",
      "userId": "12504482687440518580"
     },
     "user_tz": 360
    },
    "id": "nFc1Fv9B25ot"
   },
   "outputs": [],
   "source": [
    "# Then drop the column CODE_GENDER_XNA' in train\n",
    "train.drop('CODE_GENDER_XNA', axis = 1, inplace = True)"
   ]
  },
  {
   "cell_type": "code",
   "execution_count": 38,
   "metadata": {
    "colab": {
     "base_uri": "https://localhost:8080/"
    },
    "executionInfo": {
     "elapsed": 14124,
     "status": "ok",
     "timestamp": 1607049426108,
     "user": {
      "displayName": "Yun Huang",
      "photoUrl": "",
      "userId": "12504482687440518580"
     },
     "user_tz": 360
    },
    "id": "pTMffiKx28xE",
    "outputId": "6afe036a-9a89-4990-d897-87c8399ae5e0"
   },
   "outputs": [
    {
     "name": "stdout",
     "output_type": "stream",
     "text": [
      "(243756, 81)\n",
      "(60941, 81)\n"
     ]
    }
   ],
   "source": [
    "print(train.shape)\n",
    "print(validation.shape)"
   ]
  },
  {
   "cell_type": "markdown",
   "metadata": {
    "id": "cgZt14qt3Ee4"
   },
   "source": [
    "### Normalize the data"
   ]
  },
  {
   "cell_type": "code",
   "execution_count": 39,
   "metadata": {
    "colab": {
     "base_uri": "https://localhost:8080/"
    },
    "executionInfo": {
     "elapsed": 14693,
     "status": "ok",
     "timestamp": 1607049426683,
     "user": {
      "displayName": "Yun Huang",
      "photoUrl": "",
      "userId": "12504482687440518580"
     },
     "user_tz": 360
    },
    "id": "hOXdT29v3Daq",
    "outputId": "5e8d1e0e-d7b9-4475-9ad3-583765bbed55"
   },
   "outputs": [
    {
     "name": "stdout",
     "output_type": "stream",
     "text": [
      "X_train shape: (243756, 80) y_train shape: (243756,)\n",
      "X_validation shape: (60941, 80) y_validation shape: (60941,)\n"
     ]
    }
   ],
   "source": [
    "# Prepare X_train, X_validation, y_train, y_validation\n",
    "X_train_rw = train.drop('TARGET', axis = 1)\n",
    "X_validation_rw = validation.drop('TARGET', axis = 1)\n",
    "\n",
    "y_train = train['TARGET']\n",
    "y_validation = validation['TARGET']\n",
    "\n",
    "print(\"X_train shape:\", X_train_rw.shape, \"y_train shape:\", y_train.shape)\n",
    "print(\"X_validation shape:\", X_validation_rw.shape, \"y_validation shape:\", y_validation.shape)"
   ]
  },
  {
   "cell_type": "code",
   "execution_count": 40,
   "metadata": {
    "colab": {
     "base_uri": "https://localhost:8080/"
    },
    "executionInfo": {
     "elapsed": 14949,
     "status": "ok",
     "timestamp": 1607049426944,
     "user": {
      "displayName": "Yun Huang",
      "photoUrl": "",
      "userId": "12504482687440518580"
     },
     "user_tz": 360
    },
    "id": "6xVGl2S-3Js7",
    "outputId": "ec5abbb7-638d-4a78-e4d8-2e9897dd7c5f"
   },
   "outputs": [
    {
     "data": {
      "text/plain": [
       "StandardScaler()"
      ]
     },
     "execution_count": 40,
     "metadata": {},
     "output_type": "execute_result"
    }
   ],
   "source": [
    "# Standardize the train and validation data\n",
    "scaler = StandardScaler()\n",
    "scaler.fit(X_train_rw, y_train)"
   ]
  },
  {
   "cell_type": "code",
   "execution_count": 41,
   "metadata": {
    "executionInfo": {
     "elapsed": 14942,
     "status": "ok",
     "timestamp": 1607049426944,
     "user": {
      "displayName": "Yun Huang",
      "photoUrl": "",
      "userId": "12504482687440518580"
     },
     "user_tz": 360
    },
    "id": "DPa1bYb73S6J"
   },
   "outputs": [],
   "source": [
    "X_train = scaler.transform(X_train_rw)\n",
    "X_validation = scaler.transform(X_validation_rw)"
   ]
  },
  {
   "cell_type": "code",
   "execution_count": 42,
   "metadata": {
    "executionInfo": {
     "elapsed": 14937,
     "status": "ok",
     "timestamp": 1607049426944,
     "user": {
      "displayName": "Yun Huang",
      "photoUrl": "",
      "userId": "12504482687440518580"
     },
     "user_tz": 360
    },
    "id": "Katlbtj033yt"
   },
   "outputs": [],
   "source": [
    "X_test=X_validation \n",
    "y_test=y_validation"
   ]
  },
  {
   "cell_type": "markdown",
   "metadata": {},
   "source": [
    "## Undersampling Majority Class using Randomundersampling (USM)"
   ]
  },
  {
   "cell_type": "code",
   "execution_count": 43,
   "metadata": {},
   "outputs": [],
   "source": [
    "from imblearn.under_sampling import RandomUnderSampler\n",
    "from collections import Counter\n",
    "from sklearn import metrics as skm"
   ]
  },
  {
   "cell_type": "code",
   "execution_count": 44,
   "metadata": {},
   "outputs": [
    {
     "name": "stdout",
     "output_type": "stream",
     "text": [
      "Before usm:  Counter({0: 223896, 1: 19860})\n",
      "After usm:  Counter({0: 19860, 1: 19860})\n"
     ]
    }
   ],
   "source": [
    "# extreme undersampling major class \n",
    "under = RandomUnderSampler(sampling_strategy=1)\n",
    "X_train_usm, y_train_usm = under.fit_sample(X_train.astype('float'), y_train)\n",
    "print(\"Before usm: \", Counter(y_train))\n",
    "print(\"After usm: \", Counter(y_train_usm))"
   ]
  },
  {
   "cell_type": "markdown",
   "metadata": {
    "id": "WjJEsWTp5-PE"
   },
   "source": [
    "## Original Data - LinearSVM + RandomizedSearchCV"
   ]
  },
  {
   "cell_type": "code",
   "execution_count": 46,
   "metadata": {},
   "outputs": [
    {
     "name": "stderr",
     "output_type": "stream",
     "text": [
      "/Users/amilyhuang/opt/anaconda3/lib/python3.7/site-packages/sklearn/svm/_base.py:977: ConvergenceWarning: Liblinear failed to converge, increase the number of iterations.\n",
      "  \"the number of iterations.\", ConvergenceWarning)\n"
     ]
    },
    {
     "data": {
      "text/plain": [
       "RandomizedSearchCV(cv=5, estimator=LinearSVC(random_state=42), n_jobs=-1,\n",
       "                   param_distributions={'C': array([0.01, 0.21, 0.41, 0.61, 0.81, 1.01, 1.21, 1.41, 1.61, 1.81, 2.01,\n",
       "       2.21, 2.41, 2.61, 2.81, 3.01, 3.21, 3.41, 3.61, 3.81, 4.01, 4.21,\n",
       "       4.41, 4.61, 4.81, 5.01, 5.21, 5.41, 5.61, 5.81, 6.01, 6.21, 6.41,\n",
       "       6.61, 6.81, 7.01, 7.21, 7.41, 7.61, 7.81, 8.01, 8.21, 8.41, 8.61,\n",
       "       8.81, 9.01, 9.21, 9.41, 9.61, 9.81])})"
      ]
     },
     "execution_count": 46,
     "metadata": {},
     "output_type": "execute_result"
    }
   ],
   "source": [
    "#Fit model on the training data\n",
    "linearsvm_rd = LinearSVC(random_state=42)\n",
    "param1 = {\"C\": np.arange(0.01, 10, 0.2)}\n",
    "linearsvm_rd = RandomizedSearchCV(linearsvm_rd, param1, cv = 5, verbose = 0, n_jobs = -1)\n",
    "linearsvm_rd.fit(X_train, y_train)"
   ]
  },
  {
   "cell_type": "code",
   "execution_count": 47,
   "metadata": {},
   "outputs": [
    {
     "name": "stdout",
     "output_type": "stream",
     "text": [
      "LinearSVC(C=0.6100000000000001, random_state=42)\n"
     ]
    }
   ],
   "source": [
    "print(linearsvm_rd.best_estimator_)"
   ]
  },
  {
   "cell_type": "code",
   "execution_count": 48,
   "metadata": {},
   "outputs": [],
   "source": [
    "linearsvm_rd_pred = linearsvm_rd.best_estimator_.predict(X_test)"
   ]
  },
  {
   "cell_type": "code",
   "execution_count": 49,
   "metadata": {},
   "outputs": [
    {
     "name": "stdout",
     "output_type": "stream",
     "text": [
      "AUC: 0.704\n"
     ]
    }
   ],
   "source": [
    "decision_scores = linearsvm_rd.decision_function(X_test)\n",
    "fpr, tpr, thres = roc_curve(y_test, decision_scores)\n",
    "print('AUC: {:.3f}'.format(roc_auc_score(y_test, decision_scores)))"
   ]
  },
  {
   "cell_type": "code",
   "execution_count": 50,
   "metadata": {},
   "outputs": [
    {
     "data": {
      "image/png": "[encoded data removed]",
      "text/plain": [
       "<Figure size 432x288 with 1 Axes>"
      ]
     },
     "metadata": {
      "needs_background": "light"
     },
     "output_type": "display_data"
    }
   ],
   "source": [
    "plt.plot(fpr, tpr, \"b\", label='Linear SVM')\n",
    "plt.plot([0,1],[0,1], \"k--\", label='Random Guess')\n",
    "plt.xlabel(\"false positive rate\")\n",
    "plt.ylabel(\"true positive rate\")\n",
    "plt.legend(loc=\"best\")\n",
    "plt.title(\"ROC curve-LinearSVM\")\n",
    "plt.show()"
   ]
  },
  {
   "cell_type": "code",
   "execution_count": 51,
   "metadata": {},
   "outputs": [
    {
     "name": "stdout",
     "output_type": "stream",
     "text": [
      "Accuracy Test: 0.9182652073316815\n",
      "Precision Test: 0.05555555555555555\n",
      "Recall Test: 0.0002014098690835851\n"
     ]
    }
   ],
   "source": [
    "print(\"Accuracy Test:\", skm.accuracy_score(y_test, linearsvm_rd_pred))\n",
    "print(\"Precision Test:\", skm.precision_score(y_test, linearsvm_rd_pred))\n",
    "print(\"Recall Test:\", skm.recall_score(y_test, linearsvm_rd_pred))"
   ]
  },
  {
   "cell_type": "code",
   "execution_count": 52,
   "metadata": {},
   "outputs": [],
   "source": [
    "auc_OD = roc_auc_score(y_test, decision_scores)\n",
    "accuracy_OD = skm.accuracy_score(y_test, linearsvm_rd_pred)\n",
    "recall_OD = skm.recall_score(y_test, linearsvm_rd_pred)"
   ]
  },
  {
   "cell_type": "code",
   "execution_count": 54,
   "metadata": {},
   "outputs": [],
   "source": [
    "linearsvm_rd_pred_train = linearsvm_rd.best_estimator_.predict(X_train)\n",
    "decision_scores_train = linearsvm_rd.decision_function(X_train)\n",
    "auc_OD_train = roc_auc_score(y_train, decision_scores_train)\n",
    "accuracy_OD_train = skm.accuracy_score(y_train, linearsvm_rd_pred_train)\n",
    "recall_OD_train = skm.recall_score(y_train, linearsvm_rd_pred_train)"
   ]
  },
  {
   "cell_type": "code",
   "execution_count": 58,
   "metadata": {},
   "outputs": [
    {
     "name": "stdout",
     "output_type": "stream",
     "text": [
      "Accuracy Test: 0.9183199593035659\n",
      "Precision Test: 0.17105263157894737\n",
      "Recall Test: 0.0006545820745216516\n"
     ]
    }
   ],
   "source": [
    "print(\"Accuracy Test:\", skm.accuracy_score(y_train, linearsvm_rd_pred_train))\n",
    "print(\"Precision Test:\", skm.precision_score(y_train, linearsvm_rd_pred_train))\n",
    "print(\"Recall Test:\", skm.recall_score(y_train, linearsvm_rd_pred_train))"
   ]
  },
  {
   "cell_type": "markdown",
   "metadata": {
    "id": "lQS8tPibci1B"
   },
   "source": [
    "## Original Data- LinearSVC + RandomizedSearchCV + Weighted Cost Function"
   ]
  },
  {
   "cell_type": "code",
   "execution_count": 59,
   "metadata": {
    "executionInfo": {
     "elapsed": 380,
     "status": "ok",
     "timestamp": 1607049433310,
     "user": {
      "displayName": "Yun Huang",
      "photoUrl": "",
      "userId": "12504482687440518580"
     },
     "user_tz": 360
    },
    "id": "is6lee30chzJ"
   },
   "outputs": [],
   "source": [
    "weights =  [{0:1,1:4}, {0:1, 1:6}, {0:1,1:8}, {0:1, 1:10}, {0:1, 1:12}]"
   ]
  },
  {
   "cell_type": "code",
   "execution_count": 60,
   "metadata": {
    "colab": {
     "background_save": true
    },
    "id": "oKv8Tr-7dwXl"
   },
   "outputs": [
    {
     "name": "stderr",
     "output_type": "stream",
     "text": [
      "/Users/amilyhuang/opt/anaconda3/lib/python3.7/site-packages/sklearn/svm/_base.py:977: ConvergenceWarning: Liblinear failed to converge, increase the number of iterations.\n",
      "  \"the number of iterations.\", ConvergenceWarning)\n"
     ]
    },
    {
     "data": {
      "text/plain": [
       "RandomizedSearchCV(cv=5, estimator=LinearSVC(random_state=42), n_jobs=-1,\n",
       "                   param_distributions={'C': array([0.01, 0.21, 0.41, 0.61, 0.81, 1.01, 1.21, 1.41, 1.61, 1.81, 2.01,\n",
       "       2.21, 2.41, 2.61, 2.81, 3.01, 3.21, 3.41, 3.61, 3.81, 4.01, 4.21,\n",
       "       4.41, 4.61, 4.81, 5.01, 5.21, 5.41, 5.61, 5.81, 6.01, 6.21, 6.41,\n",
       "       6.61, 6.81, 7.01, 7.21, 7.41, 7.61, 7.81, 8.01, 8.21, 8.41, 8.61,\n",
       "       8.81, 9.01, 9.21, 9.41, 9.61, 9.81]),\n",
       "                                        'class_weight': [{0: 1, 1: 4},\n",
       "                                                         {0: 1, 1: 6},\n",
       "                                                         {0: 1, 1: 8},\n",
       "                                                         {0: 1, 1: 10},\n",
       "                                                         {0: 1, 1: 12}]})"
      ]
     },
     "execution_count": 60,
     "metadata": {},
     "output_type": "execute_result"
    }
   ],
   "source": [
    "#Fit model on the training data\n",
    "linearsvm_weight = LinearSVC(random_state=42)\n",
    "param_weight = {\"C\": np.arange(0.01, 10, 0.2), \"class_weight\": weights}\n",
    "linearsvm_weight = RandomizedSearchCV(linearsvm_weight, param_weight, cv = 5, verbose = 0, n_jobs = -1)\n",
    "linearsvm_weight.fit(X_train, y_train)"
   ]
  },
  {
   "cell_type": "code",
   "execution_count": 61,
   "metadata": {
    "colab": {
     "background_save": true
    },
    "id": "yCTCYf_pnrdl"
   },
   "outputs": [
    {
     "name": "stdout",
     "output_type": "stream",
     "text": [
      "LinearSVC(C=3.21, class_weight={0: 1, 1: 4}, random_state=42)\n"
     ]
    }
   ],
   "source": [
    "print(linearsvm_weight.best_estimator_)"
   ]
  },
  {
   "cell_type": "code",
   "execution_count": 62,
   "metadata": {
    "colab": {
     "background_save": true
    },
    "id": "sACjOPJknGsh"
   },
   "outputs": [],
   "source": [
    "linearsvm_weight_pred = linearsvm_weight.best_estimator_.predict(X_test)"
   ]
  },
  {
   "cell_type": "code",
   "execution_count": 63,
   "metadata": {
    "id": "5uWmQQpQn0JA"
   },
   "outputs": [
    {
     "name": "stdout",
     "output_type": "stream",
     "text": [
      "AUC: 0.635\n"
     ]
    }
   ],
   "source": [
    "decision_scores_w = linearsvm_weight.decision_function(X_test)\n",
    "fpr_w, tpr_w, thres_w = roc_curve(y_test, decision_scores_w)\n",
    "print('AUC: {:.3f}'.format(roc_auc_score(y_test, decision_scores_w)))"
   ]
  },
  {
   "cell_type": "code",
   "execution_count": 64,
   "metadata": {
    "id": "-jBaELxkn6G6"
   },
   "outputs": [
    {
     "data": {
      "image/png": "[encoded data removed]",
      "text/plain": [
       "<Figure size 432x288 with 1 Axes>"
      ]
     },
     "metadata": {
      "needs_background": "light"
     },
     "output_type": "display_data"
    }
   ],
   "source": [
    "plt.plot(fpr_w, tpr_w, \"b\", label='Linear SVM')\n",
    "plt.plot([0,1],[0,1], \"k--\", label='Random Guess')\n",
    "plt.xlabel(\"false positive rate\")\n",
    "plt.ylabel(\"true positive rate\")\n",
    "plt.legend(loc=\"best\")\n",
    "plt.title(\"ROC curve-LinearSVM\")\n",
    "plt.show()"
   ]
  },
  {
   "cell_type": "code",
   "execution_count": 65,
   "metadata": {
    "id": "7-eNelWsn-tB"
   },
   "outputs": [
    {
     "name": "stdout",
     "output_type": "stream",
     "text": [
      "Accuracy Test: 0.9100441410544625\n",
      "Precision Test: 0.17153748411689962\n",
      "Recall Test: 0.027190332326283987\n"
     ]
    }
   ],
   "source": [
    "print(\"Accuracy Test:\", skm.accuracy_score(y_test, linearsvm_weight_pred))\n",
    "print(\"Precision Test:\", skm.precision_score(y_test, linearsvm_weight_pred))\n",
    "print(\"Recall Test:\", skm.recall_score(y_test, linearsvm_weight_pred))"
   ]
  },
  {
   "cell_type": "code",
   "execution_count": 66,
   "metadata": {},
   "outputs": [],
   "source": [
    "auc_OD_w = roc_auc_score(y_test, decision_scores_w)\n",
    "accuracy_OD_w = skm.accuracy_score(y_test, linearsvm_weight_pred)\n",
    "recall_OD_w = skm.recall_score(y_test, linearsvm_weight_pred)"
   ]
  },
  {
   "cell_type": "code",
   "execution_count": 67,
   "metadata": {},
   "outputs": [],
   "source": [
    "linearsvm_w_pred_train = linearsvm_weight.best_estimator_.predict(X_train)\n",
    "decision_scores_w_train = linearsvm_weight.decision_function(X_train)\n",
    "auc_OD_w_train = roc_auc_score(y_train, decision_scores_w_train)\n",
    "accuracy_OD_w_train = skm.accuracy_score(y_train, linearsvm_w_pred_train)\n",
    "recall_OD_w_train = skm.recall_score(y_train, linearsvm_w_pred_train)"
   ]
  },
  {
   "cell_type": "code",
   "execution_count": 68,
   "metadata": {},
   "outputs": [
    {
     "name": "stdout",
     "output_type": "stream",
     "text": [
      "Accuracy Test: 0.9102750291274881\n",
      "Precision Test: 0.18956468045693114\n",
      "Recall Test: 0.03091641490433031\n"
     ]
    }
   ],
   "source": [
    "print(\"Accuracy Test:\", skm.accuracy_score(y_train, linearsvm_w_pred_train))\n",
    "print(\"Precision Test:\", skm.precision_score(y_train, linearsvm_w_pred_train))\n",
    "print(\"Recall Test:\", skm.recall_score(y_train, linearsvm_w_pred_train))"
   ]
  },
  {
   "cell_type": "markdown",
   "metadata": {},
   "source": [
    "## USM- LinearSVC + RandomizedSearchCV"
   ]
  },
  {
   "cell_type": "code",
   "execution_count": 69,
   "metadata": {},
   "outputs": [
    {
     "name": "stderr",
     "output_type": "stream",
     "text": [
      "/Users/amilyhuang/opt/anaconda3/lib/python3.7/site-packages/sklearn/svm/_base.py:977: ConvergenceWarning: Liblinear failed to converge, increase the number of iterations.\n",
      "  \"the number of iterations.\", ConvergenceWarning)\n"
     ]
    },
    {
     "data": {
      "text/plain": [
       "RandomizedSearchCV(cv=5, estimator=LinearSVC(random_state=42), n_jobs=-1,\n",
       "                   param_distributions={'C': array([0.01, 0.21, 0.41, 0.61, 0.81, 1.01, 1.21, 1.41, 1.61, 1.81, 2.01,\n",
       "       2.21, 2.41, 2.61, 2.81, 3.01, 3.21, 3.41, 3.61, 3.81, 4.01, 4.21,\n",
       "       4.41, 4.61, 4.81, 5.01, 5.21, 5.41, 5.61, 5.81, 6.01, 6.21, 6.41,\n",
       "       6.61, 6.81, 7.01, 7.21, 7.41, 7.61, 7.81, 8.01, 8.21, 8.41, 8.61,\n",
       "       8.81, 9.01, 9.21, 9.41, 9.61, 9.81])})"
      ]
     },
     "execution_count": 69,
     "metadata": {},
     "output_type": "execute_result"
    }
   ],
   "source": [
    "# run with extreme undersampling\n",
    "linearsvm_usm = LinearSVC(random_state=42)\n",
    "\n",
    "param_usm = {\"C\": np.arange(0.01, 10, 0.2)}\n",
    "linearsvm_usm_rd = RandomizedSearchCV(linearsvm_usm, param1, cv = 5, verbose = 0, n_jobs = -1)\n",
    "linearsvm_usm_rd.fit(X_train_usm, y_train_usm)"
   ]
  },
  {
   "cell_type": "code",
   "execution_count": 70,
   "metadata": {},
   "outputs": [
    {
     "name": "stdout",
     "output_type": "stream",
     "text": [
      "{'C': 0.01}\n"
     ]
    }
   ],
   "source": [
    "print(linearsvm_usm_rd.best_params_)"
   ]
  },
  {
   "cell_type": "code",
   "execution_count": 71,
   "metadata": {},
   "outputs": [],
   "source": [
    "linearsvm_usm_rd_pred = linearsvm_usm_rd.best_estimator_.predict(X_test)"
   ]
  },
  {
   "cell_type": "code",
   "execution_count": 72,
   "metadata": {},
   "outputs": [
    {
     "name": "stdout",
     "output_type": "stream",
     "text": [
      "AUC: 0.704\n"
     ]
    }
   ],
   "source": [
    "decision_scores_usm = linearsvm_usm_rd.decision_function(X_test)\n",
    "fpr_usm, tpr_usm, thres_usm = roc_curve(y_test, decision_scores_usm)\n",
    "print('AUC: {:.3f}'.format(roc_auc_score(y_test, decision_scores_usm)))"
   ]
  },
  {
   "cell_type": "code",
   "execution_count": 73,
   "metadata": {},
   "outputs": [
    {
     "data": {
      "image/png": "[encoded data removed]",
      "text/plain": [
       "<Figure size 432x288 with 1 Axes>"
      ]
     },
     "metadata": {
      "needs_background": "light"
     },
     "output_type": "display_data"
    }
   ],
   "source": [
    "plt.plot(fpr_usm, tpr_usm, \"b\", label='Linear SVM')\n",
    "plt.plot([0,1],[0,1], \"k--\", label='Random Guess')\n",
    "plt.xlabel(\"false positive rate\")\n",
    "plt.ylabel(\"true positive rate\")\n",
    "plt.legend(loc=\"best\")\n",
    "plt.title(\"ROC curve-LinearSVM\")\n",
    "plt.show()"
   ]
  },
  {
   "cell_type": "code",
   "execution_count": 74,
   "metadata": {},
   "outputs": [
    {
     "name": "stdout",
     "output_type": "stream",
     "text": [
      "Accuracy Test: 0.6637403390164257\n",
      "Precision Test: 0.14421887172906833\n",
      "Recall Test: 0.6338368580060423\n"
     ]
    }
   ],
   "source": [
    "print(\"Accuracy Test:\", skm.accuracy_score(y_test, linearsvm_usm_rd_pred))\n",
    "print(\"Precision Test:\", skm.precision_score(y_test, linearsvm_usm_rd_pred))\n",
    "print(\"Recall Test:\", skm.recall_score(y_test, linearsvm_usm_rd_pred))"
   ]
  },
  {
   "cell_type": "code",
   "execution_count": 77,
   "metadata": {},
   "outputs": [],
   "source": [
    "auc_usm = roc_auc_score(y_test, decision_scores_usm)\n",
    "accuracy_usm = skm.accuracy_score(y_test, linearsvm_usm_rd_pred)\n",
    "recall_usm = skm.recall_score(y_test, linearsvm_usm_rd_pred)"
   ]
  },
  {
   "cell_type": "code",
   "execution_count": 78,
   "metadata": {},
   "outputs": [],
   "source": [
    "linearsvm_usm_pred_train = linearsvm_usm_rd.best_estimator_.predict(X_train)\n",
    "decision_scores_usm_train = linearsvm_usm_rd.decision_function(X_train)\n",
    "auc_usm_train = roc_auc_score(y_train, decision_scores_usm_train)\n",
    "accuracy_usm_train = skm.accuracy_score(y_train, linearsvm_usm_pred_train)\n",
    "recall_usm_train = skm.recall_score(y_train, linearsvm_usm_pred_train)"
   ]
  },
  {
   "cell_type": "code",
   "execution_count": 80,
   "metadata": {},
   "outputs": [
    {
     "name": "stdout",
     "output_type": "stream",
     "text": [
      "Accuracy Test: 0.6592247985690609\n",
      "Precision Test: 0.14179493573323057\n",
      "Recall Test: 0.6299093655589124\n"
     ]
    }
   ],
   "source": [
    "print(\"Accuracy Test:\", skm.accuracy_score(y_train, linearsvm_usm_pred_train))\n",
    "print(\"Precision Test:\", skm.precision_score(y_train, linearsvm_usm_pred_train))\n",
    "print(\"Recall Test:\", skm.recall_score(y_train, linearsvm_usm_pred_train))"
   ]
  },
  {
   "cell_type": "markdown",
   "metadata": {},
   "source": [
    "## Create Table"
   ]
  },
  {
   "cell_type": "code",
   "execution_count": 83,
   "metadata": {},
   "outputs": [],
   "source": [
    "data_train = {\"Accuracy\": [accuracy_OD_train, accuracy_OD_w_train, accuracy_usm_train], \"Recall\": [recall_OD_train, recall_OD_w_train, recall_usm_train], \"AUC\": [auc_OD_train, auc_OD_w_train, auc_usm_train]}\n"
   ]
  },
  {
   "cell_type": "code",
   "execution_count": 84,
   "metadata": {},
   "outputs": [
    {
     "data": {
      "text/html": [
       "<div>\n",
       "<style scoped>\n",
       "    .dataframe tbody tr th:only-of-type {\n",
       "        vertical-align: middle;\n",
       "    }\n",
       "\n",
       "    .dataframe tbody tr th {\n",
       "        vertical-align: top;\n",
       "    }\n",
       "\n",
       "    .dataframe thead th {\n",
       "        text-align: right;\n",
       "    }\n",
       "</style>\n",
       "<table border=\"1\" class=\"dataframe\">\n",
       "  <thead>\n",
       "    <tr style=\"text-align: right;\">\n",
       "      <th></th>\n",
       "      <th>Accuracy</th>\n",
       "      <th>Recall</th>\n",
       "      <th>AUC</th>\n",
       "    </tr>\n",
       "  </thead>\n",
       "  <tbody>\n",
       "    <tr>\n",
       "      <th>Original Data + RandomizedSearchCV</th>\n",
       "      <td>0.918320</td>\n",
       "      <td>0.000655</td>\n",
       "      <td>0.698785</td>\n",
       "    </tr>\n",
       "    <tr>\n",
       "      <th>Original Data + Weighted Cost Function</th>\n",
       "      <td>0.910275</td>\n",
       "      <td>0.030916</td>\n",
       "      <td>0.629627</td>\n",
       "    </tr>\n",
       "    <tr>\n",
       "      <th>Undersampling + RandomizedSearchCV</th>\n",
       "      <td>0.659225</td>\n",
       "      <td>0.629909</td>\n",
       "      <td>0.699494</td>\n",
       "    </tr>\n",
       "  </tbody>\n",
       "</table>\n",
       "</div>"
      ],
      "text/plain": [
       "                                        Accuracy    Recall       AUC\n",
       "Original Data + RandomizedSearchCV      0.918320  0.000655  0.698785\n",
       "Original Data + Weighted Cost Function  0.910275  0.030916  0.629627\n",
       "Undersampling + RandomizedSearchCV      0.659225  0.629909  0.699494"
      ]
     },
     "execution_count": 84,
     "metadata": {},
     "output_type": "execute_result"
    }
   ],
   "source": [
    "df_train = pd.DataFrame(data_train, columns = [\"Accuracy\", \"Recall\",\"AUC\"], index = [\"Original Data + RandomizedSearchCV\", \"Original Data + Weighted Cost Function\", \"Undersampling + RandomizedSearchCV\"])\n",
    "df_train"
   ]
  },
  {
   "cell_type": "code",
   "execution_count": 88,
   "metadata": {},
   "outputs": [],
   "source": [
    "data_test = {\"Accuracy\": [accuracy_OD, accuracy_OD_w, accuracy_usm], \"Recall\": [recall_OD, recall_OD_w, recall_usm], \"AUC\": [auc_OD, auc_OD_w, auc_usm]}\n"
   ]
  },
  {
   "cell_type": "code",
   "execution_count": 89,
   "metadata": {},
   "outputs": [
    {
     "data": {
      "text/html": [
       "<div>\n",
       "<style scoped>\n",
       "    .dataframe tbody tr th:only-of-type {\n",
       "        vertical-align: middle;\n",
       "    }\n",
       "\n",
       "    .dataframe tbody tr th {\n",
       "        vertical-align: top;\n",
       "    }\n",
       "\n",
       "    .dataframe thead th {\n",
       "        text-align: right;\n",
       "    }\n",
       "</style>\n",
       "<table border=\"1\" class=\"dataframe\">\n",
       "  <thead>\n",
       "    <tr style=\"text-align: right;\">\n",
       "      <th></th>\n",
       "      <th>Accuracy</th>\n",
       "      <th>Recall</th>\n",
       "      <th>AUC</th>\n",
       "    </tr>\n",
       "  </thead>\n",
       "  <tbody>\n",
       "    <tr>\n",
       "      <th>Original Data + RandomizedSearchCV</th>\n",
       "      <td>0.918265</td>\n",
       "      <td>0.000201</td>\n",
       "      <td>0.703843</td>\n",
       "    </tr>\n",
       "    <tr>\n",
       "      <th>Original Data + Weighted Cost Function</th>\n",
       "      <td>0.910044</td>\n",
       "      <td>0.027190</td>\n",
       "      <td>0.635207</td>\n",
       "    </tr>\n",
       "    <tr>\n",
       "      <th>Undersampling + RandomizedSearchCV</th>\n",
       "      <td>0.663740</td>\n",
       "      <td>0.633837</td>\n",
       "      <td>0.704300</td>\n",
       "    </tr>\n",
       "  </tbody>\n",
       "</table>\n",
       "</div>"
      ],
      "text/plain": [
       "                                        Accuracy    Recall       AUC\n",
       "Original Data + RandomizedSearchCV      0.918265  0.000201  0.703843\n",
       "Original Data + Weighted Cost Function  0.910044  0.027190  0.635207\n",
       "Undersampling + RandomizedSearchCV      0.663740  0.633837  0.704300"
      ]
     },
     "execution_count": 89,
     "metadata": {},
     "output_type": "execute_result"
    }
   ],
   "source": [
    "df_test = pd.DataFrame(data_test, columns = [\"Accuracy\", \"Recall\",\"AUC\"], index = [\"Original Data + RandomizedSearchCV\", \"Original Data + Weighted Cost Function\", \"Undersampling + RandomizedSearchCV\"])\n",
    "df_test"
   ]
  },
  {
   "cell_type": "code",
   "execution_count": 88,
   "metadata": {},
   "outputs": [],
   "source": [
    "import matplotlib.pyplot as plt\n",
    "import seaborn as sns\n",
    "#plt.style.use('ggplot')"
   ]
  },
  {
   "cell_type": "code",
   "execution_count": 219,
   "metadata": {
    "scrolled": false
   },
   "outputs": [
    {
     "data": {
      "image/png": "[encoded data removed]",
      "text/plain": [
       "<Figure size 864x504 with 1 Axes>"
      ]
     },
     "metadata": {},
     "output_type": "display_data"
    }
   ],
   "source": [
    "fig, ax = plt.subplots(figsize=(12,7))\n",
    "fig.suptitle('SVM Models vs AUC')\n",
    "\n",
    "\n",
    "plot = df.plot(kind='barh', legend = False, ax=ax, colormap='Paired')\n",
    "ax.set_xlabel('Scores')\n",
    "plt.xlim(0.1, 1)\n",
    "plt.legend(loc= 0, fontsize='medium')\n",
    "ax.set_facecolor('white')\n",
    "\n",
    "plt.show()"
   ]
  },
  {
   "cell_type": "code",
   "execution_count": null,
   "metadata": {},
   "outputs": [],
   "source": []
  }
 ],
 "metadata": {
  "colab": {
   "collapsed_sections": [
    "A2hWEqcBvpMk",
    "WjJEsWTp5-PE",
    "6gi2mJbXAuEW",
    "EOtxdwt9k5SE"
   ],
   "name": "svm_fulldata.ipynb",
   "version": ""
  },
  "kernelspec": {
   "display_name": "Python 3",
   "language": "python",
   "name": "python3"
  },
  "language_info": {
   "codemirror_mode": {
    "name": "ipython",
    "version": 3
   },
   "file_extension": ".py",
   "mimetype": "text/x-python",
   "name": "python",
   "nbconvert_exporter": "python",
   "pygments_lexer": "ipython3",
   "version": "3.7.4"
  }
 },
 "nbformat": 4,
 "nbformat_minor": 1
}
