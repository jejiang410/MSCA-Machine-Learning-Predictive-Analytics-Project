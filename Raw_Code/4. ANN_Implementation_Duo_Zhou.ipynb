{
 "cells": [
  {
   "cell_type": "markdown",
   "metadata": {
    "id": "GKE_sw93Pm2b"
   },
   "source": [
    "# ANN \n",
    "\n",
    "## Duo Zhou"
   ]
  },
  {
   "cell_type": "code",
   "execution_count": null,
   "metadata": {
    "id": "Lo52rMdaudNA"
   },
   "outputs": [],
   "source": [
    "import pandas as pd\n",
    "import numpy as np\n",
    "import matplotlib.pyplot as plt\n",
    "from sklearn.model_selection import train_test_split\n",
    "from sklearn.preprocessing import StandardScaler\n",
    "import seaborn as sns\n",
    "from sklearn.metrics import confusion_matrix\n",
    "from sklearn.metrics import classification_report\n",
    "from sklearn.metrics import roc_auc_score\n",
    "from sklearn.metrics import roc_curve\n",
    "from sklearn.model_selection import GridSearchCV\n",
    "from sklearn.model_selection import RandomizedSearchCV\n",
    "from sklearn.ensemble import AdaBoostClassifier\n",
    "from sklearn.ensemble import GradientBoostingClassifier\n",
    "import xgboost as xgb"
   ]
  },
  {
   "cell_type": "code",
   "execution_count": null,
   "metadata": {
    "colab": {
     "base_uri": "https://localhost:8080/"
    },
    "id": "qF6YZsh-uykN",
    "outputId": "6af99ca0-3557-4b2a-9336-d34b810fa7be"
   },
   "outputs": [
    {
     "name": "stdout",
     "output_type": "stream",
     "text": [
      "Mounted at /content/drive\n"
     ]
    }
   ],
   "source": [
    "  from google.colab import drive\n",
    "  drive.mount('/content/drive', force_remount=True)"
   ]
  },
  {
   "cell_type": "code",
   "execution_count": null,
   "metadata": {
    "id": "XLoke_3Vu3Ij"
   },
   "outputs": [],
   "source": [
    "# Load the data\n",
    "train= pd.read_csv(\"/content/drive/My Drive/train.csv\",index_col = 0)\n",
    "validation=pd.read_csv(\"/content/drive/My Drive/validation.csv\",index_col = 0)"
   ]
  },
  {
   "cell_type": "code",
   "execution_count": null,
   "metadata": {
    "colab": {
     "base_uri": "https://localhost:8080/"
    },
    "id": "5WR2TdNFbx4s",
    "outputId": "a87e41f7-7c5f-4b45-e42e-597eb6e8c3d1"
   },
   "outputs": [
    {
     "name": "stdout",
     "output_type": "stream",
     "text": [
      "Train shape: (243760, 57)\n",
      "Validation shape: (60941, 57)\n"
     ]
    }
   ],
   "source": [
    "# Check the shape of train and validation set\n",
    "print(\"Train shape:\", train.shape)\n",
    "print(\"Validation shape:\", validation.shape)"
   ]
  },
  {
   "cell_type": "markdown",
   "metadata": {
    "id": "A2hWEqcBvpMk"
   },
   "source": [
    "## Impute Missing Values"
   ]
  },
  {
   "cell_type": "markdown",
   "metadata": {
    "id": "BBzqqPK_v6nB"
   },
   "source": [
    "### Input columns: OWN_CAR_AGE, OCCUPATION_TYPE\n",
    "Columns: ONW_CAR_AGE"
   ]
  },
  {
   "cell_type": "code",
   "execution_count": null,
   "metadata": {
    "colab": {
     "base_uri": "https://localhost:8080/"
    },
    "id": "6BlKrRRev0Ck",
    "outputId": "489007af-a826-4953-aa48-339fda5335db"
   },
   "outputs": [
    {
     "name": "stdout",
     "output_type": "stream",
     "text": [
      "Car age for train: 12.099066321305946\n",
      "Car age for validation: 11.959967082970278\n"
     ]
    }
   ],
   "source": [
    "# Calculate the mean value of car age when 'FLAG_OWN_CAR' = Y for train and validation\n",
    "mean_train = train['OWN_CAR_AGE'].mean()\n",
    "mean_validation = validation['OWN_CAR_AGE'].mean()\n",
    "print(\"Car age for train:\", mean_train)\n",
    "print(\"Car age for validation:\", mean_validation)"
   ]
  },
  {
   "cell_type": "code",
   "execution_count": null,
   "metadata": {
    "id": "GwHekaw1aqdu"
   },
   "outputs": [],
   "source": [
    "# Fill values of OWN_CAR_AGE based on the values in FLAG_OWN_CAR for train and test\n",
    "train['OWN_CAR_AGE'] = train['OWN_CAR_AGE'].fillna(train['FLAG_OWN_CAR'])\n",
    "train['OWN_CAR_AGE'].replace({'N':-1, 'Y':12}, inplace = True)\n",
    "\n",
    "validation['OWN_CAR_AGE'] = validation['OWN_CAR_AGE'].fillna(validation['FLAG_OWN_CAR'])\n",
    "validation['OWN_CAR_AGE'].replace({'N':-1, 'Y':12}, inplace = True)"
   ]
  },
  {
   "cell_type": "code",
   "execution_count": null,
   "metadata": {
    "colab": {
     "base_uri": "https://localhost:8080/"
    },
    "id": "qhRekpSjyO4F",
    "outputId": "10344e3d-b2d0-44b2-e15f-47691acd1756"
   },
   "outputs": [
    {
     "name": "stdout",
     "output_type": "stream",
     "text": [
      "Missing values rate for train: 0.0\n",
      "Missing values rate for validation: 0.0\n"
     ]
    }
   ],
   "source": [
    "# Check the missing value rate of column OWN_CAR_AGE\n",
    "print(\"Missing values rate for train:\", train['OWN_CAR_AGE'].isna().sum()/len(train))\n",
    "print(\"Missing values rate for validation:\", validation['OWN_CAR_AGE'].isna().sum()/len(validation))"
   ]
  },
  {
   "cell_type": "markdown",
   "metadata": {
    "id": "oWXZH8HzyiDc"
   },
   "source": [
    "##### Column OCCUPATION_TYPE"
   ]
  },
  {
   "cell_type": "code",
   "execution_count": null,
   "metadata": {
    "id": "6ncDeRwLyee9"
   },
   "outputs": [],
   "source": [
    "# If NAME_INCOME_TYPE == Pensioner, fill na in OCCUPATION_TYPE with Retired for train and validation\n",
    "train.loc[train['NAME_INCOME_TYPE'] == 'Pensioner', 'OCCUPATION_TYPE'] = 'Retired'\n",
    "validation.loc[validation['NAME_INCOME_TYPE'] == 'Pensioner', 'OCCUPATION_TYPE'] = 'Retired'"
   ]
  },
  {
   "cell_type": "code",
   "execution_count": null,
   "metadata": {
    "colab": {
     "base_uri": "https://localhost:8080/"
    },
    "id": "B69X18D7yt7d",
    "outputId": "a92fec9c-fd89-4fce-bf96-b0bc1c49be49"
   },
   "outputs": [
    {
     "name": "stdout",
     "output_type": "stream",
     "text": [
      "Missing values rate for train: 0.13313915326550704\n",
      "Missing values rate for validation: 0.13391641095485798\n"
     ]
    }
   ],
   "source": [
    "# Check the missing values rate in OCCUPATION_TYPE\n",
    "print(\"Missing values rate for train:\", train['OCCUPATION_TYPE'].isna().sum()/len(train))\n",
    "print(\"Missing values rate for validation:\", validation['OCCUPATION_TYPE'].isna().sum()/len(validation))"
   ]
  },
  {
   "cell_type": "code",
   "execution_count": null,
   "metadata": {
    "colab": {
     "base_uri": "https://localhost:8080/"
    },
    "id": "Cutpe63aywvx",
    "outputId": "2bae416b-76b8-4fbf-e855-a73429480a2f"
   },
   "outputs": [
    {
     "name": "stdout",
     "output_type": "stream",
     "text": [
      "Most common occupation type for train: Retired\n",
      "Most common occupation type for validation: Retired\n"
     ]
    }
   ],
   "source": [
    "# Most common occupation type in train and validation\n",
    "print(\"Most common occupation type for train:\", train['OCCUPATION_TYPE'].value_counts().index[0])\n",
    "print(\"Most common occupation type for validation:\", validation['OCCUPATION_TYPE'].value_counts().index[0])"
   ]
  },
  {
   "cell_type": "code",
   "execution_count": null,
   "metadata": {
    "colab": {
     "base_uri": "https://localhost:8080/"
    },
    "id": "S8Wj6idnyznT",
    "outputId": "b16cc585-bd3d-4e52-c164-c57d2fc7c54a"
   },
   "outputs": [
    {
     "name": "stdout",
     "output_type": "stream",
     "text": [
      "Missing values for train: 0\n",
      "Missing values for validation: 0\n"
     ]
    }
   ],
   "source": [
    "# Fill the na in train and validation\n",
    "train['OCCUPATION_TYPE'].fillna('Retired', inplace = True)\n",
    "validation['OCCUPATION_TYPE'].fillna('Retired', inplace = True)\n",
    "\n",
    "# Checking missing values\n",
    "print(\"Missing values for train:\", train['OCCUPATION_TYPE'].isna().sum())\n",
    "print(\"Missing values for validation:\", validation['OCCUPATION_TYPE'].isna().sum())"
   ]
  },
  {
   "cell_type": "markdown",
   "metadata": {
    "id": "DglA9kh5zmJ9"
   },
   "source": [
    "#### Inpute other columns"
   ]
  },
  {
   "cell_type": "code",
   "execution_count": null,
   "metadata": {
    "colab": {
     "base_uri": "https://localhost:8080/"
    },
    "id": "ps5S6TUazjEX",
    "outputId": "909c6cfd-935e-4792-ba31-2924ee27cb6d"
   },
   "outputs": [
    {
     "name": "stdout",
     "output_type": "stream",
     "text": [
      "                          missing value rate\n",
      "NAME_TYPE_SUITE                           57\n",
      "EXT_SOURCE_2                              42\n",
      "OBS_30_CNT_SOCIAL_CIRCLE                  33\n",
      "DEF_30_CNT_SOCIAL_CIRCLE                  33\n",
      "TARGET                                     0\n",
      "FLAG_DOCUMENT_8                            0\n",
      "LIVE_CITY_NOT_WORK_CITY                    0\n",
      "ORGANIZATION_TYPE                          0\n",
      "DAYS_LAST_PHONE_CHANGE                     0\n",
      "FLAG_DOCUMENT_2                            0\n",
      "FLAG_DOCUMENT_3                            0\n",
      "FLAG_DOCUMENT_4                            0\n",
      "                          missing value rate\n",
      "NAME_TYPE_SUITE                           13\n",
      "EXT_SOURCE_2                              10\n",
      "OBS_30_CNT_SOCIAL_CIRCLE                   3\n",
      "DEF_30_CNT_SOCIAL_CIRCLE                   3\n",
      "TARGET                                     0\n",
      "FLAG_DOCUMENT_8                            0\n",
      "LIVE_CITY_NOT_WORK_CITY                    0\n",
      "ORGANIZATION_TYPE                          0\n",
      "DAYS_LAST_PHONE_CHANGE                     0\n",
      "FLAG_DOCUMENT_2                            0\n"
     ]
    }
   ],
   "source": [
    "missing_train = pd.DataFrame(train.isnull().sum(), columns =['missing value rate'])\n",
    "print(missing_train.sort_values(ascending = False, by = 'missing value rate')[0:12])\n",
    "\n",
    "missing_validation = pd.DataFrame(validation.isnull().sum(), columns =['missing value rate'])\n",
    "print(missing_validation.sort_values(ascending = False, by = 'missing value rate')[0:10])"
   ]
  },
  {
   "cell_type": "code",
   "execution_count": null,
   "metadata": {
    "id": "ZDkk7Tu-zcWh"
   },
   "outputs": [],
   "source": [
    "# Define functions to fill missing values in categorical variables and numerical variables\n",
    "def fill_missing(x, categorical = False):\n",
    "  if categorical == True:\n",
    "    val_train = train[x].value_counts().index[0]\n",
    "    val_validation = validation[x].value_counts().index[0]\n",
    "    \n",
    "    print(\"For column {}:\".format(x))\n",
    "    print(\"Most common values for train:\", val_train)\n",
    "    print(\"Most common values for test:\", val_validation)\n",
    "    \n",
    "    # Fill the na in train and validation\n",
    "    train[x].fillna(val_train, inplace = True)\n",
    "    validation[x].fillna(val_validation, inplace = True)\n",
    "    \n",
    "    # Checking missing values\n",
    "    print(\"Missing values left in train:\", train[x].isna().sum())\n",
    "    print(\"Missing values left in validation:\", validation[x].isna().sum())\n",
    "  \n",
    "  else:\n",
    "    median_train = train[x].median()\n",
    "    median_validation = validation[x].median()\n",
    "\n",
    "    print(\"For column {}:\".format(x))\n",
    "    print(\"Median value for train:\", median_train)\n",
    "    print(\"Median value for validation:\", median_validation)\n",
    "\n",
    "    # Fill missing value for train and validation\n",
    "    train[x].fillna(median_train, inplace = True)\n",
    "    validation[x].fillna(median_validation, inplace = True)\n",
    "    \n",
    "    # Checking missing values\n",
    "    print(\"Missing values left in train:\", train[x].isna().sum())\n",
    "    print(\"Missing values left in validation:\", validation[x].isna().sum())"
   ]
  },
  {
   "cell_type": "markdown",
   "metadata": {
    "id": "FsrVUCAaz_rT"
   },
   "source": [
    "##### Column: NAME_TYPE_SUITE\n",
    "\n",
    "```\n",
    "# This is formatted as code\n",
    "```\n",
    "\n"
   ]
  },
  {
   "cell_type": "code",
   "execution_count": null,
   "metadata": {
    "colab": {
     "base_uri": "https://localhost:8080/"
    },
    "id": "3WHBnakzz9Ta",
    "outputId": "6c8a798f-16c4-4c22-9f23-3f080b6f7e88"
   },
   "outputs": [
    {
     "name": "stdout",
     "output_type": "stream",
     "text": [
      "For column NAME_TYPE_SUITE:\n",
      "Most common values for train: Unaccompanied\n",
      "Most common values for test: Unaccompanied\n",
      "Missing values left in train: 0\n",
      "Missing values left in validation: 0\n"
     ]
    }
   ],
   "source": [
    "# Fill column NAME_TYPE_SUITE\n",
    "fill_missing('NAME_TYPE_SUITE', categorical = True)"
   ]
  },
  {
   "cell_type": "markdown",
   "metadata": {
    "id": "UEBVwKq10H9o"
   },
   "source": [
    "##### Column: EXT_SOURCE_2 "
   ]
  },
  {
   "cell_type": "code",
   "execution_count": null,
   "metadata": {
    "colab": {
     "base_uri": "https://localhost:8080/"
    },
    "id": "UOMePOAV0GNi",
    "outputId": "1d56ce44-2edc-4ca0-8209-2a8814b19b01"
   },
   "outputs": [
    {
     "name": "stdout",
     "output_type": "stream",
     "text": [
      "For column EXT_SOURCE_2:\n",
      "Median value for train: 0.5657357988357584\n",
      "Median value for validation: 0.5660312575232652\n",
      "Missing values left in train: 0\n",
      "Missing values left in validation: 0\n"
     ]
    }
   ],
   "source": [
    "# Fill column EXT_SOURCE_2\n",
    "fill_missing('EXT_SOURCE_2')"
   ]
  },
  {
   "cell_type": "markdown",
   "metadata": {
    "id": "IMS8uZVI0RDT"
   },
   "source": [
    "##### Column: OBS_30_CNT_SOCIAL_CIRCLE"
   ]
  },
  {
   "cell_type": "code",
   "execution_count": null,
   "metadata": {
    "colab": {
     "base_uri": "https://localhost:8080/"
    },
    "id": "jhUhgrJW0Tdo",
    "outputId": "31c94e71-6420-4423-d1c5-2baa67460077"
   },
   "outputs": [
    {
     "name": "stdout",
     "output_type": "stream",
     "text": [
      "For column OBS_30_CNT_SOCIAL_CIRCLE:\n",
      "Median value for train: 0.0\n",
      "Median value for validation: 0.0\n",
      "Missing values left in train: 0\n",
      "Missing values left in validation: 0\n"
     ]
    }
   ],
   "source": [
    "# Fill column OBS_30_CNT_SOCIAL_CIRCLE\n",
    "fill_missing('OBS_30_CNT_SOCIAL_CIRCLE')"
   ]
  },
  {
   "cell_type": "markdown",
   "metadata": {
    "id": "VbUdYWYV0iyn"
   },
   "source": [
    "##### Column: DEF_30_CNT_SOCIAL_CIRCLE"
   ]
  },
  {
   "cell_type": "code",
   "execution_count": null,
   "metadata": {
    "colab": {
     "base_uri": "https://localhost:8080/"
    },
    "id": "uZndtx2H0WVe",
    "outputId": "6c50b321-8367-420f-f7c8-00388772fb32"
   },
   "outputs": [
    {
     "name": "stdout",
     "output_type": "stream",
     "text": [
      "For column DEF_30_CNT_SOCIAL_CIRCLE:\n",
      "Median value for train: 0.0\n",
      "Median value for validation: 0.0\n",
      "Missing values left in train: 0\n",
      "Missing values left in validation: 0\n"
     ]
    }
   ],
   "source": [
    "# Fill column DEF_30_CNT_SOCIAL_CIRCLE\n",
    "fill_missing('DEF_30_CNT_SOCIAL_CIRCLE')"
   ]
  },
  {
   "cell_type": "code",
   "execution_count": null,
   "metadata": {
    "colab": {
     "base_uri": "https://localhost:8080/"
    },
    "id": "JnjLMaSw0qan",
    "outputId": "41e7efa6-6f0b-4b6e-bbb0-e4328e624ea5"
   },
   "outputs": [
    {
     "name": "stdout",
     "output_type": "stream",
     "text": [
      "Check missing values in train: False\n",
      "Check missing values in validation: False\n"
     ]
    }
   ],
   "source": [
    "print(\"Check missing values in train:\", train.isna().values.any())\n",
    "print(\"Check missing values in validation:\", validation.isna().values.any())"
   ]
  },
  {
   "cell_type": "markdown",
   "metadata": {
    "id": "17pvAziS0npk"
   },
   "source": [
    "### Deal with Categorical Variable"
   ]
  },
  {
   "cell_type": "code",
   "execution_count": null,
   "metadata": {
    "colab": {
     "base_uri": "https://localhost:8080/"
    },
    "id": "ML3_2AFi0zUs",
    "outputId": "6a85aac9-2579-4f10-e0f1-0510c9297f9f"
   },
   "outputs": [
    {
     "data": {
      "text/plain": [
       "Index(['NAME_CONTRACT_TYPE', 'CODE_GENDER', 'FLAG_OWN_CAR', 'FLAG_OWN_REALTY',\n",
       "       'NAME_TYPE_SUITE', 'NAME_INCOME_TYPE', 'NAME_EDUCATION_TYPE',\n",
       "       'NAME_FAMILY_STATUS', 'NAME_HOUSING_TYPE', 'OCCUPATION_TYPE',\n",
       "       'WEEKDAY_APPR_PROCESS_START', 'ORGANIZATION_TYPE'],\n",
       "      dtype='object')"
      ]
     },
     "execution_count": 19,
     "metadata": {
      "tags": []
     },
     "output_type": "execute_result"
    }
   ],
   "source": [
    "# Columns that are categorical variables\n",
    "cat_train_idx = train.dtypes[train.dtypes == 'object'].index\n",
    "cat_train_idx"
   ]
  },
  {
   "cell_type": "markdown",
   "metadata": {
    "id": "RHSE9MzG0wG1"
   },
   "source": [
    "##### Categorical variable: OCCUPATION_TYPE"
   ]
  },
  {
   "cell_type": "code",
   "execution_count": null,
   "metadata": {
    "colab": {
     "base_uri": "https://localhost:8080/"
    },
    "id": "eIiWRDUW05BP",
    "outputId": "15e34079-c1f0-4790-c022-4528ec18a251"
   },
   "outputs": [
    {
     "data": {
      "text/plain": [
       "Retired                  76312\n",
       "Laborers                 43794\n",
       "Sales staff              25489\n",
       "Core staff               21914\n",
       "Managers                 16895\n",
       "Drivers                  14865\n",
       "High skill tech staff     9016\n",
       "Accountants               7705\n",
       "Medicine staff            6757\n",
       "Security staff            5343\n",
       "Cooking staff             4692\n",
       "Cleaning staff            3693\n",
       "Private service staff     2076\n",
       "Low-skill Laborers        1676\n",
       "Waiters/barmen staff      1068\n",
       "Secretaries               1007\n",
       "Realty agents              584\n",
       "HR staff                   447\n",
       "IT staff                   427\n",
       "Name: OCCUPATION_TYPE, dtype: int64"
      ]
     },
     "execution_count": 20,
     "metadata": {
      "tags": []
     },
     "output_type": "execute_result"
    }
   ],
   "source": [
    "train['OCCUPATION_TYPE'].value_counts()"
   ]
  },
  {
   "cell_type": "code",
   "execution_count": null,
   "metadata": {
    "id": "qZa1JScH0-oy"
   },
   "outputs": [],
   "source": [
    "# Deal with the levels in data\n",
    "train.replace({'OCCUPATION_TYPE':{'Sales staff': 'White collar',\n",
    "                                  'Core staff': 'White collar',\n",
    "                                  'Managers': 'White collar',\n",
    "                                  'Drivers': 'Blue collar',\n",
    "                                  'High skill tech staff': 'White collar',\n",
    "                                  'Accountants': 'White collar',\n",
    "                                  'Medicine staff': 'White collar',\n",
    "                                  'Security staff': 'Blue collar',\n",
    "                                  'Cooking staff': 'Blue collar',\n",
    "                                  'Cleaning staff': 'Blue collar',\n",
    "                                  'Private service staff': 'Blue collar',\n",
    "                                  'Low-skill Laborers': 'Blue collar',\n",
    "                                  'Waiters/barmen staff': 'Blue collar',\n",
    "                                  'Secretaries': 'White collar',\n",
    "                                  'Realty agents': 'White collar',\n",
    "                                  'HR staff': 'White collar',\n",
    "                                  'IT staff': 'White collar'}}, inplace = True)"
   ]
  },
  {
   "cell_type": "code",
   "execution_count": null,
   "metadata": {
    "colab": {
     "base_uri": "https://localhost:8080/"
    },
    "id": "uKgiAT4a1CI1",
    "outputId": "1eec4ab4-72a1-4703-9fed-2cec51b6f43b"
   },
   "outputs": [
    {
     "data": {
      "text/plain": [
       "White collar    90241\n",
       "Retired         76312\n",
       "Laborers        43794\n",
       "Blue collar     33413\n",
       "Name: OCCUPATION_TYPE, dtype: int64"
      ]
     },
     "execution_count": 22,
     "metadata": {
      "tags": []
     },
     "output_type": "execute_result"
    }
   ],
   "source": [
    "train['OCCUPATION_TYPE'].value_counts()"
   ]
  },
  {
   "cell_type": "code",
   "execution_count": null,
   "metadata": {
    "id": "SVfxdagp1D-Y"
   },
   "outputs": [],
   "source": [
    "# Deal with the values in validation\n",
    "validation.replace({'OCCUPATION_TYPE':{'Sales staff': 'White collar',\n",
    "                                  'Core staff': 'White collar',\n",
    "                                  'Managers': 'White collar',\n",
    "                                  'Drivers': 'Blue collar',\n",
    "                                  'High skill tech staff': 'White collar',\n",
    "                                  'Accountants': 'White collar',\n",
    "                                  'Medicine staff': 'White collar',\n",
    "                                  'Security staff': 'Blue collar',\n",
    "                                  'Cooking staff': 'Blue collar',\n",
    "                                  'Cleaning staff': 'Blue collar',\n",
    "                                  'Private service staff': 'Blue collar',\n",
    "                                  'Low-skill Laborers': 'Blue collar',\n",
    "                                  'Waiters/barmen staff': 'Blue collar',\n",
    "                                  'Secretaries': 'White collar',\n",
    "                                  'Realty agents': 'White collar',\n",
    "                                  'HR staff': 'White collar',\n",
    "                                  'IT staff': 'White collar'}}, inplace = True)"
   ]
  },
  {
   "cell_type": "code",
   "execution_count": null,
   "metadata": {
    "colab": {
     "base_uri": "https://localhost:8080/"
    },
    "id": "yf6IVTaO1JEa",
    "outputId": "6270b916-2728-443e-b876-41933ee257f5"
   },
   "outputs": [
    {
     "data": {
      "text/plain": [
       "White collar    22517\n",
       "Retired         19167\n",
       "Laborers        10970\n",
       "Blue collar      8287\n",
       "Name: OCCUPATION_TYPE, dtype: int64"
      ]
     },
     "execution_count": 24,
     "metadata": {
      "tags": []
     },
     "output_type": "execute_result"
    }
   ],
   "source": [
    "validation['OCCUPATION_TYPE'].value_counts()"
   ]
  },
  {
   "cell_type": "markdown",
   "metadata": {
    "id": "qslSFna_1KWV"
   },
   "source": [
    "##### Categorical Variable: NAME_INCOME_TYPE"
   ]
  },
  {
   "cell_type": "code",
   "execution_count": null,
   "metadata": {
    "colab": {
     "base_uri": "https://localhost:8080/"
    },
    "id": "2H7xZ4nz1NFx",
    "outputId": "20d34639-72bb-43ea-c650-f7546377e503"
   },
   "outputs": [
    {
     "data": {
      "text/plain": [
       "Working                 126047\n",
       "Commercial associate     56592\n",
       "Pensioner                43858\n",
       "State servant            17221\n",
       "Unemployed                  15\n",
       "Student                     14\n",
       "Businessman                  8\n",
       "Maternity leave              5\n",
       "Name: NAME_INCOME_TYPE, dtype: int64"
      ]
     },
     "execution_count": 25,
     "metadata": {
      "tags": []
     },
     "output_type": "execute_result"
    }
   ],
   "source": [
    "train['NAME_INCOME_TYPE'].value_counts()"
   ]
  },
  {
   "cell_type": "markdown",
   "metadata": {
    "id": "CO8BnEZl1RzC"
   },
   "source": [
    "Group unemployed, student, businessman and maternity leave in a small group - other.\n",
    "<br> The reason to group these four levels is that only a few records are in those levels. It always happens that only train set contains some levels. For instance, Maternity leave only has 5 records. When doing train test split, only train set contains this 5 records. After doing one hot encoding, this results in the train and validation set in different shape.  "
   ]
  },
  {
   "cell_type": "code",
   "execution_count": null,
   "metadata": {
    "id": "wohltb8U1Pmf"
   },
   "outputs": [],
   "source": [
    "# Deal with train\n",
    "train.replace({'NAME_INCOME_TYPE':{'Unemployed': 'Other',\n",
    "                                   'Student': 'Other',\n",
    "                                   'Businessman': 'Other',\n",
    "                                   'Maternity leave': 'Other'}}, inplace = True)"
   ]
  },
  {
   "cell_type": "code",
   "execution_count": null,
   "metadata": {
    "colab": {
     "base_uri": "https://localhost:8080/"
    },
    "id": "XLlAp2r51a02",
    "outputId": "099b6212-933e-4899-c87a-f8c97630f5a0"
   },
   "outputs": [
    {
     "data": {
      "text/plain": [
       "Working                 126047\n",
       "Commercial associate     56592\n",
       "Pensioner                43858\n",
       "State servant            17221\n",
       "Other                       42\n",
       "Name: NAME_INCOME_TYPE, dtype: int64"
      ]
     },
     "execution_count": 27,
     "metadata": {
      "tags": []
     },
     "output_type": "execute_result"
    }
   ],
   "source": [
    "train['NAME_INCOME_TYPE'].value_counts()"
   ]
  },
  {
   "cell_type": "code",
   "execution_count": null,
   "metadata": {
    "id": "0juX3cbL1cF-"
   },
   "outputs": [],
   "source": [
    "# Deal with validation\n",
    "validation.replace({'NAME_INCOME_TYPE':{'Unemployed': 'Other',\n",
    "                                        'Student': 'Other',\n",
    "                                        'Businessman': 'Other',\n",
    "                                        'Maternity leave': 'Other'}}, inplace = True)"
   ]
  },
  {
   "cell_type": "code",
   "execution_count": null,
   "metadata": {
    "colab": {
     "base_uri": "https://localhost:8080/"
    },
    "id": "fBFBWE4m1eVF",
    "outputId": "d983b87b-0610-4b11-98dc-ee735f0856f0"
   },
   "outputs": [
    {
     "data": {
      "text/plain": [
       "Working                 31387\n",
       "Commercial associate    14243\n",
       "Pensioner               11006\n",
       "State servant            4296\n",
       "Other                       9\n",
       "Name: NAME_INCOME_TYPE, dtype: int64"
      ]
     },
     "execution_count": 29,
     "metadata": {
      "tags": []
     },
     "output_type": "execute_result"
    }
   ],
   "source": [
    "validation['NAME_INCOME_TYPE'].value_counts()"
   ]
  },
  {
   "cell_type": "markdown",
   "metadata": {
    "id": "o6B8SQLf1j7D"
   },
   "source": [
    "##### Categorical variable: ORGANIZATION_TYPE"
   ]
  },
  {
   "cell_type": "code",
   "execution_count": null,
   "metadata": {
    "colab": {
     "base_uri": "https://localhost:8080/"
    },
    "id": "lWTSjipf1g01",
    "outputId": "d5479e6f-f670-4d08-ba73-c3a4d1811681"
   },
   "outputs": [
    {
     "data": {
      "text/plain": [
       "Business Entity Type 3    53886\n",
       "XNA                       43865\n",
       "Self-employed             30488\n",
       "Other                     13161\n",
       "Medicine                   8825\n",
       "Business Entity Type 2     8364\n",
       "Government                 8333\n",
       "School                     7037\n",
       "Trade: type 7              6169\n",
       "Kindergarten               5529\n",
       "Construction               5286\n",
       "Business Entity Type 1     4731\n",
       "Transport: type 4          4316\n",
       "Trade: type 3              2757\n",
       "Industry: type 9           2674\n",
       "Industry: type 3           2638\n",
       "Security                   2596\n",
       "Housing                    2318\n",
       "Industry: type 11          2155\n",
       "Military                   2090\n",
       "Name: ORGANIZATION_TYPE, dtype: int64"
      ]
     },
     "execution_count": 30,
     "metadata": {
      "tags": []
     },
     "output_type": "execute_result"
    }
   ],
   "source": [
    "train['ORGANIZATION_TYPE'].value_counts()[0:20]"
   ]
  },
  {
   "cell_type": "code",
   "execution_count": null,
   "metadata": {
    "id": "C0hbRZ2U1nzF"
   },
   "outputs": [],
   "source": [
    "# Drop columns ORGANIZATION_TYPE\n",
    "train = train.drop('ORGANIZATION_TYPE', axis = 1)\n",
    "validation = validation.drop('ORGANIZATION_TYPE', axis = 1)"
   ]
  },
  {
   "cell_type": "markdown",
   "metadata": {
    "id": "sbxWZA8N1u8n"
   },
   "source": [
    "#### One-Hot Encoding"
   ]
  },
  {
   "cell_type": "code",
   "execution_count": null,
   "metadata": {
    "id": "zlLoHtUl1tyw"
   },
   "outputs": [],
   "source": [
    "# Conduct one-hot encoding, drop_first should be True to get the dummy variables\n",
    "train = pd.get_dummies(train, drop_first = True)\n",
    "validation = pd.get_dummies(validation, drop_first = True)"
   ]
  },
  {
   "cell_type": "code",
   "execution_count": null,
   "metadata": {
    "colab": {
     "base_uri": "https://localhost:8080/"
    },
    "id": "icYimTMd1zFB",
    "outputId": "41692839-4ae5-494f-fc07-3744ddeb5ac0"
   },
   "outputs": [
    {
     "name": "stdout",
     "output_type": "stream",
     "text": [
      "Train shape: (243760, 82)\n",
      "validation shape: (60941, 81)\n"
     ]
    }
   ],
   "source": [
    "print(\"Train shape:\", train.shape)\n",
    "print(\"validation shape:\", validation.shape)"
   ]
  },
  {
   "cell_type": "code",
   "execution_count": null,
   "metadata": {
    "colab": {
     "base_uri": "https://localhost:8080/"
    },
    "id": "Y2HQMlm32B5B",
    "outputId": "314fd283-4f9a-459b-d6c3-baad0a72499c"
   },
   "outputs": [
    {
     "data": {
      "text/plain": [
       "['CODE_GENDER_XNA']"
      ]
     },
     "execution_count": 34,
     "metadata": {
      "tags": []
     },
     "output_type": "execute_result"
    }
   ],
   "source": [
    "# We have one column missing for validation. Match columns in train and validation\n",
    "def list_diff(list1, list2): \n",
    " list_difference = []\n",
    " for item in list1: \n",
    "    if item not in list2:\n",
    "      list_difference.append(item)\n",
    " return list_difference\n",
    "list_diff(list(train.columns),list(validation.columns))"
   ]
  },
  {
   "cell_type": "markdown",
   "metadata": {
    "id": "GDIwwkmy2jeN"
   },
   "source": [
    "After further exploration, we find that 'CODE_GENDER_XNA' only has four records, we can drop this column as well."
   ]
  },
  {
   "cell_type": "code",
   "execution_count": null,
   "metadata": {
    "colab": {
     "base_uri": "https://localhost:8080/"
    },
    "id": "5zw0w_nv2TcG",
    "outputId": "ec857880-757a-420f-c326-b6991cb98ef8"
   },
   "outputs": [
    {
     "data": {
      "text/plain": [
       "SK_ID_CURR\n",
       "319880    1\n",
       "144669    1\n",
       "196708    1\n",
       "141289    1\n",
       "166591    0\n",
       "Name: CODE_GENDER_XNA, dtype: uint8"
      ]
     },
     "execution_count": 35,
     "metadata": {
      "tags": []
     },
     "output_type": "execute_result"
    }
   ],
   "source": [
    "train['CODE_GENDER_XNA'].sort_values(ascending = False)[0:5]"
   ]
  },
  {
   "cell_type": "code",
   "execution_count": null,
   "metadata": {
    "id": "vguZqwwy2nFJ"
   },
   "outputs": [],
   "source": [
    "# Drop the four rows\n",
    "train.drop([319880, 144669, 196708, 141289], inplace = True)"
   ]
  },
  {
   "cell_type": "code",
   "execution_count": null,
   "metadata": {
    "id": "nFc1Fv9B25ot"
   },
   "outputs": [],
   "source": [
    "# Then drop the column CODE_GENDER_XNA' in train\n",
    "train.drop('CODE_GENDER_XNA', axis = 1, inplace = True)"
   ]
  },
  {
   "cell_type": "code",
   "execution_count": null,
   "metadata": {
    "colab": {
     "base_uri": "https://localhost:8080/"
    },
    "id": "pTMffiKx28xE",
    "outputId": "c987eaad-f032-4c75-8424-715d4e45b38d"
   },
   "outputs": [
    {
     "name": "stdout",
     "output_type": "stream",
     "text": [
      "(243756, 81)\n",
      "(60941, 81)\n"
     ]
    }
   ],
   "source": [
    "print(train.shape)\n",
    "print(validation.shape)"
   ]
  },
  {
   "cell_type": "markdown",
   "metadata": {
    "id": "cgZt14qt3Ee4"
   },
   "source": [
    "### Normalize the data"
   ]
  },
  {
   "cell_type": "code",
   "execution_count": null,
   "metadata": {
    "colab": {
     "base_uri": "https://localhost:8080/"
    },
    "id": "hOXdT29v3Daq",
    "outputId": "3a578b33-ce7e-4a92-a79a-a77546878761"
   },
   "outputs": [
    {
     "name": "stdout",
     "output_type": "stream",
     "text": [
      "X_train shape: (243756, 80) y_train shape: (243756,)\n",
      "X_validation shape: (60941, 80) y_validation shape: (60941,)\n"
     ]
    }
   ],
   "source": [
    "# Prepare X_train, X_validation, y_train, y_validation\n",
    "X_train_rw = train.drop('TARGET', axis = 1)\n",
    "X_validation_rw = validation.drop('TARGET', axis = 1)\n",
    "\n",
    "y_train = train['TARGET']\n",
    "y_validation = validation['TARGET']\n",
    "\n",
    "print(\"X_train shape:\", X_train_rw.shape, \"y_train shape:\", y_train.shape)\n",
    "print(\"X_validation shape:\", X_validation_rw.shape, \"y_validation shape:\", y_validation.shape)"
   ]
  },
  {
   "cell_type": "code",
   "execution_count": null,
   "metadata": {
    "colab": {
     "base_uri": "https://localhost:8080/"
    },
    "id": "6xVGl2S-3Js7",
    "outputId": "026a6c22-4c86-4f90-e9a7-39bd0bee0b2e"
   },
   "outputs": [
    {
     "data": {
      "text/plain": [
       "StandardScaler(copy=True, with_mean=True, with_std=True)"
      ]
     },
     "execution_count": 40,
     "metadata": {
      "tags": []
     },
     "output_type": "execute_result"
    }
   ],
   "source": [
    "# Standardize the train and validation data\n",
    "scaler = StandardScaler()\n",
    "scaler.fit(X_train_rw, y_train)"
   ]
  },
  {
   "cell_type": "code",
   "execution_count": null,
   "metadata": {
    "id": "DPa1bYb73S6J"
   },
   "outputs": [],
   "source": [
    "X_train = scaler.transform(X_train_rw)\n",
    "X_validation = scaler.transform(X_validation_rw)"
   ]
  },
  {
   "cell_type": "code",
   "execution_count": null,
   "metadata": {
    "id": "Katlbtj033yt"
   },
   "outputs": [],
   "source": [
    "X_test=X_validation \n",
    "y_test=y_validation"
   ]
  },
  {
   "cell_type": "markdown",
   "metadata": {
    "id": "DHJYonZv3aF1"
   },
   "source": [
    "## Oversampling minority class using SMOTE and Undersampling Majority Class using Randomundersampling (USM)"
   ]
  },
  {
   "cell_type": "code",
   "execution_count": null,
   "metadata": {
    "colab": {
     "base_uri": "https://localhost:8080/"
    },
    "id": "zZ9J7NUd3UvB",
    "outputId": "91f509dc-3a51-4f03-f416-fc6165567616"
   },
   "outputs": [
    {
     "name": "stderr",
     "output_type": "stream",
     "text": [
      "/usr/local/lib/python3.6/dist-packages/sklearn/externals/six.py:31: FutureWarning: The module is deprecated in version 0.21 and will be removed in version 0.23 since we've dropped support for Python 2.7. Please rely on the official version of six (https://pypi.org/project/six/).\n",
      "  \"(https://pypi.org/project/six/).\", FutureWarning)\n",
      "/usr/local/lib/python3.6/dist-packages/sklearn/utils/deprecation.py:144: FutureWarning: The sklearn.neighbors.base module is  deprecated in version 0.22 and will be removed in version 0.24. The corresponding classes / functions should instead be imported from sklearn.neighbors. Anything that cannot be imported from sklearn.neighbors is now part of the private API.\n",
      "  warnings.warn(message, FutureWarning)\n"
     ]
    }
   ],
   "source": [
    "from imblearn.over_sampling import SMOTE\n",
    "from imblearn.under_sampling import RandomUnderSampler\n",
    "from collections import Counter\n",
    "from sklearn import metrics as skm\n",
    "from sklearn.ensemble import RandomForestClassifier"
   ]
  },
  {
   "cell_type": "markdown",
   "metadata": {
    "id": "R8zxgC6h4_UI"
   },
   "source": [
    "### Let's run the data without any undersampling or oversampling using basic Random Forest and see what is the AUC SCORE"
   ]
  },
  {
   "cell_type": "markdown",
   "metadata": {
    "id": "ukhMyxxh66gz"
   },
   "source": [
    "### Now we undersample the majority class to the same size of minority class and check AUC Score"
   ]
  },
  {
   "cell_type": "code",
   "execution_count": null,
   "metadata": {
    "colab": {
     "base_uri": "https://localhost:8080/"
    },
    "id": "3lYnw1mN7FnC",
    "outputId": "c4b18d3f-a28f-47bc-c6fb-c3ee3907cf12"
   },
   "outputs": [
    {
     "name": "stdout",
     "output_type": "stream",
     "text": [
      "Before usm:  Counter({0: 223896, 1: 19860})\n",
      "After usm:  Counter({0: 19860, 1: 19860})\n"
     ]
    },
    {
     "name": "stderr",
     "output_type": "stream",
     "text": [
      "/usr/local/lib/python3.6/dist-packages/sklearn/utils/deprecation.py:87: FutureWarning: Function safe_indexing is deprecated; safe_indexing is deprecated in version 0.22 and will be removed in version 0.24.\n",
      "  warnings.warn(msg, category=FutureWarning)\n"
     ]
    }
   ],
   "source": [
    "# extreme undersampling major class \n",
    "under = RandomUnderSampler(sampling_strategy=1)\n",
    "X_train_usm, y_train_usm = under.fit_sample(X_train.astype('float'), y_train)\n",
    "print(\"Before usm: \", Counter(y_train))\n",
    "print(\"After usm: \", Counter(y_train_usm))"
   ]
  },
  {
   "cell_type": "markdown",
   "metadata": {
    "id": "7dLhWS0Nb1qq"
   },
   "source": [
    "### Run ANN Regression "
   ]
  },
  {
   "cell_type": "code",
   "execution_count": null,
   "metadata": {
    "id": "KhQPhXW_eff3"
   },
   "outputs": [],
   "source": [
    "%matplotlib inline\n",
    "plt.rcParams['figure.figsize'] = (7,7)\n",
    "from keras.models import Sequential\n",
    "from keras.layers import Dense,Activation, Flatten, Dropout, BatchNormalization\n",
    "from keras.callbacks import EarlyStopping, ModelCheckpoint, TensorBoard\n",
    "from keras.utils import to_categorical"
   ]
  },
  {
   "cell_type": "code",
   "execution_count": null,
   "metadata": {
    "id": "MKWP4jS7kIBZ"
   },
   "outputs": [],
   "source": [
    "y_train=to_categorical(y_train)\n",
    "y_test= to_categorical(y_test)"
   ]
  },
  {
   "cell_type": "code",
   "execution_count": null,
   "metadata": {
    "colab": {
     "base_uri": "https://localhost:8080/"
    },
    "id": "2AQnG_z3uDaz",
    "outputId": "2330f1e4-457b-42e7-ff58-5b569e611ead"
   },
   "outputs": [
    {
     "data": {
      "text/plain": [
       "80"
      ]
     },
     "execution_count": 47,
     "metadata": {
      "tags": []
     },
     "output_type": "execute_result"
    }
   ],
   "source": [
    "n_cols = X_train.shape[1]\n",
    "n_cols"
   ]
  },
  {
   "cell_type": "code",
   "execution_count": null,
   "metadata": {
    "colab": {
     "base_uri": "https://localhost:8080/"
    },
    "id": "b99cp2F-eGqj",
    "outputId": "4979f1b6-70d8-446e-e58b-ecaabad1d30b"
   },
   "outputs": [
    {
     "name": "stdout",
     "output_type": "stream",
     "text": [
      "Model: \"sequential\"\n",
      "_________________________________________________________________\n",
      "Layer (type)                 Output Shape              Param #   \n",
      "=================================================================\n",
      "dense (Dense)                (None, 64)                5184      \n",
      "_________________________________________________________________\n",
      "batch_normalization (BatchNo (None, 64)                256       \n",
      "_________________________________________________________________\n",
      "dense_1 (Dense)              (None, 64)                4160      \n",
      "_________________________________________________________________\n",
      "dropout (Dropout)            (None, 64)                0         \n",
      "_________________________________________________________________\n",
      "dense_2 (Dense)              (None, 128)               8320      \n",
      "_________________________________________________________________\n",
      "batch_normalization_1 (Batch (None, 128)               512       \n",
      "_________________________________________________________________\n",
      "dropout_1 (Dropout)          (None, 128)               0         \n",
      "_________________________________________________________________\n",
      "dense_3 (Dense)              (None, 128)               16512     \n",
      "_________________________________________________________________\n",
      "dropout_2 (Dropout)          (None, 128)               0         \n",
      "_________________________________________________________________\n",
      "dense_4 (Dense)              (None, 256)               33024     \n",
      "_________________________________________________________________\n",
      "batch_normalization_2 (Batch (None, 256)               1024      \n",
      "_________________________________________________________________\n",
      "dropout_3 (Dropout)          (None, 256)               0         \n",
      "_________________________________________________________________\n",
      "dense_5 (Dense)              (None, 256)               65792     \n",
      "_________________________________________________________________\n",
      "batch_normalization_3 (Batch (None, 256)               1024      \n",
      "_________________________________________________________________\n",
      "dropout_4 (Dropout)          (None, 256)               0         \n",
      "_________________________________________________________________\n",
      "dense_6 (Dense)              (None, 2)                 514       \n",
      "=================================================================\n",
      "Total params: 136,322\n",
      "Trainable params: 134,914\n",
      "Non-trainable params: 1,408\n",
      "_________________________________________________________________\n"
     ]
    }
   ],
   "source": [
    "#create model\n",
    "model = Sequential()\n",
    "\n",
    "#get number of columns in training data\n",
    "n_cols = X_train.shape[1]\n",
    "\n",
    "#add layers to model\n",
    "model.add(Dense(64, activation='relu', input_shape=(n_cols,)))\n",
    "model.add(BatchNormalization())\n",
    "model.add(Dense(64, activation='relu'))\n",
    "model.add(Dropout(0.4))\n",
    "model.add(Dense(128, activation='relu'))\n",
    "model.add(BatchNormalization())\n",
    "model.add(Dropout(0.4))\n",
    "model.add(Dense(128, activation='relu'))\n",
    "model.add(Dropout(0.4))\n",
    "model.add(Dense(256, activation='relu'))\n",
    "model.add(BatchNormalization())\n",
    "model.add(Dropout(0.4))\n",
    "model.add(Dense(256, activation='relu'))\n",
    "model.add(BatchNormalization())\n",
    "model.add(Dropout(0.4))\n",
    "model.add(Dense(2, activation='softmax'))\n",
    "\n",
    "#compile model using accuracy to measure model performance\n",
    "model.compile(optimizer='adam', loss='categorical_crossentropy', metrics=['accuracy'])\n",
    "model.summary()"
   ]
  },
  {
   "cell_type": "code",
   "execution_count": null,
   "metadata": {
    "id": "N62oH3RqgvEV"
   },
   "outputs": [],
   "source": [
    "#set early stopping monitor so the model stops training when it won't improve anymore\n",
    "epochs1 = 200\n",
    "es = EarlyStopping(monitor='val_loss', mode='min', verbose=1,patience=70)"
   ]
  },
  {
   "cell_type": "markdown",
   "metadata": {
    "id": "GA8K3zJbtc46"
   },
   "source": [
    "### Oringal Data Cost Function Weight Ratio 1:1"
   ]
  },
  {
   "cell_type": "code",
   "execution_count": null,
   "metadata": {
    "colab": {
     "base_uri": "https://localhost:8080/"
    },
    "id": "nybt8r9Bsd8S",
    "outputId": "85746c0f-17a0-4546-cefc-2374f0763c63"
   },
   "outputs": [
    {
     "name": "stdout",
     "output_type": "stream",
     "text": [
      "Epoch 1/200\n",
      "1429/1429 [==============================] - 9s 6ms/step - loss: 0.3302 - accuracy: 0.8990 - val_loss: 0.2743 - val_accuracy: 0.9191\n",
      "Epoch 2/200\n",
      "1429/1429 [==============================] - 8s 6ms/step - loss: 0.2756 - accuracy: 0.9179 - val_loss: 0.2657 - val_accuracy: 0.9191\n",
      "Epoch 3/200\n",
      "1429/1429 [==============================] - 8s 6ms/step - loss: 0.2707 - accuracy: 0.9180 - val_loss: 0.2641 - val_accuracy: 0.9191\n",
      "Epoch 4/200\n",
      "1429/1429 [==============================] - 8s 6ms/step - loss: 0.2686 - accuracy: 0.9181 - val_loss: 0.2622 - val_accuracy: 0.9191\n",
      "Epoch 5/200\n",
      "1429/1429 [==============================] - 8s 6ms/step - loss: 0.2675 - accuracy: 0.9182 - val_loss: 0.2678 - val_accuracy: 0.9191\n",
      "Epoch 6/200\n",
      "1429/1429 [==============================] - 8s 6ms/step - loss: 0.2664 - accuracy: 0.9181 - val_loss: 0.2631 - val_accuracy: 0.9191\n",
      "Epoch 7/200\n",
      "1429/1429 [==============================] - 8s 6ms/step - loss: 0.2659 - accuracy: 0.9181 - val_loss: 0.2623 - val_accuracy: 0.9192\n",
      "Epoch 8/200\n",
      "1429/1429 [==============================] - 8s 6ms/step - loss: 0.2647 - accuracy: 0.9183 - val_loss: 0.2614 - val_accuracy: 0.9192\n",
      "Epoch 9/200\n",
      "1429/1429 [==============================] - 8s 6ms/step - loss: 0.2640 - accuracy: 0.9181 - val_loss: 0.2644 - val_accuracy: 0.9191\n",
      "Epoch 10/200\n",
      "1429/1429 [==============================] - 8s 6ms/step - loss: 0.2635 - accuracy: 0.9182 - val_loss: 0.2615 - val_accuracy: 0.9192\n",
      "Epoch 11/200\n",
      "1429/1429 [==============================] - 8s 6ms/step - loss: 0.2628 - accuracy: 0.9182 - val_loss: 0.2628 - val_accuracy: 0.9192\n",
      "Epoch 12/200\n",
      "1429/1429 [==============================] - 8s 6ms/step - loss: 0.2621 - accuracy: 0.9181 - val_loss: 0.2626 - val_accuracy: 0.9192\n",
      "Epoch 13/200\n",
      "1429/1429 [==============================] - 8s 6ms/step - loss: 0.2613 - accuracy: 0.9182 - val_loss: 0.2622 - val_accuracy: 0.9191\n",
      "Epoch 14/200\n",
      "1429/1429 [==============================] - 8s 6ms/step - loss: 0.2608 - accuracy: 0.9182 - val_loss: 0.2633 - val_accuracy: 0.9192\n",
      "Epoch 15/200\n",
      "1429/1429 [==============================] - 9s 6ms/step - loss: 0.2604 - accuracy: 0.9182 - val_loss: 0.2633 - val_accuracy: 0.9192\n",
      "Epoch 16/200\n",
      "1429/1429 [==============================] - 8s 6ms/step - loss: 0.2597 - accuracy: 0.9183 - val_loss: 0.2630 - val_accuracy: 0.9191\n",
      "Epoch 17/200\n",
      "1429/1429 [==============================] - 8s 6ms/step - loss: 0.2594 - accuracy: 0.9181 - val_loss: 0.2623 - val_accuracy: 0.9191\n",
      "Epoch 18/200\n",
      "1429/1429 [==============================] - 9s 6ms/step - loss: 0.2587 - accuracy: 0.9182 - val_loss: 0.2644 - val_accuracy: 0.9192\n",
      "Epoch 19/200\n",
      "1429/1429 [==============================] - 9s 6ms/step - loss: 0.2581 - accuracy: 0.9183 - val_loss: 0.2627 - val_accuracy: 0.9192\n",
      "Epoch 20/200\n",
      "1429/1429 [==============================] - 8s 6ms/step - loss: 0.2580 - accuracy: 0.9182 - val_loss: 0.2632 - val_accuracy: 0.9192\n",
      "Epoch 21/200\n",
      "1429/1429 [==============================] - 8s 6ms/step - loss: 0.2574 - accuracy: 0.9180 - val_loss: 0.2632 - val_accuracy: 0.9192\n",
      "Epoch 22/200\n",
      "1429/1429 [==============================] - 8s 6ms/step - loss: 0.2570 - accuracy: 0.9181 - val_loss: 0.2635 - val_accuracy: 0.9191\n",
      "Epoch 23/200\n",
      "1429/1429 [==============================] - 8s 6ms/step - loss: 0.2566 - accuracy: 0.9181 - val_loss: 0.2630 - val_accuracy: 0.9192\n",
      "Epoch 24/200\n",
      "1429/1429 [==============================] - 8s 6ms/step - loss: 0.2563 - accuracy: 0.9182 - val_loss: 0.2634 - val_accuracy: 0.9191\n",
      "Epoch 25/200\n",
      "1429/1429 [==============================] - 8s 6ms/step - loss: 0.2558 - accuracy: 0.9182 - val_loss: 0.2632 - val_accuracy: 0.9192\n",
      "Epoch 26/200\n",
      "1429/1429 [==============================] - 8s 6ms/step - loss: 0.2554 - accuracy: 0.9182 - val_loss: 0.2626 - val_accuracy: 0.9191\n",
      "Epoch 27/200\n",
      "1429/1429 [==============================] - 8s 6ms/step - loss: 0.2553 - accuracy: 0.9181 - val_loss: 0.2638 - val_accuracy: 0.9190\n",
      "Epoch 28/200\n",
      "1429/1429 [==============================] - 8s 6ms/step - loss: 0.2548 - accuracy: 0.9183 - val_loss: 0.2658 - val_accuracy: 0.9190\n",
      "Epoch 29/200\n",
      "1429/1429 [==============================] - 8s 6ms/step - loss: 0.2545 - accuracy: 0.9182 - val_loss: 0.2642 - val_accuracy: 0.9191\n",
      "Epoch 30/200\n",
      "1429/1429 [==============================] - 8s 6ms/step - loss: 0.2543 - accuracy: 0.9183 - val_loss: 0.2653 - val_accuracy: 0.9191\n",
      "Epoch 31/200\n",
      "1429/1429 [==============================] - 8s 6ms/step - loss: 0.2537 - accuracy: 0.9182 - val_loss: 0.2642 - val_accuracy: 0.9190\n",
      "Epoch 32/200\n",
      "1429/1429 [==============================] - 8s 6ms/step - loss: 0.2538 - accuracy: 0.9182 - val_loss: 0.2644 - val_accuracy: 0.9191\n",
      "Epoch 33/200\n",
      "1429/1429 [==============================] - 8s 6ms/step - loss: 0.2534 - accuracy: 0.9182 - val_loss: 0.2641 - val_accuracy: 0.9191\n",
      "Epoch 34/200\n",
      "1429/1429 [==============================] - 8s 6ms/step - loss: 0.2531 - accuracy: 0.9182 - val_loss: 0.2658 - val_accuracy: 0.9191\n",
      "Epoch 35/200\n",
      "1429/1429 [==============================] - 8s 6ms/step - loss: 0.2525 - accuracy: 0.9181 - val_loss: 0.2662 - val_accuracy: 0.9189\n",
      "Epoch 36/200\n",
      "1429/1429 [==============================] - 8s 6ms/step - loss: 0.2531 - accuracy: 0.9182 - val_loss: 0.2661 - val_accuracy: 0.9192\n",
      "Epoch 37/200\n",
      "1429/1429 [==============================] - 8s 6ms/step - loss: 0.2526 - accuracy: 0.9181 - val_loss: 0.2667 - val_accuracy: 0.9191\n",
      "Epoch 38/200\n",
      "1429/1429 [==============================] - 8s 6ms/step - loss: 0.2524 - accuracy: 0.9181 - val_loss: 0.2648 - val_accuracy: 0.9191\n",
      "Epoch 39/200\n",
      "1429/1429 [==============================] - 8s 6ms/step - loss: 0.2522 - accuracy: 0.9183 - val_loss: 0.2651 - val_accuracy: 0.9191\n",
      "Epoch 40/200\n",
      "1429/1429 [==============================] - 8s 6ms/step - loss: 0.2515 - accuracy: 0.9182 - val_loss: 0.2668 - val_accuracy: 0.9190\n",
      "Epoch 41/200\n",
      "1429/1429 [==============================] - 8s 6ms/step - loss: 0.2518 - accuracy: 0.9182 - val_loss: 0.2670 - val_accuracy: 0.9190\n",
      "Epoch 42/200\n",
      "1429/1429 [==============================] - 8s 6ms/step - loss: 0.2516 - accuracy: 0.9183 - val_loss: 0.2668 - val_accuracy: 0.9192\n",
      "Epoch 43/200\n",
      "1429/1429 [==============================] - 8s 6ms/step - loss: 0.2515 - accuracy: 0.9181 - val_loss: 0.2651 - val_accuracy: 0.9191\n",
      "Epoch 44/200\n",
      "1429/1429 [==============================] - 8s 6ms/step - loss: 0.2514 - accuracy: 0.9182 - val_loss: 0.2652 - val_accuracy: 0.9191\n",
      "Epoch 45/200\n",
      "1429/1429 [==============================] - 8s 6ms/step - loss: 0.2511 - accuracy: 0.9183 - val_loss: 0.2659 - val_accuracy: 0.9192\n",
      "Epoch 46/200\n",
      "1429/1429 [==============================] - 8s 6ms/step - loss: 0.2507 - accuracy: 0.9182 - val_loss: 0.2665 - val_accuracy: 0.9190\n",
      "Epoch 47/200\n",
      "1429/1429 [==============================] - 8s 6ms/step - loss: 0.2503 - accuracy: 0.9181 - val_loss: 0.2680 - val_accuracy: 0.9191\n",
      "Epoch 48/200\n",
      "1429/1429 [==============================] - 8s 6ms/step - loss: 0.2502 - accuracy: 0.9182 - val_loss: 0.2666 - val_accuracy: 0.9191\n",
      "Epoch 49/200\n",
      "1429/1429 [==============================] - 8s 6ms/step - loss: 0.2504 - accuracy: 0.9182 - val_loss: 0.2669 - val_accuracy: 0.9191\n",
      "Epoch 50/200\n",
      "1429/1429 [==============================] - 8s 6ms/step - loss: 0.2501 - accuracy: 0.9182 - val_loss: 0.2677 - val_accuracy: 0.9191\n",
      "Epoch 51/200\n",
      "1429/1429 [==============================] - 9s 6ms/step - loss: 0.2504 - accuracy: 0.9181 - val_loss: 0.2666 - val_accuracy: 0.9189\n",
      "Epoch 52/200\n",
      "1429/1429 [==============================] - 8s 6ms/step - loss: 0.2503 - accuracy: 0.9182 - val_loss: 0.2671 - val_accuracy: 0.9190\n",
      "Epoch 53/200\n",
      "1429/1429 [==============================] - 8s 6ms/step - loss: 0.2495 - accuracy: 0.9181 - val_loss: 0.2677 - val_accuracy: 0.9191\n",
      "Epoch 54/200\n",
      "1429/1429 [==============================] - 8s 6ms/step - loss: 0.2501 - accuracy: 0.9181 - val_loss: 0.2671 - val_accuracy: 0.9191\n",
      "Epoch 55/200\n",
      "1429/1429 [==============================] - 9s 6ms/step - loss: 0.2492 - accuracy: 0.9182 - val_loss: 0.2687 - val_accuracy: 0.9190\n",
      "Epoch 56/200\n",
      "1429/1429 [==============================] - 9s 6ms/step - loss: 0.2494 - accuracy: 0.9182 - val_loss: 0.2685 - val_accuracy: 0.9190\n",
      "Epoch 57/200\n",
      "1429/1429 [==============================] - 8s 6ms/step - loss: 0.2491 - accuracy: 0.9181 - val_loss: 0.2686 - val_accuracy: 0.9186\n",
      "Epoch 58/200\n",
      "1429/1429 [==============================] - 8s 6ms/step - loss: 0.2488 - accuracy: 0.9182 - val_loss: 0.2676 - val_accuracy: 0.9191\n",
      "Epoch 59/200\n",
      "1429/1429 [==============================] - 8s 6ms/step - loss: 0.2487 - accuracy: 0.9182 - val_loss: 0.2684 - val_accuracy: 0.9189\n",
      "Epoch 60/200\n",
      "1429/1429 [==============================] - 8s 6ms/step - loss: 0.2485 - accuracy: 0.9183 - val_loss: 0.2695 - val_accuracy: 0.9190\n",
      "Epoch 61/200\n",
      "1429/1429 [==============================] - 8s 6ms/step - loss: 0.2488 - accuracy: 0.9181 - val_loss: 0.2672 - val_accuracy: 0.9191\n",
      "Epoch 62/200\n",
      "1429/1429 [==============================] - 8s 6ms/step - loss: 0.2480 - accuracy: 0.9182 - val_loss: 0.2695 - val_accuracy: 0.9188\n",
      "Epoch 63/200\n",
      "1429/1429 [==============================] - 8s 6ms/step - loss: 0.2481 - accuracy: 0.9181 - val_loss: 0.2683 - val_accuracy: 0.9191\n",
      "Epoch 64/200\n",
      "1429/1429 [==============================] - 8s 6ms/step - loss: 0.2476 - accuracy: 0.9182 - val_loss: 0.2699 - val_accuracy: 0.9190\n",
      "Epoch 65/200\n",
      "1429/1429 [==============================] - 8s 6ms/step - loss: 0.2480 - accuracy: 0.9183 - val_loss: 0.2689 - val_accuracy: 0.9191\n",
      "Epoch 66/200\n",
      "1429/1429 [==============================] - 8s 6ms/step - loss: 0.2480 - accuracy: 0.9183 - val_loss: 0.2682 - val_accuracy: 0.9188\n",
      "Epoch 67/200\n",
      "1429/1429 [==============================] - 8s 6ms/step - loss: 0.2482 - accuracy: 0.9182 - val_loss: 0.2687 - val_accuracy: 0.9189\n",
      "Epoch 68/200\n",
      "1429/1429 [==============================] - 8s 6ms/step - loss: 0.2476 - accuracy: 0.9182 - val_loss: 0.2695 - val_accuracy: 0.9191\n",
      "Epoch 69/200\n",
      "1429/1429 [==============================] - 8s 6ms/step - loss: 0.2473 - accuracy: 0.9181 - val_loss: 0.2685 - val_accuracy: 0.9190\n",
      "Epoch 70/200\n",
      "1429/1429 [==============================] - 8s 6ms/step - loss: 0.2473 - accuracy: 0.9182 - val_loss: 0.2717 - val_accuracy: 0.9185\n",
      "Epoch 71/200\n",
      "1429/1429 [==============================] - 8s 6ms/step - loss: 0.2472 - accuracy: 0.9179 - val_loss: 0.2680 - val_accuracy: 0.9191\n",
      "Epoch 72/200\n",
      "1429/1429 [==============================] - 8s 6ms/step - loss: 0.2470 - accuracy: 0.9181 - val_loss: 0.2696 - val_accuracy: 0.9189\n",
      "Epoch 73/200\n",
      "1429/1429 [==============================] - 8s 6ms/step - loss: 0.2472 - accuracy: 0.9181 - val_loss: 0.2677 - val_accuracy: 0.9191\n",
      "Epoch 74/200\n",
      "1429/1429 [==============================] - 8s 6ms/step - loss: 0.2470 - accuracy: 0.9181 - val_loss: 0.2706 - val_accuracy: 0.9189\n",
      "Epoch 75/200\n",
      "1429/1429 [==============================] - 9s 6ms/step - loss: 0.2469 - accuracy: 0.9183 - val_loss: 0.2707 - val_accuracy: 0.9189\n",
      "Epoch 76/200\n",
      "1429/1429 [==============================] - 8s 6ms/step - loss: 0.2466 - accuracy: 0.9183 - val_loss: 0.2679 - val_accuracy: 0.9191\n",
      "Epoch 77/200\n",
      "1429/1429 [==============================] - 8s 6ms/step - loss: 0.2468 - accuracy: 0.9183 - val_loss: 0.2702 - val_accuracy: 0.9189\n",
      "Epoch 78/200\n",
      "1429/1429 [==============================] - 8s 6ms/step - loss: 0.2466 - accuracy: 0.9182 - val_loss: 0.2717 - val_accuracy: 0.9188\n",
      "Epoch 00078: early stopping\n"
     ]
    }
   ],
   "source": [
    "history = model.fit(X_train, y_train, epochs=200,batch_size=128, validation_split=0.25, callbacks=[es])"
   ]
  },
  {
   "cell_type": "code",
   "execution_count": null,
   "metadata": {
    "colab": {
     "base_uri": "https://localhost:8080/",
     "height": 428
    },
    "id": "arwh_zecs8bP",
    "outputId": "ab06d9c3-5179-4710-ae84-04861c83231e"
   },
   "outputs": [
    {
     "data": {
      "text/plain": [
       "Text(0.5, 1.0, 'Loss Curves Original Data Cost Function Weight Ratio 1:1')"
      ]
     },
     "execution_count": 51,
     "metadata": {
      "tags": []
     },
     "output_type": "execute_result"
    },
    {
     "data": {
      "image/png": "[encoded data removed]",
      "text/plain": [
       "<Figure size 576x432 with 1 Axes>"
      ]
     },
     "metadata": {
      "needs_background": "light",
      "tags": []
     },
     "output_type": "display_data"
    }
   ],
   "source": [
    "plt.figure(figsize=[8,6])\n",
    "plt.plot(history.history['loss'],'r',linewidth=3.0)\n",
    "plt.plot(history.history['val_loss'],'b',linewidth=3.0)\n",
    "plt.legend(['Training Loss', 'Validation Loss'],fontsize=18)\n",
    "plt.xlabel('Epochs ',fontsize=16)\n",
    "plt.ylabel('Loss',fontsize=16)\n",
    "plt.title('Loss Curves Original Data Cost Function Weight Ratio 1:1',fontsize=16)"
   ]
  },
  {
   "cell_type": "code",
   "execution_count": null,
   "metadata": {
    "colab": {
     "base_uri": "https://localhost:8080/",
     "height": 428
    },
    "id": "nbjwGdh_s8rK",
    "outputId": "d8fab3fe-3feb-41ff-b6e7-37db821f4192"
   },
   "outputs": [
    {
     "data": {
      "text/plain": [
       "Text(0.5, 1.0, 'Accuracy Curves Original Data Cost Function Weight Ratio 1:1')"
      ]
     },
     "execution_count": 52,
     "metadata": {
      "tags": []
     },
     "output_type": "execute_result"
    },
    {
     "data": {
      "image/png": "[encoded data removed]",
      "text/plain": [
       "<Figure size 576x432 with 1 Axes>"
      ]
     },
     "metadata": {
      "needs_background": "light",
      "tags": []
     },
     "output_type": "display_data"
    }
   ],
   "source": [
    "plt.figure(figsize=[8,6])\n",
    "plt.plot(history.history['accuracy'],'r',linewidth=3.0)\n",
    "plt.plot(history.history['val_accuracy'],'b',linewidth=3.0)\n",
    "plt.legend(['Training Accuracy', 'Validation Accuracy'],fontsize=18)\n",
    "plt.xlabel('Epochs ',fontsize=16)\n",
    "plt.ylabel('Accuracy',fontsize=16)\n",
    "plt.title('Accuracy Curves Original Data Cost Function Weight Ratio 1:1',fontsize=16)"
   ]
  },
  {
   "cell_type": "markdown",
   "metadata": {
    "id": "DbzNdo25tMTJ"
   },
   "source": [
    "### Original Data Cost Function Weight Ratio 1:10"
   ]
  },
  {
   "cell_type": "code",
   "execution_count": null,
   "metadata": {
    "colab": {
     "base_uri": "https://localhost:8080/"
    },
    "id": "Ntoq2JEsxGEU",
    "outputId": "b2669b57-1e00-4469-91eb-06bf0114182a"
   },
   "outputs": [
    {
     "name": "stdout",
     "output_type": "stream",
     "text": [
      "Model: \"sequential_1\"\n",
      "_________________________________________________________________\n",
      "Layer (type)                 Output Shape              Param #   \n",
      "=================================================================\n",
      "dense_7 (Dense)              (None, 64)                5184      \n",
      "_________________________________________________________________\n",
      "batch_normalization_4 (Batch (None, 64)                256       \n",
      "_________________________________________________________________\n",
      "dense_8 (Dense)              (None, 64)                4160      \n",
      "_________________________________________________________________\n",
      "dropout_5 (Dropout)          (None, 64)                0         \n",
      "_________________________________________________________________\n",
      "dense_9 (Dense)              (None, 128)               8320      \n",
      "_________________________________________________________________\n",
      "batch_normalization_5 (Batch (None, 128)               512       \n",
      "_________________________________________________________________\n",
      "dropout_6 (Dropout)          (None, 128)               0         \n",
      "_________________________________________________________________\n",
      "dense_10 (Dense)             (None, 128)               16512     \n",
      "_________________________________________________________________\n",
      "dropout_7 (Dropout)          (None, 128)               0         \n",
      "_________________________________________________________________\n",
      "dense_11 (Dense)             (None, 256)               33024     \n",
      "_________________________________________________________________\n",
      "batch_normalization_6 (Batch (None, 256)               1024      \n",
      "_________________________________________________________________\n",
      "dropout_8 (Dropout)          (None, 256)               0         \n",
      "_________________________________________________________________\n",
      "dense_12 (Dense)             (None, 256)               65792     \n",
      "_________________________________________________________________\n",
      "batch_normalization_7 (Batch (None, 256)               1024      \n",
      "_________________________________________________________________\n",
      "dropout_9 (Dropout)          (None, 256)               0         \n",
      "_________________________________________________________________\n",
      "dense_13 (Dense)             (None, 2)                 514       \n",
      "=================================================================\n",
      "Total params: 136,322\n",
      "Trainable params: 134,914\n",
      "Non-trainable params: 1,408\n",
      "_________________________________________________________________\n"
     ]
    }
   ],
   "source": [
    "#create model\n",
    "model1 = Sequential()\n",
    "\n",
    "#add layers to model\n",
    "model1.add(Dense(64, activation='relu', input_shape=(n_cols,)))\n",
    "model1.add(BatchNormalization())\n",
    "model1.add(Dense(64, activation='relu'))\n",
    "model1.add(Dropout(0.4))\n",
    "model1.add(Dense(128, activation='relu'))\n",
    "model1.add(BatchNormalization())\n",
    "model1.add(Dropout(0.4))\n",
    "model1.add(Dense(128, activation='relu'))\n",
    "model1.add(Dropout(0.4))\n",
    "model1.add(Dense(256, activation='relu'))\n",
    "model1.add(BatchNormalization())\n",
    "model1.add(Dropout(0.4))\n",
    "model1.add(Dense(256, activation='relu'))\n",
    "model1.add(BatchNormalization())\n",
    "model1.add(Dropout(0.4))\n",
    "model1.add(Dense(2, activation='softmax'))\n",
    "\n",
    "#compile model using accuracy to measure model performance\n",
    "model1.compile(optimizer='adam', loss='categorical_crossentropy', metrics=['accuracy'])\n",
    "model1.summary()"
   ]
  },
  {
   "cell_type": "code",
   "execution_count": null,
   "metadata": {
    "colab": {
     "base_uri": "https://localhost:8080/"
    },
    "id": "UP9NJY2agjjr",
    "outputId": "b691335c-16c5-4032-b6b0-83a1273b8b74"
   },
   "outputs": [
    {
     "name": "stdout",
     "output_type": "stream",
     "text": [
      "Epoch 1/200\n",
      "1429/1429 [==============================] - 9s 6ms/step - loss: 1.2599 - accuracy: 0.6038 - val_loss: 0.5949 - val_accuracy: 0.6604\n",
      "Epoch 2/200\n",
      "1429/1429 [==============================] - 9s 6ms/step - loss: 1.1359 - accuracy: 0.6676 - val_loss: 0.5888 - val_accuracy: 0.6890\n",
      "Epoch 3/200\n",
      "1429/1429 [==============================] - 8s 6ms/step - loss: 1.1215 - accuracy: 0.6722 - val_loss: 0.5638 - val_accuracy: 0.7570\n",
      "Epoch 4/200\n",
      "1429/1429 [==============================] - 8s 6ms/step - loss: 1.1125 - accuracy: 0.6775 - val_loss: 0.5668 - val_accuracy: 0.7359\n",
      "Epoch 5/200\n",
      "1429/1429 [==============================] - 8s 6ms/step - loss: 1.1070 - accuracy: 0.6768 - val_loss: 0.5850 - val_accuracy: 0.7135\n",
      "Epoch 6/200\n",
      "1429/1429 [==============================] - 9s 6ms/step - loss: 1.1030 - accuracy: 0.6781 - val_loss: 0.5822 - val_accuracy: 0.6426\n",
      "Epoch 7/200\n",
      "1429/1429 [==============================] - 8s 6ms/step - loss: 1.0980 - accuracy: 0.6784 - val_loss: 0.5707 - val_accuracy: 0.7416\n",
      "Epoch 8/200\n",
      "1429/1429 [==============================] - 9s 6ms/step - loss: 1.0954 - accuracy: 0.6759 - val_loss: 0.6083 - val_accuracy: 0.6267\n",
      "Epoch 9/200\n",
      "1429/1429 [==============================] - 9s 6ms/step - loss: 1.0904 - accuracy: 0.6711 - val_loss: 0.5586 - val_accuracy: 0.7252\n",
      "Epoch 10/200\n",
      "1429/1429 [==============================] - 8s 6ms/step - loss: 1.0873 - accuracy: 0.6795 - val_loss: 0.5875 - val_accuracy: 0.6445\n",
      "Epoch 11/200\n",
      "1429/1429 [==============================] - 8s 6ms/step - loss: 1.0851 - accuracy: 0.6820 - val_loss: 0.6168 - val_accuracy: 0.6235\n",
      "Epoch 12/200\n",
      "1429/1429 [==============================] - 9s 6ms/step - loss: 1.0817 - accuracy: 0.6805 - val_loss: 0.5713 - val_accuracy: 0.6960\n",
      "Epoch 13/200\n",
      "1429/1429 [==============================] - 8s 6ms/step - loss: 1.0774 - accuracy: 0.6778 - val_loss: 0.5718 - val_accuracy: 0.7047\n",
      "Epoch 14/200\n",
      "1429/1429 [==============================] - 9s 6ms/step - loss: 1.0747 - accuracy: 0.6775 - val_loss: 0.5662 - val_accuracy: 0.6896\n",
      "Epoch 15/200\n",
      "1429/1429 [==============================] - 9s 6ms/step - loss: 1.0721 - accuracy: 0.6819 - val_loss: 0.5755 - val_accuracy: 0.7161\n",
      "Epoch 16/200\n",
      "1429/1429 [==============================] - 9s 6ms/step - loss: 1.0676 - accuracy: 0.6863 - val_loss: 0.5690 - val_accuracy: 0.7065\n",
      "Epoch 17/200\n",
      "1429/1429 [==============================] - 8s 6ms/step - loss: 1.0659 - accuracy: 0.6805 - val_loss: 0.5960 - val_accuracy: 0.6634\n",
      "Epoch 18/200\n",
      "1429/1429 [==============================] - 8s 6ms/step - loss: 1.0621 - accuracy: 0.6859 - val_loss: 0.5857 - val_accuracy: 0.6386\n",
      "Epoch 19/200\n",
      "1429/1429 [==============================] - 8s 6ms/step - loss: 1.0622 - accuracy: 0.6825 - val_loss: 0.5979 - val_accuracy: 0.6778\n",
      "Epoch 20/200\n",
      "1429/1429 [==============================] - 8s 6ms/step - loss: 1.0583 - accuracy: 0.6831 - val_loss: 0.5394 - val_accuracy: 0.7475\n",
      "Epoch 21/200\n",
      "1429/1429 [==============================] - 8s 6ms/step - loss: 1.0565 - accuracy: 0.6817 - val_loss: 0.5922 - val_accuracy: 0.6580\n",
      "Epoch 22/200\n",
      "1429/1429 [==============================] - 8s 6ms/step - loss: 1.0512 - accuracy: 0.6822 - val_loss: 0.5916 - val_accuracy: 0.6285\n",
      "Epoch 23/200\n",
      "1429/1429 [==============================] - 8s 6ms/step - loss: 1.0490 - accuracy: 0.6809 - val_loss: 0.5773 - val_accuracy: 0.6831\n",
      "Epoch 24/200\n",
      "1429/1429 [==============================] - 8s 6ms/step - loss: 1.0475 - accuracy: 0.6836 - val_loss: 0.5772 - val_accuracy: 0.6825\n",
      "Epoch 25/200\n",
      "1429/1429 [==============================] - 8s 6ms/step - loss: 1.0441 - accuracy: 0.6826 - val_loss: 0.5845 - val_accuracy: 0.6509\n",
      "Epoch 26/200\n",
      "1429/1429 [==============================] - 9s 6ms/step - loss: 1.0426 - accuracy: 0.6850 - val_loss: 0.5834 - val_accuracy: 0.6632\n",
      "Epoch 27/200\n",
      "1429/1429 [==============================] - 8s 6ms/step - loss: 1.0403 - accuracy: 0.6834 - val_loss: 0.5708 - val_accuracy: 0.7019\n",
      "Epoch 28/200\n",
      "1429/1429 [==============================] - 8s 6ms/step - loss: 1.0386 - accuracy: 0.6895 - val_loss: 0.5627 - val_accuracy: 0.6940\n",
      "Epoch 29/200\n",
      "1429/1429 [==============================] - 8s 6ms/step - loss: 1.0369 - accuracy: 0.6824 - val_loss: 0.5274 - val_accuracy: 0.7347\n",
      "Epoch 30/200\n",
      "1429/1429 [==============================] - 8s 6ms/step - loss: 1.0347 - accuracy: 0.6823 - val_loss: 0.5587 - val_accuracy: 0.6648\n",
      "Epoch 31/200\n",
      "1429/1429 [==============================] - 8s 6ms/step - loss: 1.0333 - accuracy: 0.6786 - val_loss: 0.5812 - val_accuracy: 0.6710\n",
      "Epoch 32/200\n",
      "1429/1429 [==============================] - 8s 6ms/step - loss: 1.0323 - accuracy: 0.6817 - val_loss: 0.5517 - val_accuracy: 0.7170\n",
      "Epoch 33/200\n",
      "1429/1429 [==============================] - 8s 6ms/step - loss: 1.0322 - accuracy: 0.6791 - val_loss: 0.5276 - val_accuracy: 0.7273\n",
      "Epoch 34/200\n",
      "1429/1429 [==============================] - 8s 6ms/step - loss: 1.0277 - accuracy: 0.6788 - val_loss: 0.5574 - val_accuracy: 0.7112\n",
      "Epoch 35/200\n",
      "1429/1429 [==============================] - 9s 6ms/step - loss: 1.0259 - accuracy: 0.6784 - val_loss: 0.5601 - val_accuracy: 0.6941\n",
      "Epoch 36/200\n",
      "1429/1429 [==============================] - 8s 6ms/step - loss: 1.0234 - accuracy: 0.6838 - val_loss: 0.5602 - val_accuracy: 0.7265\n",
      "Epoch 37/200\n",
      "1429/1429 [==============================] - 8s 6ms/step - loss: 1.0203 - accuracy: 0.6957 - val_loss: 0.5644 - val_accuracy: 0.6835\n",
      "Epoch 38/200\n",
      "1429/1429 [==============================] - 8s 6ms/step - loss: 1.0198 - accuracy: 0.6849 - val_loss: 0.5715 - val_accuracy: 0.6826\n",
      "Epoch 39/200\n",
      "1429/1429 [==============================] - 8s 6ms/step - loss: 1.0197 - accuracy: 0.6762 - val_loss: 0.6078 - val_accuracy: 0.6343\n",
      "Epoch 40/200\n",
      "1429/1429 [==============================] - 8s 6ms/step - loss: 1.0155 - accuracy: 0.6836 - val_loss: 0.5258 - val_accuracy: 0.7180\n",
      "Epoch 41/200\n",
      "1429/1429 [==============================] - 8s 6ms/step - loss: 1.0178 - accuracy: 0.6805 - val_loss: 0.5892 - val_accuracy: 0.6748\n",
      "Epoch 42/200\n",
      "1429/1429 [==============================] - 8s 6ms/step - loss: 1.0160 - accuracy: 0.6821 - val_loss: 0.5875 - val_accuracy: 0.6618\n",
      "Epoch 43/200\n",
      "1429/1429 [==============================] - 8s 6ms/step - loss: 1.0129 - accuracy: 0.6818 - val_loss: 0.5790 - val_accuracy: 0.6713\n",
      "Epoch 44/200\n",
      "1429/1429 [==============================] - 8s 6ms/step - loss: 1.0123 - accuracy: 0.6828 - val_loss: 0.5486 - val_accuracy: 0.6814\n",
      "Epoch 45/200\n",
      "1429/1429 [==============================] - 9s 6ms/step - loss: 1.0111 - accuracy: 0.6796 - val_loss: 0.6122 - val_accuracy: 0.6422\n",
      "Epoch 46/200\n",
      "1429/1429 [==============================] - 8s 6ms/step - loss: 1.0091 - accuracy: 0.6758 - val_loss: 0.5692 - val_accuracy: 0.6888\n",
      "Epoch 47/200\n",
      "1429/1429 [==============================] - 8s 6ms/step - loss: 1.0095 - accuracy: 0.6798 - val_loss: 0.5256 - val_accuracy: 0.7369\n",
      "Epoch 48/200\n",
      "1429/1429 [==============================] - 8s 6ms/step - loss: 1.0055 - accuracy: 0.6879 - val_loss: 0.5748 - val_accuracy: 0.6662\n",
      "Epoch 49/200\n",
      "1429/1429 [==============================] - 8s 6ms/step - loss: 1.0069 - accuracy: 0.6780 - val_loss: 0.5469 - val_accuracy: 0.6931\n",
      "Epoch 50/200\n",
      "1429/1429 [==============================] - 9s 6ms/step - loss: 1.0058 - accuracy: 0.6826 - val_loss: 0.5757 - val_accuracy: 0.6693\n",
      "Epoch 51/200\n",
      "1429/1429 [==============================] - 9s 6ms/step - loss: 1.0054 - accuracy: 0.6806 - val_loss: 0.5391 - val_accuracy: 0.7118\n",
      "Epoch 52/200\n",
      "1429/1429 [==============================] - 8s 6ms/step - loss: 1.0033 - accuracy: 0.6770 - val_loss: 0.5647 - val_accuracy: 0.6958\n",
      "Epoch 53/200\n",
      "1429/1429 [==============================] - 8s 6ms/step - loss: 0.9993 - accuracy: 0.6803 - val_loss: 0.5531 - val_accuracy: 0.6907\n",
      "Epoch 54/200\n",
      "1429/1429 [==============================] - 9s 6ms/step - loss: 1.0013 - accuracy: 0.6843 - val_loss: 0.5899 - val_accuracy: 0.6677\n",
      "Epoch 55/200\n",
      "1429/1429 [==============================] - 8s 6ms/step - loss: 0.9995 - accuracy: 0.6805 - val_loss: 0.5249 - val_accuracy: 0.7293\n",
      "Epoch 56/200\n",
      "1429/1429 [==============================] - 8s 6ms/step - loss: 0.9994 - accuracy: 0.6840 - val_loss: 0.5573 - val_accuracy: 0.6910\n",
      "Epoch 57/200\n",
      "1429/1429 [==============================] - 8s 6ms/step - loss: 0.9979 - accuracy: 0.6842 - val_loss: 0.5407 - val_accuracy: 0.6973\n",
      "Epoch 58/200\n",
      "1429/1429 [==============================] - 8s 6ms/step - loss: 0.9995 - accuracy: 0.6785 - val_loss: 0.6077 - val_accuracy: 0.6211\n",
      "Epoch 59/200\n",
      "1429/1429 [==============================] - 8s 6ms/step - loss: 0.9971 - accuracy: 0.6817 - val_loss: 0.5832 - val_accuracy: 0.6593\n",
      "Epoch 60/200\n",
      "1429/1429 [==============================] - 8s 6ms/step - loss: 0.9968 - accuracy: 0.6807 - val_loss: 0.5552 - val_accuracy: 0.6843\n",
      "Epoch 61/200\n",
      "1429/1429 [==============================] - 8s 6ms/step - loss: 0.9928 - accuracy: 0.6802 - val_loss: 0.5639 - val_accuracy: 0.6817\n",
      "Epoch 62/200\n",
      "1429/1429 [==============================] - 8s 6ms/step - loss: 0.9954 - accuracy: 0.6754 - val_loss: 0.5569 - val_accuracy: 0.6860\n",
      "Epoch 63/200\n",
      "1429/1429 [==============================] - 8s 6ms/step - loss: 0.9930 - accuracy: 0.6814 - val_loss: 0.5709 - val_accuracy: 0.6778\n",
      "Epoch 64/200\n",
      "1429/1429 [==============================] - 8s 6ms/step - loss: 0.9911 - accuracy: 0.6816 - val_loss: 0.5688 - val_accuracy: 0.7054\n",
      "Epoch 65/200\n",
      "1429/1429 [==============================] - 8s 6ms/step - loss: 0.9914 - accuracy: 0.6846 - val_loss: 0.5805 - val_accuracy: 0.6554\n",
      "Epoch 66/200\n",
      "1429/1429 [==============================] - 8s 6ms/step - loss: 0.9881 - accuracy: 0.6799 - val_loss: 0.5473 - val_accuracy: 0.7109\n",
      "Epoch 67/200\n",
      "1429/1429 [==============================] - 8s 6ms/step - loss: 0.9915 - accuracy: 0.6828 - val_loss: 0.6040 - val_accuracy: 0.6422\n",
      "Epoch 68/200\n",
      "1429/1429 [==============================] - 8s 6ms/step - loss: 0.9913 - accuracy: 0.6774 - val_loss: 0.5612 - val_accuracy: 0.6812\n",
      "Epoch 69/200\n",
      "1429/1429 [==============================] - 8s 6ms/step - loss: 0.9873 - accuracy: 0.6743 - val_loss: 0.5549 - val_accuracy: 0.6793\n",
      "Epoch 70/200\n",
      "1429/1429 [==============================] - 8s 6ms/step - loss: 0.9864 - accuracy: 0.6779 - val_loss: 0.5717 - val_accuracy: 0.6737\n",
      "Epoch 71/200\n",
      "1429/1429 [==============================] - 8s 6ms/step - loss: 0.9847 - accuracy: 0.6800 - val_loss: 0.5867 - val_accuracy: 0.6541\n",
      "Epoch 72/200\n",
      "1429/1429 [==============================] - 8s 6ms/step - loss: 0.9846 - accuracy: 0.6783 - val_loss: 0.5659 - val_accuracy: 0.6786\n",
      "Epoch 73/200\n",
      "1429/1429 [==============================] - 8s 6ms/step - loss: 0.9864 - accuracy: 0.6827 - val_loss: 0.5427 - val_accuracy: 0.6943\n",
      "Epoch 74/200\n",
      "1429/1429 [==============================] - 8s 6ms/step - loss: 0.9840 - accuracy: 0.6714 - val_loss: 0.5570 - val_accuracy: 0.6852\n",
      "Epoch 75/200\n",
      "1429/1429 [==============================] - 8s 6ms/step - loss: 0.9826 - accuracy: 0.6771 - val_loss: 0.5473 - val_accuracy: 0.6913\n",
      "Epoch 76/200\n",
      "1429/1429 [==============================] - 8s 6ms/step - loss: 0.9817 - accuracy: 0.6764 - val_loss: 0.5539 - val_accuracy: 0.6852\n",
      "Epoch 77/200\n",
      "1429/1429 [==============================] - 8s 6ms/step - loss: 0.9850 - accuracy: 0.6730 - val_loss: 0.5382 - val_accuracy: 0.7045\n",
      "Epoch 78/200\n",
      "1429/1429 [==============================] - 8s 6ms/step - loss: 0.9821 - accuracy: 0.6770 - val_loss: 0.5500 - val_accuracy: 0.6923\n",
      "Epoch 79/200\n",
      "1429/1429 [==============================] - 8s 6ms/step - loss: 0.9809 - accuracy: 0.6808 - val_loss: 0.5455 - val_accuracy: 0.6907\n",
      "Epoch 80/200\n",
      "1429/1429 [==============================] - 8s 6ms/step - loss: 0.9793 - accuracy: 0.6801 - val_loss: 0.5240 - val_accuracy: 0.7289\n",
      "Epoch 81/200\n",
      "1429/1429 [==============================] - 9s 6ms/step - loss: 0.9806 - accuracy: 0.6760 - val_loss: 0.5609 - val_accuracy: 0.6739\n",
      "Epoch 82/200\n",
      "1429/1429 [==============================] - 8s 6ms/step - loss: 0.9808 - accuracy: 0.6777 - val_loss: 0.5658 - val_accuracy: 0.6843\n",
      "Epoch 83/200\n",
      "1429/1429 [==============================] - 9s 6ms/step - loss: 0.9816 - accuracy: 0.6766 - val_loss: 0.5381 - val_accuracy: 0.7254\n",
      "Epoch 84/200\n",
      "1429/1429 [==============================] - 8s 6ms/step - loss: 0.9788 - accuracy: 0.6799 - val_loss: 0.5663 - val_accuracy: 0.6720\n",
      "Epoch 85/200\n",
      "1429/1429 [==============================] - 8s 6ms/step - loss: 0.9778 - accuracy: 0.6771 - val_loss: 0.5805 - val_accuracy: 0.6462\n",
      "Epoch 86/200\n",
      "1429/1429 [==============================] - 8s 6ms/step - loss: 0.9768 - accuracy: 0.6765 - val_loss: 0.5343 - val_accuracy: 0.7060\n",
      "Epoch 87/200\n",
      "1429/1429 [==============================] - 8s 6ms/step - loss: 0.9770 - accuracy: 0.6779 - val_loss: 0.5574 - val_accuracy: 0.6864\n",
      "Epoch 88/200\n",
      "1429/1429 [==============================] - 9s 6ms/step - loss: 0.9775 - accuracy: 0.6741 - val_loss: 0.5410 - val_accuracy: 0.7001\n",
      "Epoch 89/200\n",
      "1429/1429 [==============================] - 8s 6ms/step - loss: 0.9762 - accuracy: 0.6747 - val_loss: 0.5603 - val_accuracy: 0.6700\n",
      "Epoch 90/200\n",
      "1429/1429 [==============================] - 8s 6ms/step - loss: 0.9739 - accuracy: 0.6768 - val_loss: 0.5275 - val_accuracy: 0.7206\n",
      "Epoch 91/200\n",
      "1429/1429 [==============================] - 8s 6ms/step - loss: 0.9769 - accuracy: 0.6717 - val_loss: 0.5727 - val_accuracy: 0.6741\n",
      "Epoch 92/200\n",
      "1429/1429 [==============================] - 8s 6ms/step - loss: 0.9728 - accuracy: 0.6769 - val_loss: 0.5472 - val_accuracy: 0.6913\n",
      "Epoch 93/200\n",
      "1429/1429 [==============================] - 8s 6ms/step - loss: 0.9739 - accuracy: 0.6758 - val_loss: 0.5653 - val_accuracy: 0.6680\n",
      "Epoch 94/200\n",
      "1429/1429 [==============================] - 8s 6ms/step - loss: 0.9757 - accuracy: 0.6770 - val_loss: 0.5504 - val_accuracy: 0.7074\n",
      "Epoch 95/200\n",
      "1429/1429 [==============================] - 8s 6ms/step - loss: 0.9747 - accuracy: 0.6777 - val_loss: 0.5541 - val_accuracy: 0.6883\n",
      "Epoch 96/200\n",
      "1429/1429 [==============================] - 8s 6ms/step - loss: 0.9737 - accuracy: 0.6823 - val_loss: 0.5330 - val_accuracy: 0.7044\n",
      "Epoch 97/200\n",
      "1429/1429 [==============================] - 8s 6ms/step - loss: 0.9705 - accuracy: 0.6755 - val_loss: 0.5618 - val_accuracy: 0.6776\n",
      "Epoch 98/200\n",
      "1429/1429 [==============================] - 8s 6ms/step - loss: 0.9719 - accuracy: 0.6709 - val_loss: 0.5369 - val_accuracy: 0.6924\n",
      "Epoch 99/200\n",
      "1429/1429 [==============================] - 8s 6ms/step - loss: 0.9748 - accuracy: 0.6771 - val_loss: 0.5736 - val_accuracy: 0.6718\n",
      "Epoch 100/200\n",
      "1429/1429 [==============================] - 8s 6ms/step - loss: 0.9689 - accuracy: 0.6737 - val_loss: 0.5443 - val_accuracy: 0.6933\n",
      "Epoch 101/200\n",
      "1429/1429 [==============================] - 8s 6ms/step - loss: 0.9720 - accuracy: 0.6781 - val_loss: 0.5514 - val_accuracy: 0.6993\n",
      "Epoch 102/200\n",
      "1429/1429 [==============================] - 9s 6ms/step - loss: 0.9710 - accuracy: 0.6787 - val_loss: 0.5524 - val_accuracy: 0.6751\n",
      "Epoch 103/200\n",
      "1429/1429 [==============================] - 8s 6ms/step - loss: 0.9729 - accuracy: 0.6735 - val_loss: 0.5258 - val_accuracy: 0.7297\n",
      "Epoch 104/200\n",
      "1429/1429 [==============================] - 8s 6ms/step - loss: 0.9702 - accuracy: 0.6813 - val_loss: 0.5452 - val_accuracy: 0.6917\n",
      "Epoch 105/200\n",
      "1429/1429 [==============================] - 8s 6ms/step - loss: 0.9682 - accuracy: 0.6778 - val_loss: 0.5738 - val_accuracy: 0.6535\n",
      "Epoch 106/200\n",
      "1429/1429 [==============================] - 8s 6ms/step - loss: 0.9702 - accuracy: 0.6728 - val_loss: 0.5528 - val_accuracy: 0.6844\n",
      "Epoch 107/200\n",
      "1429/1429 [==============================] - 8s 6ms/step - loss: 0.9667 - accuracy: 0.6760 - val_loss: 0.5564 - val_accuracy: 0.6875\n",
      "Epoch 108/200\n",
      "1429/1429 [==============================] - 8s 6ms/step - loss: 0.9673 - accuracy: 0.6787 - val_loss: 0.5298 - val_accuracy: 0.7268\n",
      "Epoch 109/200\n",
      "1429/1429 [==============================] - 8s 6ms/step - loss: 0.9686 - accuracy: 0.6798 - val_loss: 0.5424 - val_accuracy: 0.6920\n",
      "Epoch 110/200\n",
      "1429/1429 [==============================] - 8s 6ms/step - loss: 0.9696 - accuracy: 0.6771 - val_loss: 0.5723 - val_accuracy: 0.6663\n",
      "Epoch 111/200\n",
      "1429/1429 [==============================] - 9s 6ms/step - loss: 0.9683 - accuracy: 0.6722 - val_loss: 0.5542 - val_accuracy: 0.6859\n",
      "Epoch 112/200\n",
      "1429/1429 [==============================] - 9s 6ms/step - loss: 0.9668 - accuracy: 0.6725 - val_loss: 0.5672 - val_accuracy: 0.6727\n",
      "Epoch 113/200\n",
      "1429/1429 [==============================] - 8s 6ms/step - loss: 0.9665 - accuracy: 0.6719 - val_loss: 0.5526 - val_accuracy: 0.6803\n",
      "Epoch 114/200\n",
      "1429/1429 [==============================] - 8s 6ms/step - loss: 0.9659 - accuracy: 0.6746 - val_loss: 0.5568 - val_accuracy: 0.6876\n",
      "Epoch 115/200\n",
      "1429/1429 [==============================] - 8s 6ms/step - loss: 0.9658 - accuracy: 0.6769 - val_loss: 0.5517 - val_accuracy: 0.6918\n",
      "Epoch 116/200\n",
      "1429/1429 [==============================] - 8s 6ms/step - loss: 0.9617 - accuracy: 0.6750 - val_loss: 0.5556 - val_accuracy: 0.6841\n",
      "Epoch 117/200\n",
      "1429/1429 [==============================] - 9s 6ms/step - loss: 0.9631 - accuracy: 0.6717 - val_loss: 0.5605 - val_accuracy: 0.6759\n",
      "Epoch 118/200\n",
      "1429/1429 [==============================] - 9s 6ms/step - loss: 0.9630 - accuracy: 0.6743 - val_loss: 0.5715 - val_accuracy: 0.6751\n",
      "Epoch 119/200\n",
      "1429/1429 [==============================] - 8s 6ms/step - loss: 0.9629 - accuracy: 0.6746 - val_loss: 0.5494 - val_accuracy: 0.6847\n",
      "Epoch 120/200\n",
      "1429/1429 [==============================] - 8s 6ms/step - loss: 0.9611 - accuracy: 0.6736 - val_loss: 0.5463 - val_accuracy: 0.6793\n",
      "Epoch 121/200\n",
      "1429/1429 [==============================] - 9s 6ms/step - loss: 0.9638 - accuracy: 0.6688 - val_loss: 0.5534 - val_accuracy: 0.6696\n",
      "Epoch 122/200\n",
      "1429/1429 [==============================] - 9s 6ms/step - loss: 0.9621 - accuracy: 0.6693 - val_loss: 0.5436 - val_accuracy: 0.6933\n",
      "Epoch 123/200\n",
      "1429/1429 [==============================] - 8s 6ms/step - loss: 0.9616 - accuracy: 0.6698 - val_loss: 0.5852 - val_accuracy: 0.6524\n",
      "Epoch 124/200\n",
      "1429/1429 [==============================] - 9s 6ms/step - loss: 0.9615 - accuracy: 0.6709 - val_loss: 0.5374 - val_accuracy: 0.6850\n",
      "Epoch 125/200\n",
      "1429/1429 [==============================] - 9s 6ms/step - loss: 0.9631 - accuracy: 0.6658 - val_loss: 0.5660 - val_accuracy: 0.6597\n",
      "Epoch 126/200\n",
      "1429/1429 [==============================] - 8s 6ms/step - loss: 0.9642 - accuracy: 0.6722 - val_loss: 0.5758 - val_accuracy: 0.6524\n",
      "Epoch 127/200\n",
      "1429/1429 [==============================] - 8s 6ms/step - loss: 0.9627 - accuracy: 0.6732 - val_loss: 0.5436 - val_accuracy: 0.6912\n",
      "Epoch 128/200\n",
      "1429/1429 [==============================] - 8s 6ms/step - loss: 0.9612 - accuracy: 0.6721 - val_loss: 0.5480 - val_accuracy: 0.6834\n",
      "Epoch 129/200\n",
      "1429/1429 [==============================] - 8s 6ms/step - loss: 0.9578 - accuracy: 0.6704 - val_loss: 0.5782 - val_accuracy: 0.6497\n",
      "Epoch 130/200\n",
      "1429/1429 [==============================] - 8s 6ms/step - loss: 0.9609 - accuracy: 0.6667 - val_loss: 0.5425 - val_accuracy: 0.6820\n",
      "Epoch 131/200\n",
      "1429/1429 [==============================] - 9s 6ms/step - loss: 0.9570 - accuracy: 0.6682 - val_loss: 0.5525 - val_accuracy: 0.6878\n",
      "Epoch 132/200\n",
      "1429/1429 [==============================] - 8s 6ms/step - loss: 0.9605 - accuracy: 0.6728 - val_loss: 0.5564 - val_accuracy: 0.6799\n",
      "Epoch 133/200\n",
      "1429/1429 [==============================] - 8s 6ms/step - loss: 0.9617 - accuracy: 0.6652 - val_loss: 0.5737 - val_accuracy: 0.6469\n",
      "Epoch 134/200\n",
      "1429/1429 [==============================] - 8s 6ms/step - loss: 0.9573 - accuracy: 0.6678 - val_loss: 0.5723 - val_accuracy: 0.6708\n",
      "Epoch 135/200\n",
      "1429/1429 [==============================] - 8s 6ms/step - loss: 0.9596 - accuracy: 0.6666 - val_loss: 0.5366 - val_accuracy: 0.6913\n",
      "Epoch 136/200\n",
      "1429/1429 [==============================] - 8s 6ms/step - loss: 0.9590 - accuracy: 0.6708 - val_loss: 0.5332 - val_accuracy: 0.6870\n",
      "Epoch 137/200\n",
      "1429/1429 [==============================] - 8s 6ms/step - loss: 0.9597 - accuracy: 0.6644 - val_loss: 0.5567 - val_accuracy: 0.6503\n",
      "Epoch 138/200\n",
      "1429/1429 [==============================] - 8s 6ms/step - loss: 0.9578 - accuracy: 0.6705 - val_loss: 0.5421 - val_accuracy: 0.6786\n",
      "Epoch 139/200\n",
      "1429/1429 [==============================] - 9s 6ms/step - loss: 0.9585 - accuracy: 0.6669 - val_loss: 0.5518 - val_accuracy: 0.6777\n",
      "Epoch 140/200\n",
      "1429/1429 [==============================] - 8s 6ms/step - loss: 0.9582 - accuracy: 0.6682 - val_loss: 0.6411 - val_accuracy: 0.5699\n",
      "Epoch 141/200\n",
      "1429/1429 [==============================] - 9s 6ms/step - loss: 0.9572 - accuracy: 0.6695 - val_loss: 0.5709 - val_accuracy: 0.6671\n",
      "Epoch 142/200\n",
      "1429/1429 [==============================] - 8s 6ms/step - loss: 0.9575 - accuracy: 0.6692 - val_loss: 0.5486 - val_accuracy: 0.6702\n",
      "Epoch 143/200\n",
      "1429/1429 [==============================] - 8s 6ms/step - loss: 0.9604 - accuracy: 0.6729 - val_loss: 0.5198 - val_accuracy: 0.7324\n",
      "Epoch 144/200\n",
      "1429/1429 [==============================] - 8s 6ms/step - loss: 0.9541 - accuracy: 0.6749 - val_loss: 0.5538 - val_accuracy: 0.6633\n",
      "Epoch 145/200\n",
      "1429/1429 [==============================] - 8s 6ms/step - loss: 0.9551 - accuracy: 0.6707 - val_loss: 0.5610 - val_accuracy: 0.6567\n",
      "Epoch 146/200\n",
      "1429/1429 [==============================] - 8s 6ms/step - loss: 0.9559 - accuracy: 0.6692 - val_loss: 0.5714 - val_accuracy: 0.6482\n",
      "Epoch 147/200\n",
      "1429/1429 [==============================] - 8s 6ms/step - loss: 0.9539 - accuracy: 0.6734 - val_loss: 0.5789 - val_accuracy: 0.6513\n",
      "Epoch 148/200\n",
      "1429/1429 [==============================] - 8s 6ms/step - loss: 0.9555 - accuracy: 0.6675 - val_loss: 0.5263 - val_accuracy: 0.6974\n",
      "Epoch 149/200\n",
      "1429/1429 [==============================] - 8s 6ms/step - loss: 0.9529 - accuracy: 0.6689 - val_loss: 0.5385 - val_accuracy: 0.6859\n",
      "Epoch 150/200\n",
      "1429/1429 [==============================] - 9s 6ms/step - loss: 0.9540 - accuracy: 0.6686 - val_loss: 0.5242 - val_accuracy: 0.7242\n",
      "Epoch 151/200\n",
      "1429/1429 [==============================] - 8s 6ms/step - loss: 0.9533 - accuracy: 0.6727 - val_loss: 0.5559 - val_accuracy: 0.6751\n",
      "Epoch 152/200\n",
      "1429/1429 [==============================] - 8s 6ms/step - loss: 0.9540 - accuracy: 0.6684 - val_loss: 0.5257 - val_accuracy: 0.7030\n",
      "Epoch 153/200\n",
      "1429/1429 [==============================] - 9s 6ms/step - loss: 0.9570 - accuracy: 0.6682 - val_loss: 0.5519 - val_accuracy: 0.6732\n",
      "Epoch 154/200\n",
      "1429/1429 [==============================] - 9s 6ms/step - loss: 0.9513 - accuracy: 0.6721 - val_loss: 0.5544 - val_accuracy: 0.6775\n",
      "Epoch 155/200\n",
      "1429/1429 [==============================] - 8s 6ms/step - loss: 0.9544 - accuracy: 0.6714 - val_loss: 0.5131 - val_accuracy: 0.7344\n",
      "Epoch 156/200\n",
      "1429/1429 [==============================] - 8s 6ms/step - loss: 0.9513 - accuracy: 0.6724 - val_loss: 0.5430 - val_accuracy: 0.6828\n",
      "Epoch 157/200\n",
      "1429/1429 [==============================] - 8s 6ms/step - loss: 0.9553 - accuracy: 0.6703 - val_loss: 0.5469 - val_accuracy: 0.6801\n",
      "Epoch 158/200\n",
      "1429/1429 [==============================] - 8s 6ms/step - loss: 0.9549 - accuracy: 0.6720 - val_loss: 0.5264 - val_accuracy: 0.7009\n",
      "Epoch 159/200\n",
      "1429/1429 [==============================] - 9s 6ms/step - loss: 0.9536 - accuracy: 0.6703 - val_loss: 0.5839 - val_accuracy: 0.6370\n",
      "Epoch 160/200\n",
      "1429/1429 [==============================] - 8s 6ms/step - loss: 0.9528 - accuracy: 0.6684 - val_loss: 0.5548 - val_accuracy: 0.6606\n",
      "Epoch 161/200\n",
      "1429/1429 [==============================] - 9s 6ms/step - loss: 0.9521 - accuracy: 0.6700 - val_loss: 0.5680 - val_accuracy: 0.6533\n",
      "Epoch 162/200\n",
      "1429/1429 [==============================] - 9s 6ms/step - loss: 0.9556 - accuracy: 0.6645 - val_loss: 0.5873 - val_accuracy: 0.6489\n",
      "Epoch 163/200\n",
      "1429/1429 [==============================] - 8s 6ms/step - loss: 0.9514 - accuracy: 0.6720 - val_loss: 0.5719 - val_accuracy: 0.6602\n",
      "Epoch 164/200\n",
      "1429/1429 [==============================] - 8s 6ms/step - loss: 0.9531 - accuracy: 0.6689 - val_loss: 0.5536 - val_accuracy: 0.6791\n",
      "Epoch 165/200\n",
      "1429/1429 [==============================] - 8s 6ms/step - loss: 0.9537 - accuracy: 0.6724 - val_loss: 0.5429 - val_accuracy: 0.6718\n",
      "Epoch 166/200\n",
      "1429/1429 [==============================] - 8s 6ms/step - loss: 0.9498 - accuracy: 0.6661 - val_loss: 0.5531 - val_accuracy: 0.6797\n",
      "Epoch 167/200\n",
      "1429/1429 [==============================] - 8s 6ms/step - loss: 0.9490 - accuracy: 0.6644 - val_loss: 0.5475 - val_accuracy: 0.6890\n",
      "Epoch 168/200\n",
      "1429/1429 [==============================] - 8s 6ms/step - loss: 0.9513 - accuracy: 0.6665 - val_loss: 0.5533 - val_accuracy: 0.6793\n",
      "Epoch 169/200\n",
      "1429/1429 [==============================] - 9s 6ms/step - loss: 0.9513 - accuracy: 0.6712 - val_loss: 0.5501 - val_accuracy: 0.6846\n",
      "Epoch 170/200\n",
      "1429/1429 [==============================] - 8s 6ms/step - loss: 0.9509 - accuracy: 0.6690 - val_loss: 0.5567 - val_accuracy: 0.6703\n",
      "Epoch 171/200\n",
      "1429/1429 [==============================] - 8s 6ms/step - loss: 0.9518 - accuracy: 0.6702 - val_loss: 0.5289 - val_accuracy: 0.7092\n",
      "Epoch 172/200\n",
      "1429/1429 [==============================] - 9s 6ms/step - loss: 0.9510 - accuracy: 0.6642 - val_loss: 0.5705 - val_accuracy: 0.6587\n",
      "Epoch 173/200\n",
      "1429/1429 [==============================] - 8s 6ms/step - loss: 0.9506 - accuracy: 0.6677 - val_loss: 0.5334 - val_accuracy: 0.7017\n",
      "Epoch 174/200\n",
      "1429/1429 [==============================] - 8s 6ms/step - loss: 0.9513 - accuracy: 0.6675 - val_loss: 0.5259 - val_accuracy: 0.7024\n",
      "Epoch 175/200\n",
      "1429/1429 [==============================] - 8s 6ms/step - loss: 0.9474 - accuracy: 0.6709 - val_loss: 0.5574 - val_accuracy: 0.6646\n",
      "Epoch 176/200\n",
      "1429/1429 [==============================] - 8s 6ms/step - loss: 0.9465 - accuracy: 0.6678 - val_loss: 0.5677 - val_accuracy: 0.6688\n",
      "Epoch 177/200\n",
      "1429/1429 [==============================] - 8s 6ms/step - loss: 0.9491 - accuracy: 0.6680 - val_loss: 0.5642 - val_accuracy: 0.6566\n",
      "Epoch 178/200\n",
      "1429/1429 [==============================] - 9s 6ms/step - loss: 0.9490 - accuracy: 0.6647 - val_loss: 0.5397 - val_accuracy: 0.6840\n",
      "Epoch 179/200\n",
      "1429/1429 [==============================] - 8s 6ms/step - loss: 0.9493 - accuracy: 0.6698 - val_loss: 0.5605 - val_accuracy: 0.6603\n",
      "Epoch 180/200\n",
      "1429/1429 [==============================] - 8s 6ms/step - loss: 0.9488 - accuracy: 0.6632 - val_loss: 0.5535 - val_accuracy: 0.6868\n",
      "Epoch 181/200\n",
      "1429/1429 [==============================] - 8s 6ms/step - loss: 0.9509 - accuracy: 0.6659 - val_loss: 0.5148 - val_accuracy: 0.6965\n",
      "Epoch 182/200\n",
      "1429/1429 [==============================] - 8s 6ms/step - loss: 0.9509 - accuracy: 0.6604 - val_loss: 0.5564 - val_accuracy: 0.6550\n",
      "Epoch 183/200\n",
      "1429/1429 [==============================] - 8s 6ms/step - loss: 0.9450 - accuracy: 0.6612 - val_loss: 0.5580 - val_accuracy: 0.6635\n",
      "Epoch 184/200\n",
      "1429/1429 [==============================] - 8s 6ms/step - loss: 0.9479 - accuracy: 0.6683 - val_loss: 0.5758 - val_accuracy: 0.6355\n",
      "Epoch 185/200\n",
      "1429/1429 [==============================] - 8s 6ms/step - loss: 0.9487 - accuracy: 0.6610 - val_loss: 0.5543 - val_accuracy: 0.6658\n",
      "Epoch 186/200\n",
      "1429/1429 [==============================] - 8s 6ms/step - loss: 0.9447 - accuracy: 0.6689 - val_loss: 0.5835 - val_accuracy: 0.6494\n",
      "Epoch 187/200\n",
      "1429/1429 [==============================] - 9s 6ms/step - loss: 0.9451 - accuracy: 0.6698 - val_loss: 0.5234 - val_accuracy: 0.6969\n",
      "Epoch 188/200\n",
      "1429/1429 [==============================] - 8s 6ms/step - loss: 0.9484 - accuracy: 0.6677 - val_loss: 0.5166 - val_accuracy: 0.7154\n",
      "Epoch 189/200\n",
      "1429/1429 [==============================] - 9s 6ms/step - loss: 0.9495 - accuracy: 0.6709 - val_loss: 0.5517 - val_accuracy: 0.6784\n",
      "Epoch 190/200\n",
      "1429/1429 [==============================] - 9s 6ms/step - loss: 0.9460 - accuracy: 0.6726 - val_loss: 0.5529 - val_accuracy: 0.6741\n",
      "Epoch 191/200\n",
      "1429/1429 [==============================] - 9s 6ms/step - loss: 0.9478 - accuracy: 0.6711 - val_loss: 0.5370 - val_accuracy: 0.7079\n",
      "Epoch 192/200\n",
      "1429/1429 [==============================] - 8s 6ms/step - loss: 0.9440 - accuracy: 0.6727 - val_loss: 0.5337 - val_accuracy: 0.7277\n",
      "Epoch 193/200\n",
      "1429/1429 [==============================] - 9s 6ms/step - loss: 0.9427 - accuracy: 0.6730 - val_loss: 0.5777 - val_accuracy: 0.6481\n",
      "Epoch 194/200\n",
      "1429/1429 [==============================] - 8s 6ms/step - loss: 0.9456 - accuracy: 0.6654 - val_loss: 0.5196 - val_accuracy: 0.7052\n",
      "Epoch 195/200\n",
      "1429/1429 [==============================] - 8s 6ms/step - loss: 0.9475 - accuracy: 0.6700 - val_loss: 0.5752 - val_accuracy: 0.6473\n",
      "Epoch 196/200\n",
      "1429/1429 [==============================] - 8s 6ms/step - loss: 0.9460 - accuracy: 0.6659 - val_loss: 0.5440 - val_accuracy: 0.6833\n",
      "Epoch 197/200\n",
      "1429/1429 [==============================] - 9s 6ms/step - loss: 0.9472 - accuracy: 0.6680 - val_loss: 0.5615 - val_accuracy: 0.6617\n",
      "Epoch 198/200\n",
      "1429/1429 [==============================] - 9s 7ms/step - loss: 0.9435 - accuracy: 0.6694 - val_loss: 0.5746 - val_accuracy: 0.6572\n",
      "Epoch 199/200\n",
      "1429/1429 [==============================] - 9s 6ms/step - loss: 0.9465 - accuracy: 0.6709 - val_loss: 0.5659 - val_accuracy: 0.6942\n",
      "Epoch 200/200\n",
      "1429/1429 [==============================] - 9s 6ms/step - loss: 0.9432 - accuracy: 0.6740 - val_loss: 0.5179 - val_accuracy: 0.7315\n"
     ]
    }
   ],
   "source": [
    "history1 = model1.fit(X_train, y_train, epochs=200,batch_size=128, validation_split=0.25, class_weight = {0: 1., 1: 10.}, callbacks=[es])"
   ]
  },
  {
   "cell_type": "code",
   "execution_count": null,
   "metadata": {
    "colab": {
     "base_uri": "https://localhost:8080/",
     "height": 428
    },
    "id": "C_bMVMMjqUTT",
    "outputId": "289b0c0b-6f47-413b-89f2-601c76d21814"
   },
   "outputs": [
    {
     "data": {
      "text/plain": [
       "Text(0.5, 1.0, 'Loss Curves Original Data Cost Function Weight Ratio 1:10')"
      ]
     },
     "execution_count": 55,
     "metadata": {
      "tags": []
     },
     "output_type": "execute_result"
    },
    {
     "data": {
      "image/png": "[encoded data removed]",
      "text/plain": [
       "<Figure size 576x432 with 1 Axes>"
      ]
     },
     "metadata": {
      "needs_background": "light",
      "tags": []
     },
     "output_type": "display_data"
    }
   ],
   "source": [
    "plt.figure(figsize=[8,6])\n",
    "plt.plot(history1.history['loss'],'r',linewidth=3.0)\n",
    "plt.plot(history1.history['val_loss'],'b',linewidth=3.0)\n",
    "plt.legend(['Training Loss', 'Validation Loss'],fontsize=18)\n",
    "plt.xlabel('Epochs ',fontsize=16)\n",
    "plt.ylabel('Loss',fontsize=16)\n",
    "plt.title('Loss Curves Original Data Cost Function Weight Ratio 1:10',fontsize=16)"
   ]
  },
  {
   "cell_type": "code",
   "execution_count": null,
   "metadata": {
    "colab": {
     "base_uri": "https://localhost:8080/",
     "height": 428
    },
    "id": "Fi4aKf7CrstE",
    "outputId": "17dae018-ae55-496a-8272-1dcca33d1d0e"
   },
   "outputs": [
    {
     "data": {
      "text/plain": [
       "Text(0.5, 1.0, 'Accuracy Curves Original Data Cost Function Weight Ratio 1:10')"
      ]
     },
     "execution_count": 56,
     "metadata": {
      "tags": []
     },
     "output_type": "execute_result"
    },
    {
     "data": {
      "image/png": "[encoded data removed]",
      "text/plain": [
       "<Figure size 576x432 with 1 Axes>"
      ]
     },
     "metadata": {
      "needs_background": "light",
      "tags": []
     },
     "output_type": "display_data"
    }
   ],
   "source": [
    "plt.figure(figsize=[8,6])\n",
    "plt.plot(history1.history['accuracy'],'r',linewidth=3.0)\n",
    "plt.plot(history1.history['val_accuracy'],'b',linewidth=3.0)\n",
    "plt.legend(['Training Accuracy', 'Validation Accuracy'],fontsize=18)\n",
    "plt.xlabel('Epochs ',fontsize=16)\n",
    "plt.ylabel('Accuracy',fontsize=16)\n",
    "plt.title('Accuracy Curves Original Data Cost Function Weight Ratio 1:10',fontsize=16)"
   ]
  },
  {
   "cell_type": "markdown",
   "metadata": {
    "id": "SauEF5MyuW-M"
   },
   "source": [
    "### Run ANN using data with the majority class undersampled to the same size of minority class. Cost Function Weight Ratio 1:1"
   ]
  },
  {
   "cell_type": "code",
   "execution_count": null,
   "metadata": {
    "id": "Qm-kB6Pau9jE"
   },
   "outputs": [],
   "source": [
    "y_train_usm=to_categorical(y_train_usm)"
   ]
  },
  {
   "cell_type": "code",
   "execution_count": null,
   "metadata": {
    "colab": {
     "base_uri": "https://localhost:8080/"
    },
    "id": "8CovSOQlxVSY",
    "outputId": "54d885c8-785d-4efc-c061-2006166d7534"
   },
   "outputs": [
    {
     "name": "stdout",
     "output_type": "stream",
     "text": [
      "Model: \"sequential_2\"\n",
      "_________________________________________________________________\n",
      "Layer (type)                 Output Shape              Param #   \n",
      "=================================================================\n",
      "dense_14 (Dense)             (None, 64)                5184      \n",
      "_________________________________________________________________\n",
      "batch_normalization_8 (Batch (None, 64)                256       \n",
      "_________________________________________________________________\n",
      "dense_15 (Dense)             (None, 64)                4160      \n",
      "_________________________________________________________________\n",
      "dropout_10 (Dropout)         (None, 64)                0         \n",
      "_________________________________________________________________\n",
      "dense_16 (Dense)             (None, 128)               8320      \n",
      "_________________________________________________________________\n",
      "batch_normalization_9 (Batch (None, 128)               512       \n",
      "_________________________________________________________________\n",
      "dropout_11 (Dropout)         (None, 128)               0         \n",
      "_________________________________________________________________\n",
      "dense_17 (Dense)             (None, 128)               16512     \n",
      "_________________________________________________________________\n",
      "dropout_12 (Dropout)         (None, 128)               0         \n",
      "_________________________________________________________________\n",
      "dense_18 (Dense)             (None, 256)               33024     \n",
      "_________________________________________________________________\n",
      "batch_normalization_10 (Batc (None, 256)               1024      \n",
      "_________________________________________________________________\n",
      "dropout_13 (Dropout)         (None, 256)               0         \n",
      "_________________________________________________________________\n",
      "dense_19 (Dense)             (None, 256)               65792     \n",
      "_________________________________________________________________\n",
      "batch_normalization_11 (Batc (None, 256)               1024      \n",
      "_________________________________________________________________\n",
      "dropout_14 (Dropout)         (None, 256)               0         \n",
      "_________________________________________________________________\n",
      "dense_20 (Dense)             (None, 2)                 514       \n",
      "=================================================================\n",
      "Total params: 136,322\n",
      "Trainable params: 134,914\n",
      "Non-trainable params: 1,408\n",
      "_________________________________________________________________\n"
     ]
    }
   ],
   "source": [
    "#create model\n",
    "model2 = Sequential()\n",
    "\n",
    "#add layers to model\n",
    "model2.add(Dense(64, activation='relu', input_shape=(n_cols,)))\n",
    "model2.add(BatchNormalization())\n",
    "model2.add(Dense(64, activation='relu'))\n",
    "model2.add(Dropout(0.4))\n",
    "model2.add(Dense(128, activation='relu'))\n",
    "model2.add(BatchNormalization())\n",
    "model2.add(Dropout(0.4))\n",
    "model2.add(Dense(128, activation='relu'))\n",
    "model2.add(Dropout(0.4))\n",
    "model2.add(Dense(256, activation='relu'))\n",
    "model2.add(BatchNormalization())\n",
    "model2.add(Dropout(0.4))\n",
    "model2.add(Dense(256, activation='relu'))\n",
    "model2.add(BatchNormalization())\n",
    "model2.add(Dropout(0.4))\n",
    "model2.add(Dense(2, activation='softmax'))\n",
    "\n",
    "#compile model using accuracy to measure model performance\n",
    "model2.compile(optimizer='adam', loss='categorical_crossentropy', metrics=['accuracy'])\n",
    "model2.summary()"
   ]
  },
  {
   "cell_type": "code",
   "execution_count": null,
   "metadata": {
    "colab": {
     "base_uri": "https://localhost:8080/"
    },
    "id": "E28IofMfvR6q",
    "outputId": "e8b7bead-e433-4c5a-9722-fe905458dc0c"
   },
   "outputs": [
    {
     "name": "stdout",
     "output_type": "stream",
     "text": [
      "Epoch 1/200\n",
      "931/931 [==============================] - 5s 6ms/step - loss: 0.7209 - accuracy: 0.6180 - val_loss: 0.8822 - val_accuracy: 0.1305\n",
      "Epoch 2/200\n",
      "931/931 [==============================] - 5s 6ms/step - loss: 0.6217 - accuracy: 0.6656 - val_loss: 0.9982 - val_accuracy: 0.2697\n",
      "Epoch 3/200\n",
      "931/931 [==============================] - 5s 6ms/step - loss: 0.6078 - accuracy: 0.6747 - val_loss: 1.0707 - val_accuracy: 0.2444\n",
      "Epoch 4/200\n",
      "931/931 [==============================] - 5s 6ms/step - loss: 0.6021 - accuracy: 0.6797 - val_loss: 0.9771 - val_accuracy: 0.2792\n",
      "Epoch 5/200\n",
      "931/931 [==============================] - 5s 6ms/step - loss: 0.5967 - accuracy: 0.6819 - val_loss: 1.0244 - val_accuracy: 0.2339\n",
      "Epoch 6/200\n",
      "931/931 [==============================] - 5s 6ms/step - loss: 0.5950 - accuracy: 0.6834 - val_loss: 0.9958 - val_accuracy: 0.3322\n",
      "Epoch 7/200\n",
      "931/931 [==============================] - 5s 6ms/step - loss: 0.5925 - accuracy: 0.6875 - val_loss: 1.0665 - val_accuracy: 0.2554\n",
      "Epoch 8/200\n",
      "931/931 [==============================] - 5s 6ms/step - loss: 0.5905 - accuracy: 0.6879 - val_loss: 0.9423 - val_accuracy: 0.3430\n",
      "Epoch 9/200\n",
      "931/931 [==============================] - 5s 6ms/step - loss: 0.5874 - accuracy: 0.6882 - val_loss: 0.9872 - val_accuracy: 0.2433\n",
      "Epoch 10/200\n",
      "931/931 [==============================] - 5s 6ms/step - loss: 0.5880 - accuracy: 0.6874 - val_loss: 1.0050 - val_accuracy: 0.2192\n",
      "Epoch 11/200\n",
      "931/931 [==============================] - 5s 6ms/step - loss: 0.5841 - accuracy: 0.6922 - val_loss: 1.0055 - val_accuracy: 0.2968\n",
      "Epoch 12/200\n",
      "931/931 [==============================] - 5s 6ms/step - loss: 0.5835 - accuracy: 0.6890 - val_loss: 1.0293 - val_accuracy: 0.2669\n",
      "Epoch 13/200\n",
      "931/931 [==============================] - 5s 6ms/step - loss: 0.5824 - accuracy: 0.6928 - val_loss: 1.0098 - val_accuracy: 0.2587\n",
      "Epoch 14/200\n",
      "931/931 [==============================] - 6s 6ms/step - loss: 0.5789 - accuracy: 0.6960 - val_loss: 1.0167 - val_accuracy: 0.1924\n",
      "Epoch 15/200\n",
      "931/931 [==============================] - 5s 6ms/step - loss: 0.5766 - accuracy: 0.6983 - val_loss: 1.0505 - val_accuracy: 0.2909\n",
      "Epoch 16/200\n",
      "931/931 [==============================] - 5s 6ms/step - loss: 0.5745 - accuracy: 0.6979 - val_loss: 0.9698 - val_accuracy: 0.3510\n",
      "Epoch 17/200\n",
      "931/931 [==============================] - 5s 6ms/step - loss: 0.5729 - accuracy: 0.7003 - val_loss: 1.0031 - val_accuracy: 0.2537\n",
      "Epoch 18/200\n",
      "931/931 [==============================] - 5s 6ms/step - loss: 0.5710 - accuracy: 0.7011 - val_loss: 0.9862 - val_accuracy: 0.3875\n",
      "Epoch 19/200\n",
      "931/931 [==============================] - 5s 6ms/step - loss: 0.5691 - accuracy: 0.7044 - val_loss: 1.0083 - val_accuracy: 0.3893\n",
      "Epoch 20/200\n",
      "931/931 [==============================] - 5s 6ms/step - loss: 0.5647 - accuracy: 0.7065 - val_loss: 1.0001 - val_accuracy: 0.3310\n",
      "Epoch 21/200\n",
      "931/931 [==============================] - 5s 6ms/step - loss: 0.5629 - accuracy: 0.7070 - val_loss: 1.0246 - val_accuracy: 0.2831\n",
      "Epoch 22/200\n",
      "931/931 [==============================] - 5s 6ms/step - loss: 0.5634 - accuracy: 0.7069 - val_loss: 1.0498 - val_accuracy: 0.2578\n",
      "Epoch 23/200\n",
      "931/931 [==============================] - 5s 6ms/step - loss: 0.5606 - accuracy: 0.7107 - val_loss: 0.9917 - val_accuracy: 0.3354\n",
      "Epoch 24/200\n",
      "931/931 [==============================] - 5s 6ms/step - loss: 0.5579 - accuracy: 0.7125 - val_loss: 1.0171 - val_accuracy: 0.3221\n",
      "Epoch 25/200\n",
      "931/931 [==============================] - 5s 6ms/step - loss: 0.5569 - accuracy: 0.7149 - val_loss: 1.0238 - val_accuracy: 0.3715\n",
      "Epoch 26/200\n",
      "931/931 [==============================] - 5s 6ms/step - loss: 0.5553 - accuracy: 0.7116 - val_loss: 1.0035 - val_accuracy: 0.3826\n",
      "Epoch 27/200\n",
      "931/931 [==============================] - 5s 6ms/step - loss: 0.5514 - accuracy: 0.7185 - val_loss: 0.9915 - val_accuracy: 0.3556\n",
      "Epoch 28/200\n",
      "931/931 [==============================] - 5s 6ms/step - loss: 0.5528 - accuracy: 0.7155 - val_loss: 1.0139 - val_accuracy: 0.2928\n",
      "Epoch 29/200\n",
      "931/931 [==============================] - 5s 6ms/step - loss: 0.5500 - accuracy: 0.7195 - val_loss: 0.9493 - val_accuracy: 0.3434\n",
      "Epoch 30/200\n",
      "931/931 [==============================] - 5s 6ms/step - loss: 0.5465 - accuracy: 0.7220 - val_loss: 1.0423 - val_accuracy: 0.3513\n",
      "Epoch 31/200\n",
      "931/931 [==============================] - 5s 6ms/step - loss: 0.5478 - accuracy: 0.7193 - val_loss: 1.0403 - val_accuracy: 0.3117\n",
      "Epoch 32/200\n",
      "931/931 [==============================] - 5s 6ms/step - loss: 0.5454 - accuracy: 0.7219 - val_loss: 1.0064 - val_accuracy: 0.3617\n",
      "Epoch 33/200\n",
      "931/931 [==============================] - 5s 6ms/step - loss: 0.5447 - accuracy: 0.7211 - val_loss: 1.0234 - val_accuracy: 0.2733\n",
      "Epoch 34/200\n",
      "931/931 [==============================] - 5s 6ms/step - loss: 0.5425 - accuracy: 0.7226 - val_loss: 1.0247 - val_accuracy: 0.2854\n",
      "Epoch 35/200\n",
      "931/931 [==============================] - 5s 6ms/step - loss: 0.5413 - accuracy: 0.7218 - val_loss: 0.9530 - val_accuracy: 0.3959\n",
      "Epoch 36/200\n",
      "931/931 [==============================] - 5s 6ms/step - loss: 0.5407 - accuracy: 0.7253 - val_loss: 0.9999 - val_accuracy: 0.3745\n",
      "Epoch 37/200\n",
      "931/931 [==============================] - 5s 6ms/step - loss: 0.5378 - accuracy: 0.7270 - val_loss: 1.0600 - val_accuracy: 0.2899\n",
      "Epoch 38/200\n",
      "931/931 [==============================] - 5s 6ms/step - loss: 0.5381 - accuracy: 0.7269 - val_loss: 1.0719 - val_accuracy: 0.2952\n",
      "Epoch 39/200\n",
      "931/931 [==============================] - 5s 6ms/step - loss: 0.5368 - accuracy: 0.7283 - val_loss: 1.0730 - val_accuracy: 0.3341\n",
      "Epoch 40/200\n",
      "931/931 [==============================] - 6s 6ms/step - loss: 0.5370 - accuracy: 0.7293 - val_loss: 1.0894 - val_accuracy: 0.3202\n",
      "Epoch 41/200\n",
      "931/931 [==============================] - 5s 6ms/step - loss: 0.5349 - accuracy: 0.7305 - val_loss: 1.0716 - val_accuracy: 0.3290\n",
      "Epoch 42/200\n",
      "931/931 [==============================] - 5s 6ms/step - loss: 0.5319 - accuracy: 0.7329 - val_loss: 1.0251 - val_accuracy: 0.3701\n",
      "Epoch 43/200\n",
      "931/931 [==============================] - 5s 6ms/step - loss: 0.5320 - accuracy: 0.7335 - val_loss: 1.1332 - val_accuracy: 0.2960\n",
      "Epoch 44/200\n",
      "931/931 [==============================] - 5s 6ms/step - loss: 0.5318 - accuracy: 0.7329 - val_loss: 1.1319 - val_accuracy: 0.2577\n",
      "Epoch 45/200\n",
      "931/931 [==============================] - 5s 6ms/step - loss: 0.5297 - accuracy: 0.7383 - val_loss: 1.0122 - val_accuracy: 0.3581\n",
      "Epoch 46/200\n",
      "931/931 [==============================] - 5s 6ms/step - loss: 0.5301 - accuracy: 0.7332 - val_loss: 1.0358 - val_accuracy: 0.3596\n",
      "Epoch 47/200\n",
      "931/931 [==============================] - 5s 6ms/step - loss: 0.5295 - accuracy: 0.7337 - val_loss: 1.1417 - val_accuracy: 0.2972\n",
      "Epoch 48/200\n",
      "931/931 [==============================] - 5s 6ms/step - loss: 0.5266 - accuracy: 0.7356 - val_loss: 1.1027 - val_accuracy: 0.3358\n",
      "Epoch 49/200\n",
      "931/931 [==============================] - 5s 6ms/step - loss: 0.5262 - accuracy: 0.7378 - val_loss: 1.1009 - val_accuracy: 0.2962\n",
      "Epoch 50/200\n",
      "931/931 [==============================] - 5s 6ms/step - loss: 0.5260 - accuracy: 0.7343 - val_loss: 1.0635 - val_accuracy: 0.3530\n",
      "Epoch 51/200\n",
      "931/931 [==============================] - 5s 6ms/step - loss: 0.5236 - accuracy: 0.7402 - val_loss: 1.0735 - val_accuracy: 0.3421\n",
      "Epoch 52/200\n",
      "931/931 [==============================] - 5s 6ms/step - loss: 0.5222 - accuracy: 0.7389 - val_loss: 0.9972 - val_accuracy: 0.3904\n",
      "Epoch 53/200\n",
      "931/931 [==============================] - 5s 6ms/step - loss: 0.5213 - accuracy: 0.7396 - val_loss: 1.1028 - val_accuracy: 0.3588\n",
      "Epoch 54/200\n",
      "931/931 [==============================] - 6s 6ms/step - loss: 0.5228 - accuracy: 0.7377 - val_loss: 1.0698 - val_accuracy: 0.3651\n",
      "Epoch 55/200\n",
      "931/931 [==============================] - 6s 6ms/step - loss: 0.5226 - accuracy: 0.7383 - val_loss: 1.0698 - val_accuracy: 0.3622\n",
      "Epoch 56/200\n",
      "931/931 [==============================] - 6s 6ms/step - loss: 0.5203 - accuracy: 0.7389 - val_loss: 1.1085 - val_accuracy: 0.3259\n",
      "Epoch 57/200\n",
      "931/931 [==============================] - 5s 6ms/step - loss: 0.5201 - accuracy: 0.7402 - val_loss: 1.0629 - val_accuracy: 0.3889\n",
      "Epoch 58/200\n",
      "931/931 [==============================] - 5s 6ms/step - loss: 0.5188 - accuracy: 0.7394 - val_loss: 1.0894 - val_accuracy: 0.3326\n",
      "Epoch 59/200\n",
      "931/931 [==============================] - 5s 6ms/step - loss: 0.5205 - accuracy: 0.7412 - val_loss: 1.1206 - val_accuracy: 0.3188\n",
      "Epoch 60/200\n",
      "931/931 [==============================] - 5s 6ms/step - loss: 0.5215 - accuracy: 0.7427 - val_loss: 1.1246 - val_accuracy: 0.3312\n",
      "Epoch 61/200\n",
      "931/931 [==============================] - 5s 6ms/step - loss: 0.5182 - accuracy: 0.7413 - val_loss: 1.0620 - val_accuracy: 0.3120\n",
      "Epoch 62/200\n",
      "931/931 [==============================] - 5s 6ms/step - loss: 0.5151 - accuracy: 0.7445 - val_loss: 1.0157 - val_accuracy: 0.4217\n",
      "Epoch 63/200\n",
      "931/931 [==============================] - 5s 6ms/step - loss: 0.5173 - accuracy: 0.7411 - val_loss: 1.0574 - val_accuracy: 0.3553\n",
      "Epoch 64/200\n",
      "931/931 [==============================] - 5s 6ms/step - loss: 0.5148 - accuracy: 0.7420 - val_loss: 1.1034 - val_accuracy: 0.3776\n",
      "Epoch 65/200\n",
      "931/931 [==============================] - 5s 6ms/step - loss: 0.5151 - accuracy: 0.7425 - val_loss: 1.1492 - val_accuracy: 0.2688\n",
      "Epoch 66/200\n",
      "931/931 [==============================] - 5s 6ms/step - loss: 0.5151 - accuracy: 0.7412 - val_loss: 1.1502 - val_accuracy: 0.3777\n",
      "Epoch 67/200\n",
      "931/931 [==============================] - 5s 6ms/step - loss: 0.5153 - accuracy: 0.7456 - val_loss: 1.0863 - val_accuracy: 0.3199\n",
      "Epoch 68/200\n",
      "931/931 [==============================] - 5s 6ms/step - loss: 0.5159 - accuracy: 0.7427 - val_loss: 1.1835 - val_accuracy: 0.3086\n",
      "Epoch 69/200\n",
      "931/931 [==============================] - 5s 6ms/step - loss: 0.5123 - accuracy: 0.7475 - val_loss: 1.1203 - val_accuracy: 0.3709\n",
      "Epoch 70/200\n",
      "931/931 [==============================] - 5s 6ms/step - loss: 0.5133 - accuracy: 0.7423 - val_loss: 1.1080 - val_accuracy: 0.3682\n",
      "Epoch 71/200\n",
      "931/931 [==============================] - 5s 6ms/step - loss: 0.5104 - accuracy: 0.7476 - val_loss: 1.1229 - val_accuracy: 0.3729\n",
      "Epoch 00071: early stopping\n"
     ]
    }
   ],
   "source": [
    "history2 = model2.fit(X_train_usm, y_train_usm, epochs=200,batch_size=32, validation_split=0.25, callbacks=[es])"
   ]
  },
  {
   "cell_type": "code",
   "execution_count": null,
   "metadata": {
    "colab": {
     "base_uri": "https://localhost:8080/",
     "height": 428
    },
    "id": "PcNFWuPgwmf7",
    "outputId": "c21b600c-d0bc-4d7a-f388-b78fddcd7d3d"
   },
   "outputs": [
    {
     "data": {
      "text/plain": [
       "Text(0.5, 1.0, 'Loss Curves Extreme undersampling Data Cost Function Weight Ratio 1:1')"
      ]
     },
     "execution_count": 60,
     "metadata": {
      "tags": []
     },
     "output_type": "execute_result"
    },
    {
     "data": {
      "image/png": "[encoded data removed]",
      "text/plain": [
       "<Figure size 576x432 with 1 Axes>"
      ]
     },
     "metadata": {
      "needs_background": "light",
      "tags": []
     },
     "output_type": "display_data"
    }
   ],
   "source": [
    "plt.figure(figsize=[8,6])\n",
    "plt.plot(history2.history['loss'],'r',linewidth=3.0)\n",
    "plt.plot(history2.history['val_loss'],'b',linewidth=3.0)\n",
    "plt.legend(['Training Loss', 'Validation Loss'],fontsize=18)\n",
    "plt.xlabel('Epochs ',fontsize=16)\n",
    "plt.ylabel('Loss',fontsize=16)\n",
    "plt.title('Loss Curves Extreme undersampling Data Cost Function Weight Ratio 1:1',fontsize=16)"
   ]
  },
  {
   "cell_type": "code",
   "execution_count": null,
   "metadata": {
    "colab": {
     "base_uri": "https://localhost:8080/",
     "height": 428
    },
    "id": "f3_-I7I_5EYa",
    "outputId": "178ddc96-1208-42f8-f781-939616d0a82a"
   },
   "outputs": [
    {
     "data": {
      "text/plain": [
       "Text(0.5, 1.0, 'Accuracy Curves Extreme undersampling Data Cost Function Weight Ratio 1:1')"
      ]
     },
     "execution_count": 68,
     "metadata": {
      "tags": []
     },
     "output_type": "execute_result"
    },
    {
     "data": {
      "image/png": "[encoded data removed]",
      "text/plain": [
       "<Figure size 576x432 with 1 Axes>"
      ]
     },
     "metadata": {
      "needs_background": "light",
      "tags": []
     },
     "output_type": "display_data"
    }
   ],
   "source": [
    "plt.figure(figsize=[8,6])\n",
    "plt.plot(history2.history['accuracy'],'r',linewidth=3.0)\n",
    "plt.plot(history2.history['val_accuracy'],'b',linewidth=3.0)\n",
    "plt.legend(['Training Accuracy', 'Validation Accuracy'],fontsize=18)\n",
    "plt.xlabel('Epochs ',fontsize=16)\n",
    "plt.ylabel('Accuracy',fontsize=16)\n",
    "plt.title('Accuracy Curves Extreme undersampling Data Cost Function Weight Ratio 1:1',fontsize=16)"
   ]
  },
  {
   "cell_type": "markdown",
   "metadata": {
    "id": "tmYkWm4HQFXy"
   },
   "source": [
    "### Original Data Cost Function Weight Ratio 1:12"
   ]
  },
  {
   "cell_type": "code",
   "execution_count": null,
   "metadata": {
    "colab": {
     "base_uri": "https://localhost:8080/"
    },
    "id": "sW_T36gWhdEY",
    "outputId": "3cfb09a6-9675-4dfa-bd51-50cd125c80fd"
   },
   "outputs": [
    {
     "name": "stdout",
     "output_type": "stream",
     "text": [
      "Model: \"sequential_3\"\n",
      "_________________________________________________________________\n",
      "Layer (type)                 Output Shape              Param #   \n",
      "=================================================================\n",
      "dense_21 (Dense)             (None, 64)                5184      \n",
      "_________________________________________________________________\n",
      "batch_normalization_12 (Batc (None, 64)                256       \n",
      "_________________________________________________________________\n",
      "dense_22 (Dense)             (None, 64)                4160      \n",
      "_________________________________________________________________\n",
      "dropout_15 (Dropout)         (None, 64)                0         \n",
      "_________________________________________________________________\n",
      "dense_23 (Dense)             (None, 128)               8320      \n",
      "_________________________________________________________________\n",
      "batch_normalization_13 (Batc (None, 128)               512       \n",
      "_________________________________________________________________\n",
      "dropout_16 (Dropout)         (None, 128)               0         \n",
      "_________________________________________________________________\n",
      "dense_24 (Dense)             (None, 128)               16512     \n",
      "_________________________________________________________________\n",
      "dropout_17 (Dropout)         (None, 128)               0         \n",
      "_________________________________________________________________\n",
      "dense_25 (Dense)             (None, 256)               33024     \n",
      "_________________________________________________________________\n",
      "batch_normalization_14 (Batc (None, 256)               1024      \n",
      "_________________________________________________________________\n",
      "dropout_18 (Dropout)         (None, 256)               0         \n",
      "_________________________________________________________________\n",
      "dense_26 (Dense)             (None, 256)               65792     \n",
      "_________________________________________________________________\n",
      "batch_normalization_15 (Batc (None, 256)               1024      \n",
      "_________________________________________________________________\n",
      "dropout_19 (Dropout)         (None, 256)               0         \n",
      "_________________________________________________________________\n",
      "dense_27 (Dense)             (None, 2)                 514       \n",
      "=================================================================\n",
      "Total params: 136,322\n",
      "Trainable params: 134,914\n",
      "Non-trainable params: 1,408\n",
      "_________________________________________________________________\n"
     ]
    }
   ],
   "source": [
    "#create model\n",
    "model3 = Sequential()\n",
    "#add layers to model\n",
    "model3.add(Dense(64, activation='relu', input_shape=(n_cols,)))\n",
    "model3.add(BatchNormalization())\n",
    "model3.add(Dense(64, activation='relu'))\n",
    "model3.add(Dropout(0.4))\n",
    "model3.add(Dense(128, activation='relu'))\n",
    "model3.add(BatchNormalization())\n",
    "model3.add(Dropout(0.4))\n",
    "model3.add(Dense(128, activation='relu'))\n",
    "model3.add(Dropout(0.4))\n",
    "model3.add(Dense(256, activation='relu'))\n",
    "model3.add(BatchNormalization())\n",
    "model3.add(Dropout(0.4))\n",
    "model3.add(Dense(256, activation='relu'))\n",
    "model3.add(BatchNormalization())\n",
    "model3.add(Dropout(0.4))\n",
    "model3.add(Dense(2, activation='softmax'))\n",
    "\n",
    "#compile model using accuracy to measure model performance\n",
    "model3.compile(optimizer='adam', loss='categorical_crossentropy', metrics=['accuracy'])\n",
    "model3.summary()"
   ]
  },
  {
   "cell_type": "code",
   "execution_count": null,
   "metadata": {
    "colab": {
     "base_uri": "https://localhost:8080/"
    },
    "id": "u41z4dvpho8i",
    "outputId": "fe289f00-e7cf-4667-98dd-acb65963aa15"
   },
   "outputs": [
    {
     "name": "stdout",
     "output_type": "stream",
     "text": [
      "Epoch 1/200\n",
      "1429/1429 [==============================] - 8s 6ms/step - loss: 1.4215 - accuracy: 0.5089 - val_loss: 0.6454 - val_accuracy: 0.6486\n",
      "Epoch 2/200\n",
      "1429/1429 [==============================] - 8s 6ms/step - loss: 1.2463 - accuracy: 0.5945 - val_loss: 0.6728 - val_accuracy: 0.5855\n",
      "Epoch 3/200\n",
      "1429/1429 [==============================] - 8s 6ms/step - loss: 1.2312 - accuracy: 0.6051 - val_loss: 0.6631 - val_accuracy: 0.5539\n",
      "Epoch 4/200\n",
      "1429/1429 [==============================] - 8s 6ms/step - loss: 1.2197 - accuracy: 0.6056 - val_loss: 0.6529 - val_accuracy: 0.5362\n",
      "Epoch 5/200\n",
      "1429/1429 [==============================] - 8s 6ms/step - loss: 1.2136 - accuracy: 0.6111 - val_loss: 0.6414 - val_accuracy: 0.6153\n",
      "Epoch 6/200\n",
      "1429/1429 [==============================] - 8s 6ms/step - loss: 1.2104 - accuracy: 0.6049 - val_loss: 0.6676 - val_accuracy: 0.6448\n",
      "Epoch 7/200\n",
      "1429/1429 [==============================] - 8s 6ms/step - loss: 1.2068 - accuracy: 0.6130 - val_loss: 0.6635 - val_accuracy: 0.6086\n",
      "Epoch 8/200\n",
      "1429/1429 [==============================] - 8s 6ms/step - loss: 1.2004 - accuracy: 0.6143 - val_loss: 0.6546 - val_accuracy: 0.6050\n",
      "Epoch 9/200\n",
      "1429/1429 [==============================] - 8s 6ms/step - loss: 1.1960 - accuracy: 0.6065 - val_loss: 0.6503 - val_accuracy: 0.5868\n",
      "Epoch 10/200\n",
      "1429/1429 [==============================] - 8s 6ms/step - loss: 1.1931 - accuracy: 0.6104 - val_loss: 0.6531 - val_accuracy: 0.5693\n",
      "Epoch 11/200\n",
      "1429/1429 [==============================] - 8s 6ms/step - loss: 1.1874 - accuracy: 0.6162 - val_loss: 0.6355 - val_accuracy: 0.6241\n",
      "Epoch 12/200\n",
      "1429/1429 [==============================] - 8s 6ms/step - loss: 1.1854 - accuracy: 0.6066 - val_loss: 0.6676 - val_accuracy: 0.6199\n",
      "Epoch 13/200\n",
      "1429/1429 [==============================] - 8s 6ms/step - loss: 1.1820 - accuracy: 0.6104 - val_loss: 0.6332 - val_accuracy: 0.6395\n",
      "Epoch 14/200\n",
      "1429/1429 [==============================] - 8s 6ms/step - loss: 1.1802 - accuracy: 0.6068 - val_loss: 0.6115 - val_accuracy: 0.6202\n",
      "Epoch 15/200\n",
      "1429/1429 [==============================] - 8s 6ms/step - loss: 1.1727 - accuracy: 0.6063 - val_loss: 0.6318 - val_accuracy: 0.6361\n",
      "Epoch 16/200\n",
      "1429/1429 [==============================] - 8s 6ms/step - loss: 1.1705 - accuracy: 0.6095 - val_loss: 0.6499 - val_accuracy: 0.6213\n",
      "Epoch 17/200\n",
      "1429/1429 [==============================] - 8s 6ms/step - loss: 1.1668 - accuracy: 0.6093 - val_loss: 0.6415 - val_accuracy: 0.5944\n",
      "Epoch 18/200\n",
      "1429/1429 [==============================] - 8s 6ms/step - loss: 1.1658 - accuracy: 0.6097 - val_loss: 0.6474 - val_accuracy: 0.6030\n",
      "Epoch 19/200\n",
      "1429/1429 [==============================] - 8s 6ms/step - loss: 1.1612 - accuracy: 0.6159 - val_loss: 0.6279 - val_accuracy: 0.5991\n",
      "Epoch 20/200\n",
      "1429/1429 [==============================] - 8s 6ms/step - loss: 1.1596 - accuracy: 0.6175 - val_loss: 0.6555 - val_accuracy: 0.5717\n",
      "Epoch 21/200\n",
      "1429/1429 [==============================] - 8s 6ms/step - loss: 1.1544 - accuracy: 0.6146 - val_loss: 0.6407 - val_accuracy: 0.6047\n",
      "Epoch 22/200\n",
      "1429/1429 [==============================] - 8s 6ms/step - loss: 1.1528 - accuracy: 0.6195 - val_loss: 0.6585 - val_accuracy: 0.6101\n",
      "Epoch 23/200\n",
      "1429/1429 [==============================] - 8s 6ms/step - loss: 1.1497 - accuracy: 0.6170 - val_loss: 0.6161 - val_accuracy: 0.6447\n",
      "Epoch 24/200\n",
      "1429/1429 [==============================] - 8s 6ms/step - loss: 1.1464 - accuracy: 0.6201 - val_loss: 0.6333 - val_accuracy: 0.6037\n",
      "Epoch 25/200\n",
      "1429/1429 [==============================] - 8s 6ms/step - loss: 1.1419 - accuracy: 0.6188 - val_loss: 0.6352 - val_accuracy: 0.6024\n",
      "Epoch 26/200\n",
      "1429/1429 [==============================] - 8s 6ms/step - loss: 1.1396 - accuracy: 0.6228 - val_loss: 0.6523 - val_accuracy: 0.5841\n",
      "Epoch 27/200\n",
      "1429/1429 [==============================] - 9s 6ms/step - loss: 1.1397 - accuracy: 0.6222 - val_loss: 0.6609 - val_accuracy: 0.5878\n",
      "Epoch 28/200\n",
      "1429/1429 [==============================] - 8s 6ms/step - loss: 1.1373 - accuracy: 0.6223 - val_loss: 0.6402 - val_accuracy: 0.6378\n",
      "Epoch 29/200\n",
      "1429/1429 [==============================] - 8s 6ms/step - loss: 1.1337 - accuracy: 0.6184 - val_loss: 0.6631 - val_accuracy: 0.5556\n",
      "Epoch 30/200\n",
      "1429/1429 [==============================] - 8s 6ms/step - loss: 1.1322 - accuracy: 0.6162 - val_loss: 0.6408 - val_accuracy: 0.6079\n",
      "Epoch 31/200\n",
      "1429/1429 [==============================] - 8s 6ms/step - loss: 1.1310 - accuracy: 0.6124 - val_loss: 0.6321 - val_accuracy: 0.6205\n",
      "Epoch 32/200\n",
      "1429/1429 [==============================] - 8s 6ms/step - loss: 1.1266 - accuracy: 0.6175 - val_loss: 0.6369 - val_accuracy: 0.5833\n",
      "Epoch 33/200\n",
      "1429/1429 [==============================] - 8s 6ms/step - loss: 1.1269 - accuracy: 0.6161 - val_loss: 0.6404 - val_accuracy: 0.5884\n",
      "Epoch 34/200\n",
      "1429/1429 [==============================] - 8s 6ms/step - loss: 1.1243 - accuracy: 0.6131 - val_loss: 0.6760 - val_accuracy: 0.5834\n",
      "Epoch 35/200\n",
      "1429/1429 [==============================] - 8s 6ms/step - loss: 1.1224 - accuracy: 0.6198 - val_loss: 0.6203 - val_accuracy: 0.6165\n",
      "Epoch 36/200\n",
      "1429/1429 [==============================] - 8s 6ms/step - loss: 1.1190 - accuracy: 0.6108 - val_loss: 0.6232 - val_accuracy: 0.6058\n",
      "Epoch 37/200\n",
      "1429/1429 [==============================] - 8s 6ms/step - loss: 1.1174 - accuracy: 0.6163 - val_loss: 0.6390 - val_accuracy: 0.6087\n",
      "Epoch 38/200\n",
      "1429/1429 [==============================] - 8s 6ms/step - loss: 1.1176 - accuracy: 0.6159 - val_loss: 0.6469 - val_accuracy: 0.5832\n",
      "Epoch 39/200\n",
      "1429/1429 [==============================] - 8s 6ms/step - loss: 1.1178 - accuracy: 0.6123 - val_loss: 0.6425 - val_accuracy: 0.5870\n",
      "Epoch 40/200\n",
      "1429/1429 [==============================] - 8s 6ms/step - loss: 1.1157 - accuracy: 0.6217 - val_loss: 0.6784 - val_accuracy: 0.5496\n",
      "Epoch 41/200\n",
      "1429/1429 [==============================] - 8s 6ms/step - loss: 1.1116 - accuracy: 0.6109 - val_loss: 0.6678 - val_accuracy: 0.5761\n",
      "Epoch 42/200\n",
      "1429/1429 [==============================] - 8s 6ms/step - loss: 1.1118 - accuracy: 0.6149 - val_loss: 0.6654 - val_accuracy: 0.5755\n",
      "Epoch 43/200\n",
      "1429/1429 [==============================] - 8s 6ms/step - loss: 1.1102 - accuracy: 0.6251 - val_loss: 0.5995 - val_accuracy: 0.6340\n",
      "Epoch 44/200\n",
      "1429/1429 [==============================] - 8s 6ms/step - loss: 1.1075 - accuracy: 0.6236 - val_loss: 0.6572 - val_accuracy: 0.5907\n",
      "Epoch 45/200\n",
      "1429/1429 [==============================] - 8s 6ms/step - loss: 1.1036 - accuracy: 0.6244 - val_loss: 0.6261 - val_accuracy: 0.6075\n",
      "Epoch 46/200\n",
      "1429/1429 [==============================] - 8s 6ms/step - loss: 1.1044 - accuracy: 0.6193 - val_loss: 0.6021 - val_accuracy: 0.6523\n",
      "Epoch 47/200\n",
      "1429/1429 [==============================] - 8s 6ms/step - loss: 1.1025 - accuracy: 0.6175 - val_loss: 0.6439 - val_accuracy: 0.5868\n",
      "Epoch 48/200\n",
      "1429/1429 [==============================] - 8s 6ms/step - loss: 1.1018 - accuracy: 0.6152 - val_loss: 0.6311 - val_accuracy: 0.6143\n",
      "Epoch 49/200\n",
      "1429/1429 [==============================] - 8s 6ms/step - loss: 1.0996 - accuracy: 0.6226 - val_loss: 0.6595 - val_accuracy: 0.6158\n",
      "Epoch 50/200\n",
      "1429/1429 [==============================] - 8s 6ms/step - loss: 1.0995 - accuracy: 0.6181 - val_loss: 0.6408 - val_accuracy: 0.6213\n",
      "Epoch 51/200\n",
      "1429/1429 [==============================] - 8s 6ms/step - loss: 1.0994 - accuracy: 0.6217 - val_loss: 0.6425 - val_accuracy: 0.6014\n",
      "Epoch 52/200\n",
      "1429/1429 [==============================] - 8s 6ms/step - loss: 1.0981 - accuracy: 0.6223 - val_loss: 0.6357 - val_accuracy: 0.6229\n",
      "Epoch 53/200\n",
      "1429/1429 [==============================] - 8s 6ms/step - loss: 1.0957 - accuracy: 0.6216 - val_loss: 0.6491 - val_accuracy: 0.6080\n",
      "Epoch 54/200\n",
      "1429/1429 [==============================] - 9s 6ms/step - loss: 1.0957 - accuracy: 0.6236 - val_loss: 0.6567 - val_accuracy: 0.5644\n",
      "Epoch 55/200\n",
      "1429/1429 [==============================] - 8s 6ms/step - loss: 1.0972 - accuracy: 0.6305 - val_loss: 0.6418 - val_accuracy: 0.6173\n",
      "Epoch 56/200\n",
      "1429/1429 [==============================] - 8s 6ms/step - loss: 1.0934 - accuracy: 0.6189 - val_loss: 0.5974 - val_accuracy: 0.6464\n",
      "Epoch 57/200\n",
      "1429/1429 [==============================] - 8s 6ms/step - loss: 1.0928 - accuracy: 0.6217 - val_loss: 0.6292 - val_accuracy: 0.6203\n",
      "Epoch 58/200\n",
      "1429/1429 [==============================] - 8s 6ms/step - loss: 1.0922 - accuracy: 0.6237 - val_loss: 0.6547 - val_accuracy: 0.5755\n",
      "Epoch 59/200\n",
      "1429/1429 [==============================] - 8s 6ms/step - loss: 1.0910 - accuracy: 0.6160 - val_loss: 0.6266 - val_accuracy: 0.6120\n",
      "Epoch 60/200\n",
      "1429/1429 [==============================] - 8s 6ms/step - loss: 1.0865 - accuracy: 0.6182 - val_loss: 0.6509 - val_accuracy: 0.5982\n",
      "Epoch 61/200\n",
      "1429/1429 [==============================] - 8s 6ms/step - loss: 1.0900 - accuracy: 0.6193 - val_loss: 0.6905 - val_accuracy: 0.5660\n",
      "Epoch 62/200\n",
      "1429/1429 [==============================] - 8s 6ms/step - loss: 1.0850 - accuracy: 0.6206 - val_loss: 0.5801 - val_accuracy: 0.6704\n",
      "Epoch 63/200\n",
      "1429/1429 [==============================] - 8s 6ms/step - loss: 1.0837 - accuracy: 0.6153 - val_loss: 0.5979 - val_accuracy: 0.6464\n",
      "Epoch 64/200\n",
      "1429/1429 [==============================] - 8s 6ms/step - loss: 1.0844 - accuracy: 0.6182 - val_loss: 0.6453 - val_accuracy: 0.6194\n",
      "Epoch 65/200\n",
      "1429/1429 [==============================] - 9s 6ms/step - loss: 1.0828 - accuracy: 0.6221 - val_loss: 0.6217 - val_accuracy: 0.6193\n",
      "Epoch 66/200\n",
      "1429/1429 [==============================] - 8s 6ms/step - loss: 1.0829 - accuracy: 0.6247 - val_loss: 0.6201 - val_accuracy: 0.6215\n",
      "Epoch 67/200\n",
      "1429/1429 [==============================] - 8s 6ms/step - loss: 1.0821 - accuracy: 0.6114 - val_loss: 0.5931 - val_accuracy: 0.6644\n",
      "Epoch 68/200\n",
      "1429/1429 [==============================] - 8s 6ms/step - loss: 1.0837 - accuracy: 0.6220 - val_loss: 0.5980 - val_accuracy: 0.6500\n",
      "Epoch 69/200\n",
      "1429/1429 [==============================] - 8s 6ms/step - loss: 1.0847 - accuracy: 0.6235 - val_loss: 0.6325 - val_accuracy: 0.6068\n",
      "Epoch 70/200\n",
      "1429/1429 [==============================] - 8s 6ms/step - loss: 1.0813 - accuracy: 0.6174 - val_loss: 0.6330 - val_accuracy: 0.5866\n",
      "Epoch 71/200\n",
      "1429/1429 [==============================] - 8s 6ms/step - loss: 1.0796 - accuracy: 0.6185 - val_loss: 0.5962 - val_accuracy: 0.6344\n",
      "Epoch 72/200\n",
      "1429/1429 [==============================] - 8s 6ms/step - loss: 1.0797 - accuracy: 0.6128 - val_loss: 0.5615 - val_accuracy: 0.6713\n",
      "Epoch 73/200\n",
      "1429/1429 [==============================] - 8s 6ms/step - loss: 1.0785 - accuracy: 0.6205 - val_loss: 0.6179 - val_accuracy: 0.6060\n",
      "Epoch 74/200\n",
      "1429/1429 [==============================] - 8s 6ms/step - loss: 1.0751 - accuracy: 0.6163 - val_loss: 0.6478 - val_accuracy: 0.6073\n",
      "Epoch 75/200\n",
      "1429/1429 [==============================] - 8s 6ms/step - loss: 1.0746 - accuracy: 0.6187 - val_loss: 0.6260 - val_accuracy: 0.6214\n",
      "Epoch 76/200\n",
      "1429/1429 [==============================] - 8s 6ms/step - loss: 1.0772 - accuracy: 0.6181 - val_loss: 0.6051 - val_accuracy: 0.6463\n",
      "Epoch 77/200\n",
      "1429/1429 [==============================] - 8s 6ms/step - loss: 1.0752 - accuracy: 0.6256 - val_loss: 0.6252 - val_accuracy: 0.6451\n",
      "Epoch 78/200\n",
      "1429/1429 [==============================] - 8s 6ms/step - loss: 1.0753 - accuracy: 0.6247 - val_loss: 0.6165 - val_accuracy: 0.6399\n",
      "Epoch 79/200\n",
      "1429/1429 [==============================] - 8s 6ms/step - loss: 1.0736 - accuracy: 0.6232 - val_loss: 0.6187 - val_accuracy: 0.6312\n",
      "Epoch 80/200\n",
      "1429/1429 [==============================] - 8s 6ms/step - loss: 1.0704 - accuracy: 0.6217 - val_loss: 0.6080 - val_accuracy: 0.6312\n",
      "Epoch 81/200\n",
      "1429/1429 [==============================] - 8s 6ms/step - loss: 1.0757 - accuracy: 0.6148 - val_loss: 0.6196 - val_accuracy: 0.6408\n",
      "Epoch 82/200\n",
      "1429/1429 [==============================] - 8s 6ms/step - loss: 1.0720 - accuracy: 0.6191 - val_loss: 0.6108 - val_accuracy: 0.5988\n",
      "Epoch 83/200\n",
      "1429/1429 [==============================] - 8s 6ms/step - loss: 1.0689 - accuracy: 0.6191 - val_loss: 0.5972 - val_accuracy: 0.6596\n",
      "Epoch 84/200\n",
      "1429/1429 [==============================] - 8s 6ms/step - loss: 1.0718 - accuracy: 0.6152 - val_loss: 0.6447 - val_accuracy: 0.6100\n",
      "Epoch 85/200\n",
      "1429/1429 [==============================] - 8s 6ms/step - loss: 1.0697 - accuracy: 0.6160 - val_loss: 0.6573 - val_accuracy: 0.5522\n",
      "Epoch 86/200\n",
      "1429/1429 [==============================] - 8s 6ms/step - loss: 1.0698 - accuracy: 0.6144 - val_loss: 0.6298 - val_accuracy: 0.6274\n",
      "Epoch 87/200\n",
      "1429/1429 [==============================] - 8s 6ms/step - loss: 1.0698 - accuracy: 0.6169 - val_loss: 0.6063 - val_accuracy: 0.6076\n",
      "Epoch 88/200\n",
      "1429/1429 [==============================] - 8s 6ms/step - loss: 1.0668 - accuracy: 0.6183 - val_loss: 0.6433 - val_accuracy: 0.6112\n",
      "Epoch 89/200\n",
      "1429/1429 [==============================] - 8s 6ms/step - loss: 1.0656 - accuracy: 0.6103 - val_loss: 0.6000 - val_accuracy: 0.6376\n",
      "Epoch 90/200\n",
      "1429/1429 [==============================] - 8s 6ms/step - loss: 1.0656 - accuracy: 0.6085 - val_loss: 0.6065 - val_accuracy: 0.6040\n",
      "Epoch 91/200\n",
      "1429/1429 [==============================] - 9s 6ms/step - loss: 1.0652 - accuracy: 0.6136 - val_loss: 0.6475 - val_accuracy: 0.5602\n",
      "Epoch 92/200\n",
      "1429/1429 [==============================] - 8s 6ms/step - loss: 1.0636 - accuracy: 0.6153 - val_loss: 0.6172 - val_accuracy: 0.6284\n",
      "Epoch 93/200\n",
      "1429/1429 [==============================] - 8s 6ms/step - loss: 1.0633 - accuracy: 0.6214 - val_loss: 0.6256 - val_accuracy: 0.5889\n",
      "Epoch 94/200\n",
      "1429/1429 [==============================] - 8s 6ms/step - loss: 1.0661 - accuracy: 0.6142 - val_loss: 0.6318 - val_accuracy: 0.6180\n",
      "Epoch 95/200\n",
      "1429/1429 [==============================] - 8s 6ms/step - loss: 1.0665 - accuracy: 0.6153 - val_loss: 0.6311 - val_accuracy: 0.6203\n",
      "Epoch 96/200\n",
      "1429/1429 [==============================] - 8s 6ms/step - loss: 1.0663 - accuracy: 0.6158 - val_loss: 0.6049 - val_accuracy: 0.6407\n",
      "Epoch 97/200\n",
      "1429/1429 [==============================] - 8s 6ms/step - loss: 1.0643 - accuracy: 0.6119 - val_loss: 0.6247 - val_accuracy: 0.5800\n",
      "Epoch 98/200\n",
      "1429/1429 [==============================] - 8s 6ms/step - loss: 1.0658 - accuracy: 0.6287 - val_loss: 0.5616 - val_accuracy: 0.6726\n",
      "Epoch 99/200\n",
      "1429/1429 [==============================] - 8s 6ms/step - loss: 1.0590 - accuracy: 0.6177 - val_loss: 0.6044 - val_accuracy: 0.6411\n",
      "Epoch 100/200\n",
      "1429/1429 [==============================] - 8s 6ms/step - loss: 1.0615 - accuracy: 0.6175 - val_loss: 0.5739 - val_accuracy: 0.6550\n",
      "Epoch 101/200\n",
      "1429/1429 [==============================] - 8s 6ms/step - loss: 1.0620 - accuracy: 0.6223 - val_loss: 0.6574 - val_accuracy: 0.5686\n",
      "Epoch 102/200\n",
      "1429/1429 [==============================] - 9s 6ms/step - loss: 1.0629 - accuracy: 0.6222 - val_loss: 0.6148 - val_accuracy: 0.6261\n",
      "Epoch 103/200\n",
      "1429/1429 [==============================] - 8s 6ms/step - loss: 1.0626 - accuracy: 0.6132 - val_loss: 0.5758 - val_accuracy: 0.6718\n",
      "Epoch 104/200\n",
      "1429/1429 [==============================] - 8s 6ms/step - loss: 1.0594 - accuracy: 0.6175 - val_loss: 0.6492 - val_accuracy: 0.5470\n",
      "Epoch 105/200\n",
      "1429/1429 [==============================] - 8s 6ms/step - loss: 1.0580 - accuracy: 0.6230 - val_loss: 0.5852 - val_accuracy: 0.6426\n",
      "Epoch 106/200\n",
      "1429/1429 [==============================] - 8s 6ms/step - loss: 1.0577 - accuracy: 0.6258 - val_loss: 0.6319 - val_accuracy: 0.5818\n",
      "Epoch 107/200\n",
      "1429/1429 [==============================] - 8s 6ms/step - loss: 1.0598 - accuracy: 0.6199 - val_loss: 0.6506 - val_accuracy: 0.5547\n",
      "Epoch 108/200\n",
      "1429/1429 [==============================] - 8s 6ms/step - loss: 1.0568 - accuracy: 0.6259 - val_loss: 0.5993 - val_accuracy: 0.6340\n",
      "Epoch 109/200\n",
      "1429/1429 [==============================] - 8s 6ms/step - loss: 1.0560 - accuracy: 0.6177 - val_loss: 0.6339 - val_accuracy: 0.5866\n",
      "Epoch 110/200\n",
      "1429/1429 [==============================] - 8s 6ms/step - loss: 1.0568 - accuracy: 0.6207 - val_loss: 0.6352 - val_accuracy: 0.5631\n",
      "Epoch 111/200\n",
      "1429/1429 [==============================] - 8s 6ms/step - loss: 1.0549 - accuracy: 0.6149 - val_loss: 0.6031 - val_accuracy: 0.6390\n",
      "Epoch 112/200\n",
      "1429/1429 [==============================] - 8s 6ms/step - loss: 1.0548 - accuracy: 0.6184 - val_loss: 0.6518 - val_accuracy: 0.5632\n",
      "Epoch 113/200\n",
      "1429/1429 [==============================] - 8s 6ms/step - loss: 1.0578 - accuracy: 0.6249 - val_loss: 0.6118 - val_accuracy: 0.6662\n",
      "Epoch 114/200\n",
      "1429/1429 [==============================] - 8s 6ms/step - loss: 1.0555 - accuracy: 0.6297 - val_loss: 0.6172 - val_accuracy: 0.6537\n",
      "Epoch 115/200\n",
      "1429/1429 [==============================] - 8s 6ms/step - loss: 1.0572 - accuracy: 0.6259 - val_loss: 0.6400 - val_accuracy: 0.6199\n",
      "Epoch 116/200\n",
      "1429/1429 [==============================] - 9s 6ms/step - loss: 1.0547 - accuracy: 0.6198 - val_loss: 0.5755 - val_accuracy: 0.6745\n",
      "Epoch 117/200\n",
      "1429/1429 [==============================] - 8s 6ms/step - loss: 1.0571 - accuracy: 0.6279 - val_loss: 0.6116 - val_accuracy: 0.6292\n",
      "Epoch 118/200\n",
      "1429/1429 [==============================] - 8s 6ms/step - loss: 1.0505 - accuracy: 0.6233 - val_loss: 0.6547 - val_accuracy: 0.6105\n",
      "Epoch 119/200\n",
      "1429/1429 [==============================] - 8s 6ms/step - loss: 1.0574 - accuracy: 0.6213 - val_loss: 0.6139 - val_accuracy: 0.6359\n",
      "Epoch 120/200\n",
      "1429/1429 [==============================] - 8s 6ms/step - loss: 1.0567 - accuracy: 0.6255 - val_loss: 0.5718 - val_accuracy: 0.6748\n",
      "Epoch 121/200\n",
      "1429/1429 [==============================] - 8s 6ms/step - loss: 1.0529 - accuracy: 0.6203 - val_loss: 0.6004 - val_accuracy: 0.6562\n",
      "Epoch 122/200\n",
      "1429/1429 [==============================] - 8s 6ms/step - loss: 1.0505 - accuracy: 0.6251 - val_loss: 0.5754 - val_accuracy: 0.6751\n",
      "Epoch 123/200\n",
      "1429/1429 [==============================] - 8s 6ms/step - loss: 1.0493 - accuracy: 0.6224 - val_loss: 0.6152 - val_accuracy: 0.5937\n",
      "Epoch 124/200\n",
      "1429/1429 [==============================] - 8s 6ms/step - loss: 1.0500 - accuracy: 0.6268 - val_loss: 0.6000 - val_accuracy: 0.6512\n",
      "Epoch 125/200\n",
      "1429/1429 [==============================] - 8s 6ms/step - loss: 1.0485 - accuracy: 0.6200 - val_loss: 0.6025 - val_accuracy: 0.6351\n",
      "Epoch 126/200\n",
      "1429/1429 [==============================] - 8s 6ms/step - loss: 1.0509 - accuracy: 0.6219 - val_loss: 0.5799 - val_accuracy: 0.6647\n",
      "Epoch 127/200\n",
      "1429/1429 [==============================] - 9s 6ms/step - loss: 1.0504 - accuracy: 0.6291 - val_loss: 0.6262 - val_accuracy: 0.6230\n",
      "Epoch 128/200\n",
      "1429/1429 [==============================] - 8s 6ms/step - loss: 1.0522 - accuracy: 0.6292 - val_loss: 0.5555 - val_accuracy: 0.6991\n",
      "Epoch 129/200\n",
      "1429/1429 [==============================] - 8s 6ms/step - loss: 1.0513 - accuracy: 0.6293 - val_loss: 0.6181 - val_accuracy: 0.6470\n",
      "Epoch 130/200\n",
      "1429/1429 [==============================] - 8s 6ms/step - loss: 1.0498 - accuracy: 0.6232 - val_loss: 0.6615 - val_accuracy: 0.5954\n",
      "Epoch 131/200\n",
      "1429/1429 [==============================] - 8s 6ms/step - loss: 1.0513 - accuracy: 0.6143 - val_loss: 0.6082 - val_accuracy: 0.6574\n",
      "Epoch 132/200\n",
      "1429/1429 [==============================] - 8s 6ms/step - loss: 1.0486 - accuracy: 0.6248 - val_loss: 0.6014 - val_accuracy: 0.6310\n",
      "Epoch 133/200\n",
      "1429/1429 [==============================] - 8s 6ms/step - loss: 1.0503 - accuracy: 0.6255 - val_loss: 0.6570 - val_accuracy: 0.5423\n",
      "Epoch 134/200\n",
      "1429/1429 [==============================] - 8s 6ms/step - loss: 1.0487 - accuracy: 0.6227 - val_loss: 0.6028 - val_accuracy: 0.6338\n",
      "Epoch 135/200\n",
      "1429/1429 [==============================] - 9s 6ms/step - loss: 1.0453 - accuracy: 0.6218 - val_loss: 0.6213 - val_accuracy: 0.5931\n",
      "Epoch 136/200\n",
      "1429/1429 [==============================] - 8s 6ms/step - loss: 1.0468 - accuracy: 0.6249 - val_loss: 0.6291 - val_accuracy: 0.5839\n",
      "Epoch 137/200\n",
      "1429/1429 [==============================] - 8s 6ms/step - loss: 1.0465 - accuracy: 0.6300 - val_loss: 0.6356 - val_accuracy: 0.5607\n",
      "Epoch 138/200\n",
      "1429/1429 [==============================] - 8s 6ms/step - loss: 1.0461 - accuracy: 0.6128 - val_loss: 0.6140 - val_accuracy: 0.6566\n",
      "Epoch 139/200\n",
      "1429/1429 [==============================] - 9s 6ms/step - loss: 1.0502 - accuracy: 0.6157 - val_loss: 0.6009 - val_accuracy: 0.6475\n",
      "Epoch 140/200\n",
      "1429/1429 [==============================] - 9s 6ms/step - loss: 1.0469 - accuracy: 0.6257 - val_loss: 0.5830 - val_accuracy: 0.6634\n",
      "Epoch 141/200\n",
      "1429/1429 [==============================] - 8s 6ms/step - loss: 1.0451 - accuracy: 0.6202 - val_loss: 0.6770 - val_accuracy: 0.4674\n",
      "Epoch 142/200\n",
      "1429/1429 [==============================] - 8s 6ms/step - loss: 1.0415 - accuracy: 0.6149 - val_loss: 0.6293 - val_accuracy: 0.5626\n",
      "Epoch 143/200\n",
      "1429/1429 [==============================] - 8s 6ms/step - loss: 1.0448 - accuracy: 0.6237 - val_loss: 0.6215 - val_accuracy: 0.5610\n",
      "Epoch 144/200\n",
      "1429/1429 [==============================] - 8s 6ms/step - loss: 1.0487 - accuracy: 0.6242 - val_loss: 0.6076 - val_accuracy: 0.6376\n",
      "Epoch 145/200\n",
      "1429/1429 [==============================] - 8s 6ms/step - loss: 1.0479 - accuracy: 0.6202 - val_loss: 0.6279 - val_accuracy: 0.5723\n",
      "Epoch 146/200\n",
      "1429/1429 [==============================] - 8s 6ms/step - loss: 1.0408 - accuracy: 0.6186 - val_loss: 0.5990 - val_accuracy: 0.5951\n",
      "Epoch 147/200\n",
      "1429/1429 [==============================] - 8s 6ms/step - loss: 1.0491 - accuracy: 0.6289 - val_loss: 0.6060 - val_accuracy: 0.5672\n",
      "Epoch 148/200\n",
      "1429/1429 [==============================] - 8s 6ms/step - loss: 1.0497 - accuracy: 0.6247 - val_loss: 0.5706 - val_accuracy: 0.6750\n",
      "Epoch 149/200\n",
      "1429/1429 [==============================] - 9s 6ms/step - loss: 1.0437 - accuracy: 0.6262 - val_loss: 0.6121 - val_accuracy: 0.6422\n",
      "Epoch 150/200\n",
      "1429/1429 [==============================] - 8s 6ms/step - loss: 1.0460 - accuracy: 0.6229 - val_loss: 0.6207 - val_accuracy: 0.5783\n",
      "Epoch 151/200\n",
      "1429/1429 [==============================] - 8s 6ms/step - loss: 1.0426 - accuracy: 0.6161 - val_loss: 0.6104 - val_accuracy: 0.6365\n",
      "Epoch 152/200\n",
      "1429/1429 [==============================] - 8s 6ms/step - loss: 1.0471 - accuracy: 0.6209 - val_loss: 0.5917 - val_accuracy: 0.6492\n",
      "Epoch 153/200\n",
      "1429/1429 [==============================] - 8s 6ms/step - loss: 1.0407 - accuracy: 0.6216 - val_loss: 0.6121 - val_accuracy: 0.6425\n",
      "Epoch 154/200\n",
      "1429/1429 [==============================] - 9s 6ms/step - loss: 1.0448 - accuracy: 0.6204 - val_loss: 0.6326 - val_accuracy: 0.6597\n",
      "Epoch 155/200\n",
      "1429/1429 [==============================] - 8s 6ms/step - loss: 1.0434 - accuracy: 0.6180 - val_loss: 0.6496 - val_accuracy: 0.5051\n",
      "Epoch 156/200\n",
      "1429/1429 [==============================] - 8s 6ms/step - loss: 1.0413 - accuracy: 0.6288 - val_loss: 0.6183 - val_accuracy: 0.6262\n",
      "Epoch 157/200\n",
      "1429/1429 [==============================] - 8s 6ms/step - loss: 1.0416 - accuracy: 0.6236 - val_loss: 0.6259 - val_accuracy: 0.5381\n",
      "Epoch 158/200\n",
      "1429/1429 [==============================] - 8s 6ms/step - loss: 1.0446 - accuracy: 0.6136 - val_loss: 0.6009 - val_accuracy: 0.6507\n",
      "Epoch 159/200\n",
      "1429/1429 [==============================] - 8s 6ms/step - loss: 1.0456 - accuracy: 0.6308 - val_loss: 0.6221 - val_accuracy: 0.5813\n",
      "Epoch 160/200\n",
      "1429/1429 [==============================] - 8s 6ms/step - loss: 1.0378 - accuracy: 0.6257 - val_loss: 0.6195 - val_accuracy: 0.6415\n",
      "Epoch 161/200\n",
      "1429/1429 [==============================] - 8s 6ms/step - loss: 1.0416 - accuracy: 0.6278 - val_loss: 0.5868 - val_accuracy: 0.6581\n",
      "Epoch 162/200\n",
      "1429/1429 [==============================] - 8s 6ms/step - loss: 1.0393 - accuracy: 0.6355 - val_loss: 0.5398 - val_accuracy: 0.7022\n",
      "Epoch 163/200\n",
      "1429/1429 [==============================] - 9s 6ms/step - loss: 1.0404 - accuracy: 0.6259 - val_loss: 0.6104 - val_accuracy: 0.5793\n",
      "Epoch 164/200\n",
      "1429/1429 [==============================] - 9s 6ms/step - loss: 1.0421 - accuracy: 0.6231 - val_loss: 0.5839 - val_accuracy: 0.6671\n",
      "Epoch 165/200\n",
      "1429/1429 [==============================] - 9s 6ms/step - loss: 1.0419 - accuracy: 0.6229 - val_loss: 0.5630 - val_accuracy: 0.6784\n",
      "Epoch 166/200\n",
      "1429/1429 [==============================] - 8s 6ms/step - loss: 1.0426 - accuracy: 0.6219 - val_loss: 0.6459 - val_accuracy: 0.6491\n",
      "Epoch 167/200\n",
      "1429/1429 [==============================] - 8s 6ms/step - loss: 1.0377 - accuracy: 0.6232 - val_loss: 0.6079 - val_accuracy: 0.5671\n",
      "Epoch 168/200\n",
      "1429/1429 [==============================] - 8s 6ms/step - loss: 1.0387 - accuracy: 0.6208 - val_loss: 0.6238 - val_accuracy: 0.5714\n",
      "Epoch 169/200\n",
      "1429/1429 [==============================] - 8s 6ms/step - loss: 1.0408 - accuracy: 0.6191 - val_loss: 0.6011 - val_accuracy: 0.5905\n",
      "Epoch 170/200\n",
      "1429/1429 [==============================] - 8s 6ms/step - loss: 1.0386 - accuracy: 0.6244 - val_loss: 0.6117 - val_accuracy: 0.6393\n",
      "Epoch 171/200\n",
      "1429/1429 [==============================] - 8s 6ms/step - loss: 1.0410 - accuracy: 0.6279 - val_loss: 0.6129 - val_accuracy: 0.5726\n",
      "Epoch 172/200\n",
      "1429/1429 [==============================] - 8s 6ms/step - loss: 1.0371 - accuracy: 0.6240 - val_loss: 0.6232 - val_accuracy: 0.5694\n",
      "Epoch 173/200\n",
      "1429/1429 [==============================] - 8s 6ms/step - loss: 1.0386 - accuracy: 0.6202 - val_loss: 0.6589 - val_accuracy: 0.4561\n",
      "Epoch 174/200\n",
      "1429/1429 [==============================] - 8s 6ms/step - loss: 1.0404 - accuracy: 0.6186 - val_loss: 0.6202 - val_accuracy: 0.6880\n",
      "Epoch 175/200\n",
      "1429/1429 [==============================] - 8s 6ms/step - loss: 1.0381 - accuracy: 0.6308 - val_loss: 0.6448 - val_accuracy: 0.5265\n",
      "Epoch 176/200\n",
      "1429/1429 [==============================] - 9s 6ms/step - loss: 1.0378 - accuracy: 0.6238 - val_loss: 0.5980 - val_accuracy: 0.5903\n",
      "Epoch 177/200\n",
      "1429/1429 [==============================] - 8s 6ms/step - loss: 1.0387 - accuracy: 0.6199 - val_loss: 0.5877 - val_accuracy: 0.6560\n",
      "Epoch 178/200\n",
      "1429/1429 [==============================] - 8s 6ms/step - loss: 1.0359 - accuracy: 0.6244 - val_loss: 0.6343 - val_accuracy: 0.6583\n",
      "Epoch 179/200\n",
      "1429/1429 [==============================] - 8s 6ms/step - loss: 1.0380 - accuracy: 0.6286 - val_loss: 0.5736 - val_accuracy: 0.6758\n",
      "Epoch 180/200\n",
      "1429/1429 [==============================] - 8s 6ms/step - loss: 1.0355 - accuracy: 0.6303 - val_loss: 0.5879 - val_accuracy: 0.6737\n",
      "Epoch 181/200\n",
      "1429/1429 [==============================] - 8s 6ms/step - loss: 1.0427 - accuracy: 0.6309 - val_loss: 0.6049 - val_accuracy: 0.6892\n",
      "Epoch 182/200\n",
      "1429/1429 [==============================] - 8s 6ms/step - loss: 1.0420 - accuracy: 0.6249 - val_loss: 0.5843 - val_accuracy: 0.6659\n",
      "Epoch 183/200\n",
      "1429/1429 [==============================] - 9s 6ms/step - loss: 1.0377 - accuracy: 0.6218 - val_loss: 0.5758 - val_accuracy: 0.6607\n",
      "Epoch 184/200\n",
      "1429/1429 [==============================] - 8s 6ms/step - loss: 1.0379 - accuracy: 0.6244 - val_loss: 0.6229 - val_accuracy: 0.5684\n",
      "Epoch 185/200\n",
      "1429/1429 [==============================] - 8s 6ms/step - loss: 1.0375 - accuracy: 0.6170 - val_loss: 0.5890 - val_accuracy: 0.6657\n",
      "Epoch 186/200\n",
      "1429/1429 [==============================] - 8s 6ms/step - loss: 1.0379 - accuracy: 0.6404 - val_loss: 0.6266 - val_accuracy: 0.5825\n",
      "Epoch 187/200\n",
      "1429/1429 [==============================] - 8s 6ms/step - loss: 1.0372 - accuracy: 0.6294 - val_loss: 0.5903 - val_accuracy: 0.6755\n",
      "Epoch 188/200\n",
      "1429/1429 [==============================] - 8s 6ms/step - loss: 1.0392 - accuracy: 0.6306 - val_loss: 0.6358 - val_accuracy: 0.6616\n",
      "Epoch 189/200\n",
      "1429/1429 [==============================] - 8s 6ms/step - loss: 1.0344 - accuracy: 0.6332 - val_loss: 0.6383 - val_accuracy: 0.5039\n",
      "Epoch 190/200\n",
      "1429/1429 [==============================] - 8s 6ms/step - loss: 1.0370 - accuracy: 0.6259 - val_loss: 0.6017 - val_accuracy: 0.6461\n",
      "Epoch 191/200\n",
      "1429/1429 [==============================] - 8s 6ms/step - loss: 1.0375 - accuracy: 0.6290 - val_loss: 0.5925 - val_accuracy: 0.6485\n",
      "Epoch 192/200\n",
      "1429/1429 [==============================] - 8s 6ms/step - loss: 1.0345 - accuracy: 0.6387 - val_loss: 0.5928 - val_accuracy: 0.6627\n",
      "Epoch 193/200\n",
      "1429/1429 [==============================] - 8s 6ms/step - loss: 1.0386 - accuracy: 0.6358 - val_loss: 0.5936 - val_accuracy: 0.6684\n",
      "Epoch 194/200\n",
      "1429/1429 [==============================] - 8s 6ms/step - loss: 1.0341 - accuracy: 0.6349 - val_loss: 0.5688 - val_accuracy: 0.6830\n",
      "Epoch 195/200\n",
      "1429/1429 [==============================] - 8s 6ms/step - loss: 1.0372 - accuracy: 0.6336 - val_loss: 0.5885 - val_accuracy: 0.6771\n",
      "Epoch 196/200\n",
      "1429/1429 [==============================] - 8s 6ms/step - loss: 1.0334 - accuracy: 0.6274 - val_loss: 0.5966 - val_accuracy: 0.6683\n",
      "Epoch 197/200\n",
      "1429/1429 [==============================] - 8s 6ms/step - loss: 1.0330 - accuracy: 0.6257 - val_loss: 0.6408 - val_accuracy: 0.6445\n",
      "Epoch 198/200\n",
      "1429/1429 [==============================] - 8s 6ms/step - loss: 1.0349 - accuracy: 0.6228 - val_loss: 0.5908 - val_accuracy: 0.6531\n",
      "Epoch 199/200\n",
      "1429/1429 [==============================] - 8s 6ms/step - loss: 1.0356 - accuracy: 0.6168 - val_loss: 0.5991 - val_accuracy: 0.6638\n",
      "Epoch 200/200\n",
      "1429/1429 [==============================] - 9s 6ms/step - loss: 1.0321 - accuracy: 0.6374 - val_loss: 0.5926 - val_accuracy: 0.6572\n"
     ]
    }
   ],
   "source": [
    "history3 = model3.fit(X_train, y_train, epochs=200,batch_size=128, validation_split=0.25, class_weight = {0: 1., 1: 12.}, callbacks=[es])"
   ]
  },
  {
   "cell_type": "code",
   "execution_count": null,
   "metadata": {
    "colab": {
     "base_uri": "https://localhost:8080/",
     "height": 428
    },
    "id": "j3EYxpvVhly9",
    "outputId": "d164f8bc-f03a-4d63-afc2-7529656e791c"
   },
   "outputs": [
    {
     "data": {
      "text/plain": [
       "Text(0.5, 1.0, 'Loss Curves Original Data Cost Function Weight Ratio 1:12')"
      ]
     },
     "execution_count": 63,
     "metadata": {
      "tags": []
     },
     "output_type": "execute_result"
    },
    {
     "data": {
      "image/png": "[encoded data removed]",
      "text/plain": [
       "<Figure size 576x432 with 1 Axes>"
      ]
     },
     "metadata": {
      "needs_background": "light",
      "tags": []
     },
     "output_type": "display_data"
    }
   ],
   "source": [
    "plt.figure(figsize=[8,6])\n",
    "plt.plot(history3.history['loss'],'r',linewidth=3.0)\n",
    "plt.plot(history3.history['val_loss'],'b',linewidth=3.0)\n",
    "plt.legend(['Training Loss', 'Validation Loss'],fontsize=18)\n",
    "plt.xlabel('Epochs ',fontsize=16)\n",
    "plt.ylabel('Loss',fontsize=16)\n",
    "plt.title('Loss Curves Original Data Cost Function Weight Ratio 1:12',fontsize=16)"
   ]
  },
  {
   "cell_type": "code",
   "execution_count": null,
   "metadata": {
    "colab": {
     "base_uri": "https://localhost:8080/",
     "height": 428
    },
    "id": "TKITtz8B5OLh",
    "outputId": "15994e7d-cd93-45f1-d7cc-4beb9288c15c"
   },
   "outputs": [
    {
     "data": {
      "text/plain": [
       "Text(0.5, 1.0, 'Accuracy Curves Original Data Cost Function Weight Ratio 1:12')"
      ]
     },
     "execution_count": 69,
     "metadata": {
      "tags": []
     },
     "output_type": "execute_result"
    },
    {
     "data": {
      "image/png": "[encoded data removed]",
      "text/plain": [
       "<Figure size 576x432 with 1 Axes>"
      ]
     },
     "metadata": {
      "needs_background": "light",
      "tags": []
     },
     "output_type": "display_data"
    }
   ],
   "source": [
    "plt.figure(figsize=[8,6])\n",
    "plt.plot(history3.history['accuracy'],'r',linewidth=3.0)\n",
    "plt.plot(history3.history['val_accuracy'],'b',linewidth=3.0)\n",
    "plt.legend(['Training Accuracy', 'Validation Accuracy'],fontsize=18)\n",
    "plt.xlabel('Epochs ',fontsize=16)\n",
    "plt.ylabel('Accuracy',fontsize=16)\n",
    "plt.title('Accuracy Curves Original Data Cost Function Weight Ratio 1:12',fontsize=16)"
   ]
  },
  {
   "cell_type": "markdown",
   "metadata": {
    "id": "PkbmwkVTQJp8"
   },
   "source": [
    "### Original Data Cost Function Weight Ratio 1:8"
   ]
  },
  {
   "cell_type": "code",
   "execution_count": null,
   "metadata": {
    "colab": {
     "base_uri": "https://localhost:8080/"
    },
    "id": "PBEDjhE-iOx6",
    "outputId": "7a706950-766c-41da-bfaa-3a3f10633a11"
   },
   "outputs": [
    {
     "name": "stdout",
     "output_type": "stream",
     "text": [
      "Model: \"sequential_4\"\n",
      "_________________________________________________________________\n",
      "Layer (type)                 Output Shape              Param #   \n",
      "=================================================================\n",
      "dense_28 (Dense)             (None, 64)                5184      \n",
      "_________________________________________________________________\n",
      "batch_normalization_16 (Batc (None, 64)                256       \n",
      "_________________________________________________________________\n",
      "dense_29 (Dense)             (None, 64)                4160      \n",
      "_________________________________________________________________\n",
      "dropout_20 (Dropout)         (None, 64)                0         \n",
      "_________________________________________________________________\n",
      "dense_30 (Dense)             (None, 128)               8320      \n",
      "_________________________________________________________________\n",
      "batch_normalization_17 (Batc (None, 128)               512       \n",
      "_________________________________________________________________\n",
      "dropout_21 (Dropout)         (None, 128)               0         \n",
      "_________________________________________________________________\n",
      "dense_31 (Dense)             (None, 128)               16512     \n",
      "_________________________________________________________________\n",
      "dropout_22 (Dropout)         (None, 128)               0         \n",
      "_________________________________________________________________\n",
      "dense_32 (Dense)             (None, 256)               33024     \n",
      "_________________________________________________________________\n",
      "batch_normalization_18 (Batc (None, 256)               1024      \n",
      "_________________________________________________________________\n",
      "dropout_23 (Dropout)         (None, 256)               0         \n",
      "_________________________________________________________________\n",
      "dense_33 (Dense)             (None, 256)               65792     \n",
      "_________________________________________________________________\n",
      "batch_normalization_19 (Batc (None, 256)               1024      \n",
      "_________________________________________________________________\n",
      "dropout_24 (Dropout)         (None, 256)               0         \n",
      "_________________________________________________________________\n",
      "dense_34 (Dense)             (None, 2)                 514       \n",
      "=================================================================\n",
      "Total params: 136,322\n",
      "Trainable params: 134,914\n",
      "Non-trainable params: 1,408\n",
      "_________________________________________________________________\n"
     ]
    }
   ],
   "source": [
    "#create model\n",
    "model4 = Sequential()\n",
    "#add layers to model\n",
    "model4.add(Dense(64, activation='relu', input_shape=(n_cols,)))\n",
    "model4.add(BatchNormalization())\n",
    "model4.add(Dense(64, activation='relu'))\n",
    "model4.add(Dropout(0.4))\n",
    "model4.add(Dense(128, activation='relu'))\n",
    "model4.add(BatchNormalization())\n",
    "model4.add(Dropout(0.4))\n",
    "model4.add(Dense(128, activation='relu'))\n",
    "model4.add(Dropout(0.4))\n",
    "model4.add(Dense(256, activation='relu'))\n",
    "model4.add(BatchNormalization())\n",
    "model4.add(Dropout(0.4))\n",
    "model4.add(Dense(256, activation='relu'))\n",
    "model4.add(BatchNormalization())\n",
    "model4.add(Dropout(0.4))\n",
    "model4.add(Dense(2, activation='softmax'))\n",
    "\n",
    "#compile model using accuracy to measure model performance\n",
    "model4.compile(optimizer='adam', loss='categorical_crossentropy', metrics=['accuracy'])\n",
    "model4.summary()"
   ]
  },
  {
   "cell_type": "code",
   "execution_count": null,
   "metadata": {
    "colab": {
     "base_uri": "https://localhost:8080/"
    },
    "id": "GZh_STusiqoB",
    "outputId": "f23ea150-3bec-4e24-f6b2-46af1d5de5b8"
   },
   "outputs": [
    {
     "name": "stdout",
     "output_type": "stream",
     "text": [
      "Epoch 1/200\n",
      "1429/1429 [==============================] - 8s 6ms/step - loss: 1.1233 - accuracy: 0.7168 - val_loss: 0.4790 - val_accuracy: 0.8335\n",
      "Epoch 2/200\n",
      "1429/1429 [==============================] - 8s 6ms/step - loss: 1.0105 - accuracy: 0.7632 - val_loss: 0.4859 - val_accuracy: 0.7540\n",
      "Epoch 3/200\n",
      "1429/1429 [==============================] - 8s 6ms/step - loss: 0.9979 - accuracy: 0.7610 - val_loss: 0.5588 - val_accuracy: 0.6054\n",
      "Epoch 4/200\n",
      "1429/1429 [==============================] - 8s 6ms/step - loss: 0.9898 - accuracy: 0.7620 - val_loss: 0.4999 - val_accuracy: 0.7507\n",
      "Epoch 5/200\n",
      "1429/1429 [==============================] - 8s 6ms/step - loss: 0.9855 - accuracy: 0.7563 - val_loss: 0.4914 - val_accuracy: 0.7923\n",
      "Epoch 6/200\n",
      "1429/1429 [==============================] - 8s 6ms/step - loss: 0.9820 - accuracy: 0.7566 - val_loss: 0.5412 - val_accuracy: 0.7477\n",
      "Epoch 7/200\n",
      "1429/1429 [==============================] - 8s 6ms/step - loss: 0.9778 - accuracy: 0.7584 - val_loss: 0.5197 - val_accuracy: 0.7360\n",
      "Epoch 8/200\n",
      "1429/1429 [==============================] - 8s 6ms/step - loss: 0.9749 - accuracy: 0.7575 - val_loss: 0.5262 - val_accuracy: 0.7424\n",
      "Epoch 9/200\n",
      "1429/1429 [==============================] - 8s 6ms/step - loss: 0.9708 - accuracy: 0.7549 - val_loss: 0.5216 - val_accuracy: 0.7338\n",
      "Epoch 10/200\n",
      "1429/1429 [==============================] - 8s 6ms/step - loss: 0.9698 - accuracy: 0.7519 - val_loss: 0.5026 - val_accuracy: 0.7812\n",
      "Epoch 11/200\n",
      "1429/1429 [==============================] - 8s 6ms/step - loss: 0.9656 - accuracy: 0.7504 - val_loss: 0.5379 - val_accuracy: 0.7098\n",
      "Epoch 12/200\n",
      "1429/1429 [==============================] - 8s 6ms/step - loss: 0.9624 - accuracy: 0.7495 - val_loss: 0.5186 - val_accuracy: 0.7557\n",
      "Epoch 13/200\n",
      "1429/1429 [==============================] - 9s 6ms/step - loss: 0.9589 - accuracy: 0.7451 - val_loss: 0.5112 - val_accuracy: 0.7962\n",
      "Epoch 14/200\n",
      "1429/1429 [==============================] - 8s 6ms/step - loss: 0.9560 - accuracy: 0.7488 - val_loss: 0.5062 - val_accuracy: 0.7752\n",
      "Epoch 15/200\n",
      "1429/1429 [==============================] - 8s 6ms/step - loss: 0.9531 - accuracy: 0.7464 - val_loss: 0.4764 - val_accuracy: 0.8153\n",
      "Epoch 16/200\n",
      "1429/1429 [==============================] - 8s 6ms/step - loss: 0.9494 - accuracy: 0.7544 - val_loss: 0.4996 - val_accuracy: 0.7869\n",
      "Epoch 17/200\n",
      "1429/1429 [==============================] - 8s 6ms/step - loss: 0.9490 - accuracy: 0.7477 - val_loss: 0.5016 - val_accuracy: 0.7614\n",
      "Epoch 18/200\n",
      "1429/1429 [==============================] - 8s 6ms/step - loss: 0.9449 - accuracy: 0.7465 - val_loss: 0.5184 - val_accuracy: 0.7386\n",
      "Epoch 19/200\n",
      "1429/1429 [==============================] - 8s 6ms/step - loss: 0.9436 - accuracy: 0.7492 - val_loss: 0.5270 - val_accuracy: 0.7382\n",
      "Epoch 20/200\n",
      "1429/1429 [==============================] - 8s 6ms/step - loss: 0.9422 - accuracy: 0.7480 - val_loss: 0.5206 - val_accuracy: 0.7559\n",
      "Epoch 21/200\n",
      "1429/1429 [==============================] - 8s 6ms/step - loss: 0.9405 - accuracy: 0.7469 - val_loss: 0.4977 - val_accuracy: 0.7624\n",
      "Epoch 22/200\n",
      "1429/1429 [==============================] - 8s 6ms/step - loss: 0.9368 - accuracy: 0.7448 - val_loss: 0.5158 - val_accuracy: 0.7635\n",
      "Epoch 23/200\n",
      "1429/1429 [==============================] - 8s 6ms/step - loss: 0.9344 - accuracy: 0.7403 - val_loss: 0.5045 - val_accuracy: 0.7472\n",
      "Epoch 24/200\n",
      "1429/1429 [==============================] - 8s 6ms/step - loss: 0.9314 - accuracy: 0.7373 - val_loss: 0.5070 - val_accuracy: 0.7823\n",
      "Epoch 25/200\n",
      "1429/1429 [==============================] - 8s 6ms/step - loss: 0.9322 - accuracy: 0.7383 - val_loss: 0.4824 - val_accuracy: 0.7785\n",
      "Epoch 26/200\n",
      "1429/1429 [==============================] - 8s 6ms/step - loss: 0.9282 - accuracy: 0.7396 - val_loss: 0.5208 - val_accuracy: 0.7249\n",
      "Epoch 27/200\n",
      "1429/1429 [==============================] - 8s 6ms/step - loss: 0.9278 - accuracy: 0.7438 - val_loss: 0.5067 - val_accuracy: 0.7414\n",
      "Epoch 28/200\n",
      "1429/1429 [==============================] - 8s 6ms/step - loss: 0.9252 - accuracy: 0.7397 - val_loss: 0.4994 - val_accuracy: 0.7689\n",
      "Epoch 29/200\n",
      "1429/1429 [==============================] - 8s 6ms/step - loss: 0.9251 - accuracy: 0.7382 - val_loss: 0.5046 - val_accuracy: 0.7258\n",
      "Epoch 30/200\n",
      "1429/1429 [==============================] - 8s 6ms/step - loss: 0.9202 - accuracy: 0.7376 - val_loss: 0.5061 - val_accuracy: 0.7642\n",
      "Epoch 31/200\n",
      "1429/1429 [==============================] - 8s 6ms/step - loss: 0.9202 - accuracy: 0.7412 - val_loss: 0.5301 - val_accuracy: 0.7193\n",
      "Epoch 32/200\n",
      "1429/1429 [==============================] - 8s 6ms/step - loss: 0.9186 - accuracy: 0.7420 - val_loss: 0.4912 - val_accuracy: 0.7784\n",
      "Epoch 33/200\n",
      "1429/1429 [==============================] - 8s 6ms/step - loss: 0.9183 - accuracy: 0.7370 - val_loss: 0.5190 - val_accuracy: 0.7257\n",
      "Epoch 34/200\n",
      "1429/1429 [==============================] - 8s 6ms/step - loss: 0.9159 - accuracy: 0.7356 - val_loss: 0.4949 - val_accuracy: 0.7510\n",
      "Epoch 35/200\n",
      "1429/1429 [==============================] - 8s 6ms/step - loss: 0.9160 - accuracy: 0.7392 - val_loss: 0.5183 - val_accuracy: 0.7310\n",
      "Epoch 36/200\n",
      "1429/1429 [==============================] - 8s 6ms/step - loss: 0.9133 - accuracy: 0.7366 - val_loss: 0.4813 - val_accuracy: 0.7526\n",
      "Epoch 37/200\n",
      "1429/1429 [==============================] - 8s 6ms/step - loss: 0.9133 - accuracy: 0.7339 - val_loss: 0.4860 - val_accuracy: 0.7991\n",
      "Epoch 38/200\n",
      "1429/1429 [==============================] - 8s 6ms/step - loss: 0.9103 - accuracy: 0.7353 - val_loss: 0.5296 - val_accuracy: 0.7114\n",
      "Epoch 39/200\n",
      "1429/1429 [==============================] - 8s 6ms/step - loss: 0.9104 - accuracy: 0.7303 - val_loss: 0.4975 - val_accuracy: 0.7202\n",
      "Epoch 40/200\n",
      "1429/1429 [==============================] - 8s 6ms/step - loss: 0.9081 - accuracy: 0.7336 - val_loss: 0.5141 - val_accuracy: 0.7156\n",
      "Epoch 41/200\n",
      "1429/1429 [==============================] - 8s 6ms/step - loss: 0.9087 - accuracy: 0.7301 - val_loss: 0.4907 - val_accuracy: 0.7325\n",
      "Epoch 42/200\n",
      "1429/1429 [==============================] - 8s 6ms/step - loss: 0.9053 - accuracy: 0.7293 - val_loss: 0.5183 - val_accuracy: 0.7018\n",
      "Epoch 43/200\n",
      "1429/1429 [==============================] - 8s 6ms/step - loss: 0.9036 - accuracy: 0.7270 - val_loss: 0.5196 - val_accuracy: 0.7302\n",
      "Epoch 44/200\n",
      "1429/1429 [==============================] - 8s 6ms/step - loss: 0.9046 - accuracy: 0.7333 - val_loss: 0.4973 - val_accuracy: 0.7286\n",
      "Epoch 45/200\n",
      "1429/1429 [==============================] - 8s 6ms/step - loss: 0.9046 - accuracy: 0.7281 - val_loss: 0.4641 - val_accuracy: 0.8137\n",
      "Epoch 46/200\n",
      "1429/1429 [==============================] - 8s 6ms/step - loss: 0.9032 - accuracy: 0.7314 - val_loss: 0.5143 - val_accuracy: 0.7225\n",
      "Epoch 47/200\n",
      "1429/1429 [==============================] - 8s 6ms/step - loss: 0.9003 - accuracy: 0.7294 - val_loss: 0.4772 - val_accuracy: 0.7553\n",
      "Epoch 48/200\n",
      "1429/1429 [==============================] - 8s 6ms/step - loss: 0.9008 - accuracy: 0.7339 - val_loss: 0.5099 - val_accuracy: 0.7352\n",
      "Epoch 49/200\n",
      "1429/1429 [==============================] - 8s 6ms/step - loss: 0.9009 - accuracy: 0.7303 - val_loss: 0.5184 - val_accuracy: 0.7181\n",
      "Epoch 50/200\n",
      "1429/1429 [==============================] - 8s 6ms/step - loss: 0.8985 - accuracy: 0.7321 - val_loss: 0.4877 - val_accuracy: 0.7456\n",
      "Epoch 51/200\n",
      "1429/1429 [==============================] - 9s 6ms/step - loss: 0.8986 - accuracy: 0.7282 - val_loss: 0.5092 - val_accuracy: 0.7326\n",
      "Epoch 52/200\n",
      "1429/1429 [==============================] - 8s 6ms/step - loss: 0.8972 - accuracy: 0.7315 - val_loss: 0.5176 - val_accuracy: 0.7077\n",
      "Epoch 53/200\n",
      "1429/1429 [==============================] - 8s 6ms/step - loss: 0.8953 - accuracy: 0.7266 - val_loss: 0.5087 - val_accuracy: 0.7117\n",
      "Epoch 54/200\n",
      "1429/1429 [==============================] - 8s 6ms/step - loss: 0.8950 - accuracy: 0.7274 - val_loss: 0.4924 - val_accuracy: 0.7484\n",
      "Epoch 55/200\n",
      "1429/1429 [==============================] - 8s 6ms/step - loss: 0.8939 - accuracy: 0.7316 - val_loss: 0.5224 - val_accuracy: 0.7014\n",
      "Epoch 56/200\n",
      "1429/1429 [==============================] - 8s 6ms/step - loss: 0.8921 - accuracy: 0.7261 - val_loss: 0.4851 - val_accuracy: 0.7407\n",
      "Epoch 57/200\n",
      "1429/1429 [==============================] - 8s 6ms/step - loss: 0.8913 - accuracy: 0.7334 - val_loss: 0.5036 - val_accuracy: 0.7205\n",
      "Epoch 58/200\n",
      "1429/1429 [==============================] - 8s 6ms/step - loss: 0.8931 - accuracy: 0.7352 - val_loss: 0.4783 - val_accuracy: 0.7507\n",
      "Epoch 59/200\n",
      "1429/1429 [==============================] - 8s 6ms/step - loss: 0.8930 - accuracy: 0.7355 - val_loss: 0.4858 - val_accuracy: 0.7270\n",
      "Epoch 60/200\n",
      "1429/1429 [==============================] - 8s 6ms/step - loss: 0.8915 - accuracy: 0.7275 - val_loss: 0.4896 - val_accuracy: 0.7406\n",
      "Epoch 61/200\n",
      "1429/1429 [==============================] - 8s 6ms/step - loss: 0.8883 - accuracy: 0.7300 - val_loss: 0.4765 - val_accuracy: 0.7554\n",
      "Epoch 62/200\n",
      "1429/1429 [==============================] - 8s 6ms/step - loss: 0.8906 - accuracy: 0.7257 - val_loss: 0.5089 - val_accuracy: 0.7147\n",
      "Epoch 63/200\n",
      "1429/1429 [==============================] - 8s 6ms/step - loss: 0.8894 - accuracy: 0.7255 - val_loss: 0.4917 - val_accuracy: 0.7379\n",
      "Epoch 64/200\n",
      "1429/1429 [==============================] - 8s 6ms/step - loss: 0.8885 - accuracy: 0.7256 - val_loss: 0.4699 - val_accuracy: 0.7647\n",
      "Epoch 65/200\n",
      "1429/1429 [==============================] - 8s 6ms/step - loss: 0.8862 - accuracy: 0.7307 - val_loss: 0.4898 - val_accuracy: 0.7390\n",
      "Epoch 66/200\n",
      "1429/1429 [==============================] - 8s 6ms/step - loss: 0.8889 - accuracy: 0.7281 - val_loss: 0.4832 - val_accuracy: 0.7300\n",
      "Epoch 67/200\n",
      "1429/1429 [==============================] - 8s 6ms/step - loss: 0.8856 - accuracy: 0.7268 - val_loss: 0.4808 - val_accuracy: 0.7508\n",
      "Epoch 68/200\n",
      "1429/1429 [==============================] - 8s 6ms/step - loss: 0.8878 - accuracy: 0.7275 - val_loss: 0.5318 - val_accuracy: 0.6899\n",
      "Epoch 69/200\n",
      "1429/1429 [==============================] - 8s 6ms/step - loss: 0.8848 - accuracy: 0.7280 - val_loss: 0.4763 - val_accuracy: 0.8058\n",
      "Epoch 70/200\n",
      "1429/1429 [==============================] - 8s 6ms/step - loss: 0.8861 - accuracy: 0.7276 - val_loss: 0.5206 - val_accuracy: 0.7104\n",
      "Epoch 71/200\n",
      "1429/1429 [==============================] - 8s 6ms/step - loss: 0.8864 - accuracy: 0.7284 - val_loss: 0.5041 - val_accuracy: 0.7162\n",
      "Epoch 72/200\n",
      "1429/1429 [==============================] - 8s 6ms/step - loss: 0.8833 - accuracy: 0.7239 - val_loss: 0.4981 - val_accuracy: 0.7322\n",
      "Epoch 73/200\n",
      "1429/1429 [==============================] - 8s 6ms/step - loss: 0.8831 - accuracy: 0.7250 - val_loss: 0.4923 - val_accuracy: 0.7262\n",
      "Epoch 74/200\n",
      "1429/1429 [==============================] - 8s 6ms/step - loss: 0.8831 - accuracy: 0.7262 - val_loss: 0.4703 - val_accuracy: 0.7651\n",
      "Epoch 75/200\n",
      "1429/1429 [==============================] - 8s 6ms/step - loss: 0.8838 - accuracy: 0.7245 - val_loss: 0.4923 - val_accuracy: 0.7353\n",
      "Epoch 76/200\n",
      "1429/1429 [==============================] - 8s 6ms/step - loss: 0.8840 - accuracy: 0.7282 - val_loss: 0.4964 - val_accuracy: 0.7378\n",
      "Epoch 77/200\n",
      "1429/1429 [==============================] - 8s 6ms/step - loss: 0.8827 - accuracy: 0.7265 - val_loss: 0.4850 - val_accuracy: 0.7555\n",
      "Epoch 78/200\n",
      "1429/1429 [==============================] - 8s 6ms/step - loss: 0.8805 - accuracy: 0.7275 - val_loss: 0.4664 - val_accuracy: 0.7583\n",
      "Epoch 79/200\n",
      "1429/1429 [==============================] - 8s 6ms/step - loss: 0.8808 - accuracy: 0.7265 - val_loss: 0.5014 - val_accuracy: 0.7237\n",
      "Epoch 80/200\n",
      "1429/1429 [==============================] - 8s 6ms/step - loss: 0.8790 - accuracy: 0.7265 - val_loss: 0.5085 - val_accuracy: 0.7558\n",
      "Epoch 81/200\n",
      "1429/1429 [==============================] - 8s 6ms/step - loss: 0.8794 - accuracy: 0.7261 - val_loss: 0.4508 - val_accuracy: 0.7703\n",
      "Epoch 82/200\n",
      "1429/1429 [==============================] - 8s 6ms/step - loss: 0.8779 - accuracy: 0.7299 - val_loss: 0.5022 - val_accuracy: 0.7261\n",
      "Epoch 83/200\n",
      "1429/1429 [==============================] - 8s 6ms/step - loss: 0.8802 - accuracy: 0.7254 - val_loss: 0.4985 - val_accuracy: 0.7078\n",
      "Epoch 84/200\n",
      "1429/1429 [==============================] - 8s 6ms/step - loss: 0.8785 - accuracy: 0.7268 - val_loss: 0.5331 - val_accuracy: 0.6991\n",
      "Epoch 85/200\n",
      "1429/1429 [==============================] - 8s 6ms/step - loss: 0.8791 - accuracy: 0.7273 - val_loss: 0.4886 - val_accuracy: 0.7643\n",
      "Epoch 86/200\n",
      "1429/1429 [==============================] - 8s 6ms/step - loss: 0.8760 - accuracy: 0.7285 - val_loss: 0.5106 - val_accuracy: 0.7418\n",
      "Epoch 87/200\n",
      "1429/1429 [==============================] - 8s 6ms/step - loss: 0.8749 - accuracy: 0.7283 - val_loss: 0.4609 - val_accuracy: 0.7591\n",
      "Epoch 88/200\n",
      "1429/1429 [==============================] - 8s 6ms/step - loss: 0.8741 - accuracy: 0.7300 - val_loss: 0.4987 - val_accuracy: 0.7233\n",
      "Epoch 89/200\n",
      "1429/1429 [==============================] - 9s 6ms/step - loss: 0.8728 - accuracy: 0.7283 - val_loss: 0.5194 - val_accuracy: 0.7056\n",
      "Epoch 90/200\n",
      "1429/1429 [==============================] - 8s 6ms/step - loss: 0.8738 - accuracy: 0.7284 - val_loss: 0.4796 - val_accuracy: 0.7446\n",
      "Epoch 91/200\n",
      "1429/1429 [==============================] - 8s 6ms/step - loss: 0.8755 - accuracy: 0.7272 - val_loss: 0.5010 - val_accuracy: 0.7491\n",
      "Epoch 92/200\n",
      "1429/1429 [==============================] - 8s 6ms/step - loss: 0.8745 - accuracy: 0.7252 - val_loss: 0.4839 - val_accuracy: 0.7552\n",
      "Epoch 93/200\n",
      "1429/1429 [==============================] - 8s 6ms/step - loss: 0.8736 - accuracy: 0.7267 - val_loss: 0.4829 - val_accuracy: 0.7425\n",
      "Epoch 94/200\n",
      "1429/1429 [==============================] - 8s 6ms/step - loss: 0.8716 - accuracy: 0.7306 - val_loss: 0.5207 - val_accuracy: 0.7059\n",
      "Epoch 95/200\n",
      "1429/1429 [==============================] - 8s 6ms/step - loss: 0.8728 - accuracy: 0.7252 - val_loss: 0.4809 - val_accuracy: 0.7356\n",
      "Epoch 96/200\n",
      "1429/1429 [==============================] - 8s 6ms/step - loss: 0.8737 - accuracy: 0.7294 - val_loss: 0.4959 - val_accuracy: 0.7144\n",
      "Epoch 97/200\n",
      "1429/1429 [==============================] - 8s 6ms/step - loss: 0.8721 - accuracy: 0.7289 - val_loss: 0.5004 - val_accuracy: 0.7158\n",
      "Epoch 98/200\n",
      "1429/1429 [==============================] - 8s 6ms/step - loss: 0.8751 - accuracy: 0.7316 - val_loss: 0.4668 - val_accuracy: 0.7588\n",
      "Epoch 99/200\n",
      "1429/1429 [==============================] - 8s 6ms/step - loss: 0.8721 - accuracy: 0.7287 - val_loss: 0.4770 - val_accuracy: 0.7425\n",
      "Epoch 100/200\n",
      "1429/1429 [==============================] - 8s 6ms/step - loss: 0.8737 - accuracy: 0.7300 - val_loss: 0.5275 - val_accuracy: 0.7035\n",
      "Epoch 101/200\n",
      "1429/1429 [==============================] - 8s 6ms/step - loss: 0.8747 - accuracy: 0.7308 - val_loss: 0.4535 - val_accuracy: 0.8125\n",
      "Epoch 102/200\n",
      "1429/1429 [==============================] - 8s 6ms/step - loss: 0.8718 - accuracy: 0.7283 - val_loss: 0.4715 - val_accuracy: 0.7487\n",
      "Epoch 103/200\n",
      "1429/1429 [==============================] - 8s 6ms/step - loss: 0.8724 - accuracy: 0.7300 - val_loss: 0.4830 - val_accuracy: 0.7388\n",
      "Epoch 104/200\n",
      "1429/1429 [==============================] - 8s 6ms/step - loss: 0.8699 - accuracy: 0.7308 - val_loss: 0.4842 - val_accuracy: 0.7399\n",
      "Epoch 105/200\n",
      "1429/1429 [==============================] - 8s 6ms/step - loss: 0.8688 - accuracy: 0.7318 - val_loss: 0.4980 - val_accuracy: 0.7269\n",
      "Epoch 106/200\n",
      "1429/1429 [==============================] - 8s 6ms/step - loss: 0.8718 - accuracy: 0.7279 - val_loss: 0.4820 - val_accuracy: 0.7327\n",
      "Epoch 107/200\n",
      "1429/1429 [==============================] - 8s 6ms/step - loss: 0.8683 - accuracy: 0.7325 - val_loss: 0.4856 - val_accuracy: 0.7368\n",
      "Epoch 108/200\n",
      "1429/1429 [==============================] - 8s 6ms/step - loss: 0.8675 - accuracy: 0.7335 - val_loss: 0.5076 - val_accuracy: 0.7157\n",
      "Epoch 109/200\n",
      "1429/1429 [==============================] - 8s 6ms/step - loss: 0.8721 - accuracy: 0.7319 - val_loss: 0.4765 - val_accuracy: 0.7967\n",
      "Epoch 110/200\n",
      "1429/1429 [==============================] - 8s 6ms/step - loss: 0.8691 - accuracy: 0.7314 - val_loss: 0.4962 - val_accuracy: 0.7198\n",
      "Epoch 111/200\n",
      "1429/1429 [==============================] - 8s 6ms/step - loss: 0.8691 - accuracy: 0.7318 - val_loss: 0.4766 - val_accuracy: 0.7459\n",
      "Epoch 112/200\n",
      "1429/1429 [==============================] - 8s 6ms/step - loss: 0.8688 - accuracy: 0.7263 - val_loss: 0.4868 - val_accuracy: 0.7366\n",
      "Epoch 113/200\n",
      "1429/1429 [==============================] - 8s 6ms/step - loss: 0.8675 - accuracy: 0.7292 - val_loss: 0.5014 - val_accuracy: 0.7163\n",
      "Epoch 114/200\n",
      "1429/1429 [==============================] - 8s 6ms/step - loss: 0.8691 - accuracy: 0.7338 - val_loss: 0.4973 - val_accuracy: 0.7291\n",
      "Epoch 115/200\n",
      "1429/1429 [==============================] - 8s 6ms/step - loss: 0.8687 - accuracy: 0.7322 - val_loss: 0.4896 - val_accuracy: 0.7420\n",
      "Epoch 116/200\n",
      "1429/1429 [==============================] - 8s 6ms/step - loss: 0.8686 - accuracy: 0.7336 - val_loss: 0.4794 - val_accuracy: 0.7361\n",
      "Epoch 117/200\n",
      "1429/1429 [==============================] - 8s 6ms/step - loss: 0.8672 - accuracy: 0.7277 - val_loss: 0.5022 - val_accuracy: 0.7115\n",
      "Epoch 118/200\n",
      "1429/1429 [==============================] - 8s 6ms/step - loss: 0.8676 - accuracy: 0.7300 - val_loss: 0.4948 - val_accuracy: 0.7335\n",
      "Epoch 119/200\n",
      "1429/1429 [==============================] - 8s 6ms/step - loss: 0.8654 - accuracy: 0.7322 - val_loss: 0.4908 - val_accuracy: 0.7280\n",
      "Epoch 120/200\n",
      "1429/1429 [==============================] - 8s 6ms/step - loss: 0.8666 - accuracy: 0.7302 - val_loss: 0.5089 - val_accuracy: 0.7229\n",
      "Epoch 121/200\n",
      "1429/1429 [==============================] - 8s 6ms/step - loss: 0.8641 - accuracy: 0.7300 - val_loss: 0.4858 - val_accuracy: 0.7314\n",
      "Epoch 122/200\n",
      "1429/1429 [==============================] - 8s 6ms/step - loss: 0.8652 - accuracy: 0.7311 - val_loss: 0.5084 - val_accuracy: 0.7270\n",
      "Epoch 123/200\n",
      "1429/1429 [==============================] - 8s 6ms/step - loss: 0.8647 - accuracy: 0.7323 - val_loss: 0.4897 - val_accuracy: 0.7368\n",
      "Epoch 124/200\n",
      "1429/1429 [==============================] - 8s 6ms/step - loss: 0.8657 - accuracy: 0.7318 - val_loss: 0.4868 - val_accuracy: 0.7411\n",
      "Epoch 125/200\n",
      "1429/1429 [==============================] - 8s 6ms/step - loss: 0.8633 - accuracy: 0.7316 - val_loss: 0.5168 - val_accuracy: 0.7088\n",
      "Epoch 126/200\n",
      "1429/1429 [==============================] - 8s 6ms/step - loss: 0.8644 - accuracy: 0.7306 - val_loss: 0.4989 - val_accuracy: 0.7247\n",
      "Epoch 127/200\n",
      "1429/1429 [==============================] - 9s 6ms/step - loss: 0.8633 - accuracy: 0.7277 - val_loss: 0.4813 - val_accuracy: 0.7759\n",
      "Epoch 128/200\n",
      "1429/1429 [==============================] - 8s 6ms/step - loss: 0.8654 - accuracy: 0.7299 - val_loss: 0.5120 - val_accuracy: 0.7064\n",
      "Epoch 129/200\n",
      "1429/1429 [==============================] - 8s 6ms/step - loss: 0.8635 - accuracy: 0.7264 - val_loss: 0.5052 - val_accuracy: 0.7080\n",
      "Epoch 130/200\n",
      "1429/1429 [==============================] - 8s 6ms/step - loss: 0.8635 - accuracy: 0.7313 - val_loss: 0.4741 - val_accuracy: 0.7582\n",
      "Epoch 131/200\n",
      "1429/1429 [==============================] - 8s 6ms/step - loss: 0.8640 - accuracy: 0.7299 - val_loss: 0.4779 - val_accuracy: 0.7979\n",
      "Epoch 132/200\n",
      "1429/1429 [==============================] - 8s 6ms/step - loss: 0.8620 - accuracy: 0.7312 - val_loss: 0.4829 - val_accuracy: 0.7741\n",
      "Epoch 133/200\n",
      "1429/1429 [==============================] - 8s 6ms/step - loss: 0.8634 - accuracy: 0.7321 - val_loss: 0.4794 - val_accuracy: 0.7552\n",
      "Epoch 134/200\n",
      "1429/1429 [==============================] - 8s 6ms/step - loss: 0.8621 - accuracy: 0.7306 - val_loss: 0.4862 - val_accuracy: 0.7329\n",
      "Epoch 135/200\n",
      "1429/1429 [==============================] - 8s 6ms/step - loss: 0.8625 - accuracy: 0.7306 - val_loss: 0.4703 - val_accuracy: 0.8009\n",
      "Epoch 136/200\n",
      "1429/1429 [==============================] - 8s 6ms/step - loss: 0.8608 - accuracy: 0.7342 - val_loss: 0.5261 - val_accuracy: 0.7130\n",
      "Epoch 137/200\n",
      "1429/1429 [==============================] - 8s 6ms/step - loss: 0.8611 - accuracy: 0.7315 - val_loss: 0.4936 - val_accuracy: 0.7315\n",
      "Epoch 138/200\n",
      "1429/1429 [==============================] - 8s 6ms/step - loss: 0.8615 - accuracy: 0.7258 - val_loss: 0.4612 - val_accuracy: 0.8098\n",
      "Epoch 139/200\n",
      "1429/1429 [==============================] - 8s 6ms/step - loss: 0.8618 - accuracy: 0.7296 - val_loss: 0.4698 - val_accuracy: 0.7500\n",
      "Epoch 140/200\n",
      "1429/1429 [==============================] - 8s 6ms/step - loss: 0.8598 - accuracy: 0.7290 - val_loss: 0.4941 - val_accuracy: 0.7395\n",
      "Epoch 141/200\n",
      "1429/1429 [==============================] - 8s 6ms/step - loss: 0.8589 - accuracy: 0.7305 - val_loss: 0.4675 - val_accuracy: 0.7542\n",
      "Epoch 142/200\n",
      "1429/1429 [==============================] - 8s 6ms/step - loss: 0.8608 - accuracy: 0.7296 - val_loss: 0.4983 - val_accuracy: 0.7284\n",
      "Epoch 143/200\n",
      "1429/1429 [==============================] - 8s 6ms/step - loss: 0.8599 - accuracy: 0.7306 - val_loss: 0.5037 - val_accuracy: 0.7121\n",
      "Epoch 144/200\n",
      "1429/1429 [==============================] - 8s 6ms/step - loss: 0.8602 - accuracy: 0.7306 - val_loss: 0.4993 - val_accuracy: 0.7744\n",
      "Epoch 145/200\n",
      "1429/1429 [==============================] - 8s 6ms/step - loss: 0.8595 - accuracy: 0.7291 - val_loss: 0.5088 - val_accuracy: 0.7527\n",
      "Epoch 146/200\n",
      "1429/1429 [==============================] - 8s 6ms/step - loss: 0.8614 - accuracy: 0.7322 - val_loss: 0.5021 - val_accuracy: 0.7106\n",
      "Epoch 147/200\n",
      "1429/1429 [==============================] - 8s 6ms/step - loss: 0.8625 - accuracy: 0.7284 - val_loss: 0.4935 - val_accuracy: 0.7418\n",
      "Epoch 148/200\n",
      "1429/1429 [==============================] - 8s 6ms/step - loss: 0.8606 - accuracy: 0.7320 - val_loss: 0.5117 - val_accuracy: 0.7069\n",
      "Epoch 149/200\n",
      "1429/1429 [==============================] - 9s 6ms/step - loss: 0.8597 - accuracy: 0.7328 - val_loss: 0.4772 - val_accuracy: 0.7434\n",
      "Epoch 150/200\n",
      "1429/1429 [==============================] - 8s 6ms/step - loss: 0.8572 - accuracy: 0.7342 - val_loss: 0.4910 - val_accuracy: 0.7280\n",
      "Epoch 151/200\n",
      "1429/1429 [==============================] - 8s 6ms/step - loss: 0.8598 - accuracy: 0.7303 - val_loss: 0.4995 - val_accuracy: 0.7224\n",
      "Epoch 00151: early stopping\n"
     ]
    }
   ],
   "source": [
    "history4 = model4.fit(X_train, y_train, epochs=200,batch_size=128, validation_split=0.25, class_weight = {0: 1., 1: 8.}, callbacks=[es])"
   ]
  },
  {
   "cell_type": "code",
   "execution_count": null,
   "metadata": {
    "colab": {
     "base_uri": "https://localhost:8080/",
     "height": 428
    },
    "id": "s0hekWRxiu2p",
    "outputId": "c7c4ad39-e0ae-4b18-cc57-b4a9c85c81d6"
   },
   "outputs": [
    {
     "data": {
      "text/plain": [
       "Text(0.5, 1.0, 'Loss Curves Original Data Cost Function Weight Ratio 1:8')"
      ]
     },
     "execution_count": 66,
     "metadata": {
      "tags": []
     },
     "output_type": "execute_result"
    },
    {
     "data": {
      "image/png": "[encoded data removed]",
      "text/plain": [
       "<Figure size 576x432 with 1 Axes>"
      ]
     },
     "metadata": {
      "needs_background": "light",
      "tags": []
     },
     "output_type": "display_data"
    }
   ],
   "source": [
    "plt.figure(figsize=[8,6])\n",
    "plt.plot(history4.history['loss'],'r',linewidth=3.0)\n",
    "plt.plot(history4.history['val_loss'],'b',linewidth=3.0)\n",
    "plt.legend(['Training Loss', 'Validation Loss'],fontsize=18)\n",
    "plt.xlabel('Epochs ',fontsize=16)\n",
    "plt.ylabel('Loss',fontsize=16)\n",
    "plt.title('Loss Curves Original Data Cost Function Weight Ratio 1:8',fontsize=16)"
   ]
  },
  {
   "cell_type": "code",
   "execution_count": null,
   "metadata": {
    "colab": {
     "base_uri": "https://localhost:8080/",
     "height": 428
    },
    "id": "sKchNA6T61sL",
    "outputId": "ce3beb91-5f12-4919-bba7-d11dd432a434"
   },
   "outputs": [
    {
     "data": {
      "text/plain": [
       "Text(0.5, 1.0, 'Accuracy Curves Original Data Cost Function Weight Ratio 1:8')"
      ]
     },
     "execution_count": 70,
     "metadata": {
      "tags": []
     },
     "output_type": "execute_result"
    },
    {
     "data": {
      "image/png": "[encoded data removed]",
      "text/plain": [
       "<Figure size 576x432 with 1 Axes>"
      ]
     },
     "metadata": {
      "needs_background": "light",
      "tags": []
     },
     "output_type": "display_data"
    }
   ],
   "source": [
    "plt.figure(figsize=[8,6])\n",
    "plt.plot(history4.history['accuracy'],'r',linewidth=3.0)\n",
    "plt.plot(history4.history['val_accuracy'],'b',linewidth=3.0)\n",
    "plt.legend(['Training Accuracy', 'Validation Accuracy'],fontsize=18)\n",
    "plt.xlabel('Epochs ',fontsize=16)\n",
    "plt.ylabel('Accuracy',fontsize=16)\n",
    "plt.title('Accuracy Curves Original Data Cost Function Weight Ratio 1:8',fontsize=16)"
   ]
  },
  {
   "cell_type": "markdown",
   "metadata": {
    "id": "lws3pQrDJCv3"
   },
   "source": [
    "### Print out AUC score, precision and recall for both test and train on each model"
   ]
  },
  {
   "cell_type": "code",
   "execution_count": null,
   "metadata": {
    "id": "acqRibtzEycP"
   },
   "outputs": [],
   "source": [
    "y_train1=np.ndarray(shape=(y_train.shape[0]), dtype=float)\n",
    "for i in range(y_train.shape[0]):\n",
    "  if y_train[i,0] > y_train[i,1]:\n",
    "      y_train1[i] = 0\n",
    "  else:\n",
    "     y_train1[i] = 1"
   ]
  },
  {
   "cell_type": "code",
   "execution_count": null,
   "metadata": {
    "id": "JjR7jjv97O3W"
   },
   "outputs": [],
   "source": [
    "y_test1=np.ndarray(shape=(y_test.shape[0]), dtype=float)\n",
    "for i in range(y_test.shape[0]):\n",
    "  if y_test[i,0] > y_test[i,1]:\n",
    "      y_test1[i] = 0\n",
    "  else:\n",
    "     y_test1[i] = 1"
   ]
  },
  {
   "cell_type": "code",
   "execution_count": null,
   "metadata": {
    "id": "mNMxLPix1Qhv"
   },
   "outputs": [],
   "source": [
    "y_train_proba_m = model.predict(X_train)\n",
    "y_test_proba_m = model.predict(X_test)\n",
    "y_train_pred_m=np.ndarray(shape=(y_train_proba_m.shape[0]), dtype=float)\n",
    "y_test_pred_m=np.ndarray(shape=(y_test_proba_m.shape[0]), dtype=float)\n",
    "\n",
    "for i in range(y_train_proba_m.shape[0]):\n",
    "  if y_train_proba_m[i,0] > y_train_proba_m[i,1]:\n",
    "      y_train_pred_m[i] = 0\n",
    "  else:\n",
    "      y_train_pred_m[i] = 1\n",
    "\n",
    "for j in range(y_test_proba_m.shape[0]):\n",
    "  if y_test_proba_m[j,0] > y_test_proba_m[j,1]:\n",
    "      y_test_pred_m[j] = 0\n",
    "  else:\n",
    "      y_test_pred_m[j] = 1"
   ]
  },
  {
   "cell_type": "code",
   "execution_count": null,
   "metadata": {
    "colab": {
     "base_uri": "https://localhost:8080/"
    },
    "id": "CeFm4Gcb169M",
    "outputId": "d5266b04-407b-4669-ac46-957b1cc902d5"
   },
   "outputs": [
    {
     "name": "stdout",
     "output_type": "stream",
     "text": [
      "Original Data Cost Function Weight 1:1\n",
      "Train Confusion Matrix: \n",
      " [[223812     84]\n",
      " [ 19753    107]]\n",
      "Accuracy Train: 0.9186194391112424\n",
      "Precision Train: 0.5602094240837696\n",
      "Recall Train: 0.005387713997985901\n",
      " Train AUC score 0.7647083448433168\n",
      "\n",
      " Test Confusion Matrix: \n",
      " [[55952    24]\n",
      " [ 4947    18]]\n",
      "Accuracy Test: 0.9184293004709473\n",
      "Precision Test: 0.42857142857142855\n",
      "Recall Test: 0.0036253776435045317\n",
      " Test AUC score 0.6843035484492634\n"
     ]
    }
   ],
   "source": [
    "print('Original Data Cost Function Weight 1:1')\n",
    "print(\"Train Confusion Matrix: \\n\", skm.confusion_matrix(y_train1, y_train_pred_m))\n",
    "print(\"Accuracy Train:\", skm.accuracy_score(y_train1, y_train_pred_m))\n",
    "print(\"Precision Train:\", skm.precision_score(y_train1, y_train_pred_m))\n",
    "print(\"Recall Train:\", skm.recall_score(y_train1, y_train_pred_m))\n",
    "print(\" Train AUC score\", skm.roc_auc_score(y_train1, y_train_proba_m[:,1]))\n",
    "print(\"\\n Test Confusion Matrix: \\n\", skm.confusion_matrix(y_test1, y_test_pred_m))\n",
    "print(\"Accuracy Test:\", skm.accuracy_score(y_test1, y_test_pred_m))\n",
    "print(\"Precision Test:\", skm.precision_score(y_test1, y_test_pred_m))\n",
    "print(\"Recall Test:\", skm.recall_score(y_test1, y_test_pred_m))\n",
    "print(\" Test AUC score\", skm.roc_auc_score(y_test1, y_test_proba_m[:,1]))"
   ]
  },
  {
   "cell_type": "code",
   "execution_count": null,
   "metadata": {
    "id": "8OFG0g7sFxRz"
   },
   "outputs": [],
   "source": [
    "y_train_proba_m1 = model1.predict(X_train)\n",
    "y_test_proba_m1 = model1.predict(X_test)\n",
    "y_train_pred_m1=np.ndarray(shape=(y_train_proba_m1.shape[0]), dtype=float)\n",
    "y_test_pred_m1=np.ndarray(shape=(y_test_proba_m1.shape[0]), dtype=float)\n",
    "\n",
    "for i in range(y_train_proba_m1.shape[0]):\n",
    "  if y_train_proba_m1[i,0] > y_train_proba_m1[i,1]:\n",
    "      y_train_pred_m1[i] = 0\n",
    "  else:\n",
    "      y_train_pred_m1[i] = 1\n",
    "\n",
    "for j in range(y_test_proba_m1.shape[0]):\n",
    "  if y_test_proba_m1[j,0] > y_test_proba_m1[j,1]:\n",
    "      y_test_pred_m1[j] = 0\n",
    "  else:\n",
    "      y_test_pred_m1[j] = 1"
   ]
  },
  {
   "cell_type": "code",
   "execution_count": null,
   "metadata": {
    "colab": {
     "base_uri": "https://localhost:8080/"
    },
    "id": "MJlBtB8MIT7b",
    "outputId": "bce30eda-2358-4e83-9099-042dd71ee178"
   },
   "outputs": [
    {
     "name": "stdout",
     "output_type": "stream",
     "text": [
      "Original Data Cost Function Weight 1:10\n",
      "Train Confusion Matrix: \n",
      " [[170820  53076]\n",
      " [  6912  12948]]\n",
      "Accuracy Train: 0.7539014424260326\n",
      "Precision Train: 0.19611050527081061\n",
      "Recall Train: 0.6519637462235649\n",
      " Train AUC score 0.7845205934205678\n",
      "\n",
      " Test Confusion Matrix: \n",
      " [[42055 13921]\n",
      " [ 2449  2516]]\n",
      "Accuracy Test: 0.731379531021808\n",
      "Precision Test: 0.15306929488349455\n",
      "Recall Test: 0.5067472306143\n",
      " Test AUC score 0.6792872117830387\n"
     ]
    }
   ],
   "source": [
    "print('Original Data Cost Function Weight 1:10')\n",
    "print(\"Train Confusion Matrix: \\n\", skm.confusion_matrix(y_train1, y_train_pred_m1))\n",
    "print(\"Accuracy Train:\", skm.accuracy_score(y_train1, y_train_pred_m1))\n",
    "print(\"Precision Train:\", skm.precision_score(y_train1, y_train_pred_m1))\n",
    "print(\"Recall Train:\", skm.recall_score(y_train1, y_train_pred_m1))\n",
    "print(\" Train AUC score\", skm.roc_auc_score(y_train1, y_train_proba_m1[:,1]))\n",
    "print(\"\\n Test Confusion Matrix: \\n\", skm.confusion_matrix(y_test1, y_test_pred_m1))\n",
    "print(\"Accuracy Test:\", skm.accuracy_score(y_test1, y_test_pred_m1))\n",
    "print(\"Precision Test:\", skm.precision_score(y_test1, y_test_pred_m1))\n",
    "print(\"Recall Test:\", skm.recall_score(y_test1, y_test_pred_m1))\n",
    "print(\" Test AUC score\", skm.roc_auc_score(y_test1, y_test_proba_m1[:,1]))"
   ]
  },
  {
   "cell_type": "code",
   "execution_count": null,
   "metadata": {
    "id": "QHOO8xs3JYax"
   },
   "outputs": [],
   "source": [
    "y_train_proba_m2 = model2.predict(X_train)\n",
    "y_test_proba_m2 = model2.predict(X_test)\n",
    "y_train_pred_m2=np.ndarray(shape=(y_train_proba_m2.shape[0]), dtype=float)\n",
    "y_test_pred_m2=np.ndarray(shape=(y_test_proba_m2.shape[0]), dtype=float)\n",
    "\n",
    "for i in range(y_train_proba_m2.shape[0]):\n",
    "  if y_train_proba_m2[i,0] > y_train_proba_m2[i,1]:\n",
    "      y_train_pred_m2[i] = 0\n",
    "  else:\n",
    "      y_train_pred_m2[i] = 1\n",
    "\n",
    "for j in range(y_test_proba_m2.shape[0]):\n",
    "  if y_test_proba_m2[j,0] > y_test_proba_m2[j,1]:\n",
    "      y_test_pred_m2[j] = 0\n",
    "  else:\n",
    "      y_test_pred_m2[j] = 1"
   ]
  },
  {
   "cell_type": "code",
   "execution_count": null,
   "metadata": {
    "colab": {
     "base_uri": "https://localhost:8080/"
    },
    "id": "vltkl4_oJ3eS",
    "outputId": "11a45855-7a33-4e52-a356-323732ee9bd4"
   },
   "outputs": [
    {
     "name": "stdout",
     "output_type": "stream",
     "text": [
      "Extreme undersampling Data Cost Function Weight Ratio 1:1\n",
      "Train Confusion Matrix: \n",
      " [[185017  38879]\n",
      " [ 10591   9269]]\n",
      "Accuracy Train: 0.7970511495101659\n",
      "Precision Train: 0.19251059234028411\n",
      "Recall Train: 0.46671701913393754\n",
      " Train AUC score 0.7247382417669389\n",
      "\n",
      " Test Confusion Matrix: \n",
      " [[45918 10058]\n",
      " [ 3145  1820]]\n",
      "Accuracy Test: 0.7833478282273019\n",
      "Precision Test: 0.15322444856036369\n",
      "Recall Test: 0.36656596173212486\n",
      " Test AUC score 0.6556252456634775\n"
     ]
    }
   ],
   "source": [
    "print('Extreme undersampling Data Cost Function Weight Ratio 1:1')\n",
    "print(\"Train Confusion Matrix: \\n\", skm.confusion_matrix(y_train1, y_train_pred_m2))\n",
    "print(\"Accuracy Train:\", skm.accuracy_score(y_train1, y_train_pred_m2))\n",
    "print(\"Precision Train:\", skm.precision_score(y_train1, y_train_pred_m2))\n",
    "print(\"Recall Train:\", skm.recall_score(y_train1, y_train_pred_m2))\n",
    "print(\" Train AUC score\", skm.roc_auc_score(y_train1, y_train_proba_m2[:,1]))\n",
    "print(\"\\n Test Confusion Matrix: \\n\", skm.confusion_matrix(y_test1, y_test_pred_m2))\n",
    "print(\"Accuracy Test:\", skm.accuracy_score(y_test1, y_test_pred_m2))\n",
    "print(\"Precision Test:\", skm.precision_score(y_test1, y_test_pred_m2))\n",
    "print(\"Recall Test:\", skm.recall_score(y_test1, y_test_pred_m2))\n",
    "print(\" Test AUC score\", skm.roc_auc_score(y_test1, y_test_proba_m2[:,1]))"
   ]
  },
  {
   "cell_type": "code",
   "execution_count": null,
   "metadata": {
    "id": "kOVUNSL1Kb8l"
   },
   "outputs": [],
   "source": [
    "y_train_proba_m3 = model3.predict(X_train)\n",
    "y_test_proba_m3 = model3.predict(X_test)\n",
    "y_train_pred_m3=np.ndarray(shape=(y_train_proba_m3.shape[0]), dtype=float)\n",
    "y_test_pred_m3=np.ndarray(shape=(y_test_proba_m3.shape[0]), dtype=float)\n",
    "\n",
    "for i in range(y_train_proba_m3.shape[0]):\n",
    "  if y_train_proba_m3[i,0] > y_train_proba_m3[i,1]:\n",
    "      y_train_pred_m3[i] = 0\n",
    "  else:\n",
    "      y_train_pred_m3[i] = 1\n",
    "\n",
    "for j in range(y_test_proba_m3.shape[0]):\n",
    "  if y_test_proba_m3[j,0] > y_test_proba_m3[j,1]:\n",
    "      y_test_pred_m3[j] = 0\n",
    "  else:\n",
    "      y_test_pred_m3[j] = 1"
   ]
  },
  {
   "cell_type": "code",
   "execution_count": null,
   "metadata": {
    "colab": {
     "base_uri": "https://localhost:8080/"
    },
    "id": "O7Usp_ajKtzt",
    "outputId": "27902619-0bff-47b0-a981-5f84978d2be6"
   },
   "outputs": [
    {
     "name": "stdout",
     "output_type": "stream",
     "text": [
      "Original Data Cost Function Weight 1:12\n",
      "Train Confusion Matrix: \n",
      " [[151504  72392]\n",
      " [  4812  15048]]\n",
      "Accuracy Train: 0.683273437371798\n",
      "Precision Train: 0.17209515096065875\n",
      "Recall Train: 0.7577039274924471\n",
      " Train AUC score 0.7805610413513453\n",
      "\n",
      " Test Confusion Matrix: \n",
      " [[37148 18828]\n",
      " [ 2019  2946]]\n",
      "Accuracy Test: 0.6579150325724882\n",
      "Precision Test: 0.13529898043538166\n",
      "Recall Test: 0.5933534743202417\n",
      " Test AUC score 0.6760358956888588\n"
     ]
    }
   ],
   "source": [
    "print('Original Data Cost Function Weight 1:12')\n",
    "print(\"Train Confusion Matrix: \\n\", skm.confusion_matrix(y_train1, y_train_pred_m3))\n",
    "print(\"Accuracy Train:\", skm.accuracy_score(y_train1, y_train_pred_m3))\n",
    "print(\"Precision Train:\", skm.precision_score(y_train1, y_train_pred_m3))\n",
    "print(\"Recall Train:\", skm.recall_score(y_train1, y_train_pred_m3))\n",
    "print(\" Train AUC score\", skm.roc_auc_score(y_train1, y_train_proba_m3[:,1]))\n",
    "print(\"\\n Test Confusion Matrix: \\n\", skm.confusion_matrix(y_test1, y_test_pred_m3))\n",
    "print(\"Accuracy Test:\", skm.accuracy_score(y_test1, y_test_pred_m3))\n",
    "print(\"Precision Test:\", skm.precision_score(y_test1, y_test_pred_m3))\n",
    "print(\"Recall Test:\", skm.recall_score(y_test1, y_test_pred_m3))\n",
    "print(\" Test AUC score\", skm.roc_auc_score(y_test1, y_test_proba_m3[:,1]))"
   ]
  },
  {
   "cell_type": "code",
   "execution_count": null,
   "metadata": {
    "id": "upsJiVbBLOnv"
   },
   "outputs": [],
   "source": [
    "y_train_proba_m4 = model4.predict(X_train)\n",
    "y_test_proba_m4 = model4.predict(X_test)\n",
    "y_train_pred_m4=np.ndarray(shape=(y_train_proba_m4.shape[0]), dtype=float)\n",
    "y_test_pred_m4=np.ndarray(shape=(y_test_proba_m4.shape[0]), dtype=float)\n",
    "\n",
    "for i in range(y_train_proba_m4.shape[0]):\n",
    "  if y_train_proba_m4[i,0] > y_train_proba_m4[i,1]:\n",
    "      y_train_pred_m4[i] = 0\n",
    "  else:\n",
    "      y_train_pred_m4[i] = 1\n",
    "\n",
    "for j in range(y_test_proba_m4.shape[0]):\n",
    "  if y_test_proba_m4[j,0] > y_test_proba_m4[j,1]:\n",
    "      y_test_pred_m4[j] = 0\n",
    "  else:\n",
    "      y_test_pred_m4[j] = 1"
   ]
  },
  {
   "cell_type": "code",
   "execution_count": null,
   "metadata": {
    "colab": {
     "base_uri": "https://localhost:8080/"
    },
    "id": "j7gbhwAwLl_t",
    "outputId": "cbf8cf6d-6ab6-4269-9f5c-7d65bbab228e"
   },
   "outputs": [
    {
     "name": "stdout",
     "output_type": "stream",
     "text": [
      "Original Data Cost Function Weight 1:8\n",
      "Train Confusion Matrix: \n",
      " [[168531  55365]\n",
      " [  6631  13229]]\n",
      "Accuracy Train: 0.7456636964833686\n",
      "Precision Train: 0.19285943376971748\n",
      "Recall Train: 0.6661127895266868\n",
      " Train AUC score 0.7787195244961775\n",
      "\n",
      " Test Confusion Matrix: \n",
      " [[41507 14469]\n",
      " [ 2417  2548]]\n",
      "Accuracy Test: 0.7229123250356903\n",
      "Precision Test: 0.1497326203208556\n",
      "Recall Test: 0.5131923464249748\n",
      " Test AUC score 0.6756610425472231\n"
     ]
    }
   ],
   "source": [
    "print('Original Data Cost Function Weight 1:8')\n",
    "print(\"Train Confusion Matrix: \\n\", skm.confusion_matrix(y_train1, y_train_pred_m4))\n",
    "print(\"Accuracy Train:\", skm.accuracy_score(y_train1, y_train_pred_m4))\n",
    "print(\"Precision Train:\", skm.precision_score(y_train1, y_train_pred_m4))\n",
    "print(\"Recall Train:\", skm.recall_score(y_train1, y_train_pred_m4))\n",
    "print(\" Train AUC score\", skm.roc_auc_score(y_train1, y_train_proba_m4[:,1]))\n",
    "print(\"\\n Test Confusion Matrix: \\n\", skm.confusion_matrix(y_test1, y_test_pred_m4))\n",
    "print(\"Accuracy Test:\", skm.accuracy_score(y_test1, y_test_pred_m4))\n",
    "print(\"Precision Test:\", skm.precision_score(y_test1, y_test_pred_m4))\n",
    "print(\"Recall Test:\", skm.recall_score(y_test1, y_test_pred_m4))\n",
    "print(\" Test AUC score\", skm.roc_auc_score(y_test1, y_test_proba_m4[:,1]))"
   ]
  },
  {
   "cell_type": "code",
   "execution_count": 118,
   "metadata": {
    "colab": {
     "base_uri": "https://localhost:8080/",
     "height": 204
    },
    "id": "5C0ErditMmG9",
    "outputId": "c86bc8e4-61c0-4a11-9775-2db6fb97c6c6"
   },
   "outputs": [
    {
     "data": {
      "text/html": [
       "<div>\n",
       "<style scoped>\n",
       "    .dataframe tbody tr th:only-of-type {\n",
       "        vertical-align: middle;\n",
       "    }\n",
       "\n",
       "    .dataframe tbody tr th {\n",
       "        vertical-align: top;\n",
       "    }\n",
       "\n",
       "    .dataframe thead th {\n",
       "        text-align: right;\n",
       "    }\n",
       "</style>\n",
       "<table border=\"1\" class=\"dataframe\">\n",
       "  <thead>\n",
       "    <tr style=\"text-align: right;\">\n",
       "      <th></th>\n",
       "      <th>Model</th>\n",
       "      <th>Test_Accuracy</th>\n",
       "      <th>Test_Precision</th>\n",
       "      <th>Test_Recall</th>\n",
       "      <th>Test_AUC</th>\n",
       "    </tr>\n",
       "  </thead>\n",
       "  <tbody>\n",
       "    <tr>\n",
       "      <th>0</th>\n",
       "      <td>Original Data Cost Function Weight 1:1</td>\n",
       "      <td>0.918</td>\n",
       "      <td>0.429</td>\n",
       "      <td>0.0036</td>\n",
       "      <td>0.684</td>\n",
       "    </tr>\n",
       "    <tr>\n",
       "      <th>1</th>\n",
       "      <td>Undersampling Data Cost Function Weight Ratio 1:1</td>\n",
       "      <td>0.783</td>\n",
       "      <td>0.153</td>\n",
       "      <td>0.367</td>\n",
       "      <td>0.656</td>\n",
       "    </tr>\n",
       "    <tr>\n",
       "      <th>2</th>\n",
       "      <td>Original Data Cost Function Weight 1:8</td>\n",
       "      <td>0.723</td>\n",
       "      <td>0.15</td>\n",
       "      <td>0.513</td>\n",
       "      <td>0.676</td>\n",
       "    </tr>\n",
       "    <tr>\n",
       "      <th>3</th>\n",
       "      <td>Original Data Cost Function Weight 1:10</td>\n",
       "      <td>0.731</td>\n",
       "      <td>0.153</td>\n",
       "      <td>0.507</td>\n",
       "      <td>0.679</td>\n",
       "    </tr>\n",
       "    <tr>\n",
       "      <th>4</th>\n",
       "      <td>Original Data Cost Function Weight 1:12</td>\n",
       "      <td>0.658</td>\n",
       "      <td>0.135</td>\n",
       "      <td>0.593</td>\n",
       "      <td>0.676</td>\n",
       "    </tr>\n",
       "  </tbody>\n",
       "</table>\n",
       "</div>"
      ],
      "text/plain": [
       "                                               Model  ... Test_AUC\n",
       "0             Original Data Cost Function Weight 1:1  ...    0.684\n",
       "1  Undersampling Data Cost Function Weight Ratio 1:1  ...    0.656\n",
       "2             Original Data Cost Function Weight 1:8  ...    0.676\n",
       "3            Original Data Cost Function Weight 1:10  ...    0.679\n",
       "4            Original Data Cost Function Weight 1:12  ...    0.676\n",
       "\n",
       "[5 rows x 5 columns]"
      ]
     },
     "execution_count": 118,
     "metadata": {
      "tags": []
     },
     "output_type": "execute_result"
    }
   ],
   "source": [
    "Comparison_dict = {'Original Data Cost Function Weight 1:1':[0.918,0.429,0.0036,0.684],\n",
    "                       'Undersampling Data Cost Function Weight Ratio 1:1':[0.783,0.153,0.367,0.656],\n",
    "                       'Original Data Cost Function Weight 1:8':[0.723,0.150,0.513,0.676],\n",
    "                       'Original Data Cost Function Weight 1:10':[0.731,0.153,0.507,0.679],\n",
    "                       'Original Data Cost Function Weight 1:12':[0.658,0.135,0.593,0.676]}\n",
    "\n",
    "model_comparison = pd.DataFrame(Comparison_dict)\n",
    "model_comparison['Metrics'] = ['Test_Accuracy','Test_Precision','Test_Recall','Test_AUC']\n",
    "#re-arranging the column order\n",
    "cols = model_comparison.columns.tolist()\n",
    "cols = cols[-1:] + cols[:-1]\n",
    "model_comparison = model_comparison[cols]\n",
    "\n",
    "#pivot\n",
    "model_comparison = model_comparison.transpose()\n",
    "model_comparison = model_comparison[1:].reset_index(drop=False)\n",
    "model_comparison.columns = ['Model','Test_Accuracy','Test_Precision','Test_Recall','Test_AUC']\n",
    "model_comparison"
   ]
  },
  {
   "cell_type": "code",
   "execution_count": null,
   "metadata": {
    "id": "nUfYZINFR_tV"
   },
   "outputs": [],
   "source": [
    "from sklearn.model_selection import RandomizedSearchCV\n",
    "from keras.wrappers.scikit_learn import KerasClassifier\n",
    "from keras.optimizers import Adam"
   ]
  },
  {
   "cell_type": "code",
   "execution_count": null,
   "metadata": {
    "id": "kcwUQtknMdLB"
   },
   "outputs": [],
   "source": [
    "def create_model(learn_rate=0.01):\n",
    "  modelf = Sequential()\n",
    "  modelf.add(Dense(64, activation='relu', input_shape=(80,)))\n",
    "  modelf.add(BatchNormalization())\n",
    "  modelf.add(Dense(64, activation='relu'))\n",
    "  modelf.add(Dropout(0.4))\n",
    "  modelf.add(Dense(128, activation='relu'))\n",
    "  modelf.add(BatchNormalization())\n",
    "  modelf.add(Dropout(0.4))\n",
    "  modelf.add(Dense(128, activation='relu'))\n",
    "  modelf.add(Dropout(0.4))\n",
    "  modelf.add(Dense(256, activation='relu'))\n",
    "  modelf.add(BatchNormalization())\n",
    "  modelf.add(Dropout(0.4))\n",
    "  modelf.add(Dense(256, activation='relu'))\n",
    "  modelf.add(BatchNormalization())\n",
    "  modelf.add(Dropout(0.4))\n",
    "  modelf.add(Dense(2, activation='softmax'))\n",
    "  optimizer = Adam(lr=learn_rate)\n",
    "  modelf.compile(optimizer=optimizer, loss='categorical_crossentropy', metrics=['accuracy'])\n",
    "  return modelf"
   ]
  },
  {
   "cell_type": "code",
   "execution_count": null,
   "metadata": {
    "id": "1Nuu3eRvM80s"
   },
   "outputs": [],
   "source": [
    "model_rs = KerasClassifier(build_fn=create_model, epochs=100, batch_size=128, validation_split=0.25)"
   ]
  },
  {
   "cell_type": "code",
   "execution_count": null,
   "metadata": {
    "id": "RRy80cXBNpWJ"
   },
   "outputs": [],
   "source": [
    "param_grid = {'learn_rate': [0.01, 0.05, 0.1, 0.2],\n",
    "'class_weight': [{0:1, 1:8}, {0:1, 1:10}, {0:1, 1:12}]\n",
    "}"
   ]
  },
  {
   "cell_type": "code",
   "execution_count": null,
   "metadata": {
    "id": "DTcfVI6_QCfS"
   },
   "outputs": [],
   "source": [
    "grid1_random = RandomizedSearchCV(estimator= model_rs, param_distributions= param_grid,cv=3, verbose = 0, scoring= 'roc_auc')\n",
    "grid_result1_random = grid1_random.fit(X_train, y_train)"
   ]
  },
  {
   "cell_type": "code",
   "execution_count": null,
   "metadata": {
    "id": "MQPjp_6DRSLJ"
   },
   "outputs": [],
   "source": [
    "best_model= grid_result1_random.best_estimator_"
   ]
  },
  {
   "cell_type": "code",
   "execution_count": null,
   "metadata": {
    "id": "9VWMLzpDRPkF"
   },
   "outputs": [],
   "source": [
    "y_train_pred_bm = best_model.predict(X_train)\n",
    "y_test_pred_bm = best_model.predict(X_test)\n",
    "\n",
    "y_train_proba_bm = best_model.predict_proba(X_train)\n",
    "y_test_proba_bm = best_model.predict_proba(X_test)"
   ]
  }
 ],
 "metadata": {
  "accelerator": "GPU",
  "colab": {
   "collapsed_sections": [],
   "name": "ANN_Regression_Duo_Zhou",
   "provenance": []
  },
  "kernelspec": {
   "display_name": "Python 3",
   "language": "python",
   "name": "python3"
  },
  "language_info": {
   "codemirror_mode": {
    "name": "ipython",
    "version": 3
   },
   "file_extension": ".py",
   "mimetype": "text/x-python",
   "name": "python",
   "nbconvert_exporter": "python",
   "pygments_lexer": "ipython3",
   "version": "3.7.4"
  }
 },
 "nbformat": 4,
 "nbformat_minor": 1
}
